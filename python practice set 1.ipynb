{
 "cells": [
  {
   "cell_type": "markdown",
   "id": "c76c12ed-c0b4-429e-b1b1-0b2276b2392f",
   "metadata": {},
   "source": [
    "Q1. Write a Python program that defines a function called \"add_numbers\" that takes two arguments (i.e.,\n",
    "numbers) and returns their sum. Within the function, add the two numbers together and return the result\n",
    "using the return statement. Call the function with the values 5 and 6, and print out the returned result.\n",
    "This will result in the addition of 5 and 6, with the output of the program being the sum of these two\n",
    "numbers."
   ]
  },
  {
   "cell_type": "code",
   "execution_count": 1,
   "id": "76fd86c8-2072-4072-ac7f-2a67cc792075",
   "metadata": {},
   "outputs": [
    {
     "name": "stdout",
     "output_type": "stream",
     "text": [
      "the sum of 5 + 6 is : 11\n"
     ]
    }
   ],
   "source": [
    "def add (a,b):\n",
    "    return (a+b)\n",
    "\n",
    "c=add(5,6)\n",
    "print(f\"the sum of 5 + 6 is : {c}\")"
   ]
  },
  {
   "cell_type": "markdown",
   "id": "5bd35973-e605-45c2-8bf2-d8ccabfec09d",
   "metadata": {},
   "source": [
    "Q2. Write a Python program that calculates the square root of a given number using a built-in function.\n",
    "Specifically, the program should take an integer or float input from the user, calculate its square root\n",
    "using the 'sqrt()' function from the 'math' module, and print out the result to the user. As an example,\n",
    "calculate the square root of the number 625 using this program, which should output the value of 25."
   ]
  },
  {
   "cell_type": "code",
   "execution_count": 4,
   "id": "f6fe92a2-d40c-4ba7-96bf-1432d1159c3c",
   "metadata": {},
   "outputs": [
    {
     "name": "stdin",
     "output_type": "stream",
     "text": [
      "Enter the number whose square root is to be found 625\n"
     ]
    },
    {
     "name": "stdout",
     "output_type": "stream",
     "text": [
      "the square of 625 is 25.0\n"
     ]
    }
   ],
   "source": [
    "import math\n",
    "c = int(input(\"Enter the number whose square root is to be found\"))\n",
    "print(f\"the square of {c} is {math.sqrt(c)}\")"
   ]
  },
  {
   "cell_type": "markdown",
   "id": "f40f15f3-13f7-48b0-ab3d-97bfcf54a45e",
   "metadata": {},
   "source": [
    "Q3.Write a program that prints all prime numbers between 0 to 50."
   ]
  },
  {
   "cell_type": "code",
   "execution_count": 4,
   "id": "ec8b5306-332f-4548-8915-994904d66ede",
   "metadata": {},
   "outputs": [
    {
     "name": "stdout",
     "output_type": "stream",
     "text": [
      "2\n",
      "3\n",
      "4\n",
      "5\n",
      "7\n",
      "11\n",
      "13\n",
      "17\n",
      "19\n",
      "23\n",
      "29\n",
      "31\n",
      "37\n",
      "41\n",
      "43\n",
      "47\n"
     ]
    }
   ],
   "source": [
    "def isprime(a):\n",
    "    count =0\n",
    "    if a ==1 :\n",
    "        return 0\n",
    "    elif a==2 :\n",
    "        return 1\n",
    "    else :\n",
    "        for i in range (3,a):\n",
    "            if (a%i==0):\n",
    "                return 0\n",
    "            count=count+1\n",
    "        if (count==(a-3)):\n",
    "            return 1\n",
    "for  i in range (1,50):\n",
    "    c=isprime(i)\n",
    "    if c==1:\n",
    "        print(f\"{i}\")\n",
    "    else :\n",
    "        pass"
   ]
  },
  {
   "cell_type": "markdown",
   "id": "c54c263b-cfd1-4171-ba58-5eeb44d40399",
   "metadata": {},
   "source": [
    "Q4.How can we swap the values of three variables (let's say a, b, and c) without using a fourth variable?\n",
    "For example, if we have a=5, b=8, and c=9, how can we obtain a=9, b=5, and c=8? The challenge is to\n",
    "perform this operation without using an additional variable to store any of the values during the\n",
    "swapping process."
   ]
  },
  {
   "cell_type": "code",
   "execution_count": 6,
   "id": "7ff8e2cf-42c8-42da-98dd-7ee658f69535",
   "metadata": {},
   "outputs": [
    {
     "name": "stdin",
     "output_type": "stream",
     "text": [
      "Enter the first number 1\n",
      "Enter the second number 2\n",
      "Enter the third number 3\n"
     ]
    },
    {
     "name": "stdout",
     "output_type": "stream",
     "text": [
      "3 1 2\n"
     ]
    }
   ],
   "source": [
    "a=int(input(\"Enter the first number\"))\n",
    "b=int(input(\"Enter the second number\"))\n",
    "c=int(input(\"Enter the third number\"))\n",
    "\n",
    "a=a+c\n",
    "c=a-c\n",
    "a=a-c\n",
    "b=b+c\n",
    "c=b-c\n",
    "b=b-c\n",
    "\n",
    "print(a,b,c)"
   ]
  },
  {
   "cell_type": "markdown",
   "id": "0dadcbed-6dfd-4edd-84d6-2a0972962572",
   "metadata": {},
   "source": [
    "Q5. Can you write a program that determines the nature of a given number (in this case, 87) as being\n",
    "positive, negative, or zero? The program should be designed to take the number as input and perform the\n",
    "necessary calculations to determine if the number is positive (i.e., greater than zero), negative (i.e., less\n",
    "than zero), or zero (i.e., equal to zero). The output of the program should indicate which of these three\n",
    "categories the given number falls into."
   ]
  },
  {
   "cell_type": "code",
   "execution_count": 7,
   "id": "1bb14318-5de4-4a53-bd7d-88e62951b9dc",
   "metadata": {},
   "outputs": [
    {
     "name": "stdin",
     "output_type": "stream",
     "text": [
      "Enter the number 87\n"
     ]
    },
    {
     "name": "stdout",
     "output_type": "stream",
     "text": [
      "87 is positive\n"
     ]
    }
   ],
   "source": [
    "a = int(input(\"Enter the number\"))\n",
    "if (a>0):\n",
    "    print(f\"{a} is positive\")\n",
    "elif (a<0):\n",
    "    print(f\"{a} is negative\")\n",
    "else :\n",
    "    print(f\"{a} = 0\")"
   ]
  },
  {
   "cell_type": "markdown",
   "id": "7bdb7336-8ad4-4cd3-8b0d-ea36038e7bfe",
   "metadata": {},
   "source": [
    "Q6. How can you create a program that determines whether a given number (in this case, 98) is even or\n",
    "odd? The program should be designed to take the number as input and perform the necessary\n",
    "calculations to determine whether it is divisible by two. If the number is divisible by two without leaving a\n",
    "remainder, it is an even number, and if there is a remainder, it is an odd number. The output of the\n",
    "program should indicate whether the given number is even or odd."
   ]
  },
  {
   "cell_type": "code",
   "execution_count": 8,
   "id": "264b3c5e-8819-4f5d-814e-3740447f7c5c",
   "metadata": {},
   "outputs": [
    {
     "name": "stdin",
     "output_type": "stream",
     "text": [
      "Enter the number 98\n"
     ]
    },
    {
     "name": "stdout",
     "output_type": "stream",
     "text": [
      "98 is even\n"
     ]
    }
   ],
   "source": [
    "a= int(input(\"Enter the number\"))\n",
    "if (a%2==0):\n",
    "    print(f\"{a} is even\")\n",
    "else :\n",
    "    print(f\"{a} is odd\")"
   ]
  },
  {
   "cell_type": "markdown",
   "id": "81a230e7-9cd4-4495-97aa-bc0c25096379",
   "metadata": {},
   "source": [
    "Q7.Write a program for sum of digits.the digits are 76543 and the output should be 25."
   ]
  },
  {
   "cell_type": "code",
   "execution_count": 10,
   "id": "24969230-2b4f-41c7-bbab-400a9bf60859",
   "metadata": {},
   "outputs": [
    {
     "name": "stdin",
     "output_type": "stream",
     "text": [
      "Enter the number 76543\n"
     ]
    },
    {
     "name": "stdout",
     "output_type": "stream",
     "text": [
      "25\n"
     ]
    }
   ],
   "source": [
    "a = int(input(\"Enter the number\"))\n",
    "sum=0\n",
    "while(a>0):\n",
    "    sum=sum+a%10\n",
    "    a=a//10\n",
    "print(sum)"
   ]
  },
  {
   "cell_type": "markdown",
   "id": "c54eae4e-5c19-413d-b553-4199113f3ae0",
   "metadata": {},
   "source": [
    "Q8.Write a program for reversing the given number 5436 and the output should be 6345."
   ]
  },
  {
   "cell_type": "code",
   "execution_count": 12,
   "id": "47d755b1-9092-4fd8-9362-a31adcf897bf",
   "metadata": {},
   "outputs": [
    {
     "name": "stdin",
     "output_type": "stream",
     "text": [
      "Enter the number to be reversed 5436\n"
     ]
    },
    {
     "name": "stdout",
     "output_type": "stream",
     "text": [
      "6345\n"
     ]
    }
   ],
   "source": [
    "a= int(input(\"Enter the number to be reversed\"))\n",
    "b= 0\n",
    "while(a>0):\n",
    "    b=b*10 + a%10\n",
    "    a=a//10\n",
    "print(b)"
   ]
  },
  {
   "cell_type": "markdown",
   "id": "af9e362c-8324-4cc3-bd36-4a0a1ed178ac",
   "metadata": {},
   "source": [
    "Q9.Write a program to check if a given number 371 is an Armstrong number?"
   ]
  },
  {
   "cell_type": "code",
   "execution_count": null,
   "id": "44bce7c2-ecfa-41e0-83e2-75b74705a709",
   "metadata": {},
   "outputs": [],
   "source": [
    "a = int(input(\"Enter the number\"))\n",
    "b=a\n",
    "sum=0\n",
    "while(a>0):\n",
    "    sum=sum+ ((a%10)**3)\n",
    "    a=a//10\n",
    "if (sum==b):\n",
    "    print(f\"{b} is armstrong number\")\n",
    "else :\n",
    "    print(f\"{b} is not an armstrong number\")"
   ]
  },
  {
   "cell_type": "markdown",
   "id": "0739ed8c-2462-4c92-8ba8-8847e1fc60d4",
   "metadata": {},
   "source": [
    "Q10.Write a program the given year is 1996, a leap year."
   ]
  },
  {
   "cell_type": "code",
   "execution_count": null,
   "id": "979f266d-72c3-4269-bb2e-a3a516389a31",
   "metadata": {},
   "outputs": [],
   "source": [
    "a = int(input(\"Enter the year\"))\n",
    "if (a%100==0):\n",
    "    if (a%400):\n",
    "        print(f\"{a} is a leap year\")\n",
    "    else :\n",
    "        print(f\"{a} is not a leap year\")\n",
    "else :\n",
    "    if (a%4==0):\n",
    "        print(f\"{a} is a leap year\")\n",
    "    else :\n",
    "        print(f\"{a} is not a leap year\")"
   ]
  },
  {
   "cell_type": "code",
   "execution_count": null,
   "id": "e1d89ee5-cdfd-4076-a5d9-05f5fc0dc9cc",
   "metadata": {},
   "outputs": [],
   "source": []
  }
 ],
 "metadata": {
  "kernelspec": {
   "display_name": "Python 3 (ipykernel)",
   "language": "python",
   "name": "python3"
  },
  "language_info": {
   "codemirror_mode": {
    "name": "ipython",
    "version": 3
   },
   "file_extension": ".py",
   "mimetype": "text/x-python",
   "name": "python",
   "nbconvert_exporter": "python",
   "pygments_lexer": "ipython3",
   "version": "3.10.8"
  }
 },
 "nbformat": 4,
 "nbformat_minor": 5
}
