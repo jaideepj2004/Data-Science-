{
 "cells": [
  {
   "cell_type": "markdown",
   "metadata": {},
   "source": [
    "This document covers basic file operations in Python.\n",
    "\n",
    "Q1. Opening Files\n",
    "\n",
    "Function: open()\n",
    "\n",
    "Modes:\n",
    "\n",
    "'r': Read mode (default). Opens the file for reading.\n",
    "'w': Write mode. Creates a new file or overwrites an existing file.\n",
    "'a': Append mode. Appends data to the end of an existing file or creates a new file if it doesn't exist.\n",
    "'x': Exclusive creation mode. Creates a new file and raises an error if the file already exists.\n",
    "'t': Text mode (default). Opens the file as a text file.\n",
    "'b': Binary mode. Opens the file as a binary file.\n",
    "Q2. Closing Files (close())\n",
    "\n",
    "The close() function is used to release resources associated with a file. It's important to close a file after use to prevent data loss and resource leaks.\n",
    "\n",
    "Q3. Creating and Reading a File (Example)"
   ]
  },
  {
   "cell_type": "code",
   "execution_count": 4,
   "metadata": {},
   "outputs": [
    {
     "name": "stdout",
     "output_type": "stream",
     "text": [
      "I want to become a Data Scientist\n"
     ]
    }
   ],
   "source": [
    "# Create a file and write to it\n",
    "file = open(\"my_file.txt\", \"w\")\n",
    "file.write(\"I want to become a Data Scientist\")\n",
    "file.close()\n",
    "\n",
    "# Open the file and read its contents\n",
    "file = open(\"my_file.txt\", \"r\")\n",
    "content = file.read()\n",
    "print(content)\n",
    "file.close()"
   ]
  },
  {
   "cell_type": "markdown",
   "metadata": {},
   "source": [
    "Q4. Reading from a File (read(), readline(), readlines())\n",
    "\n",
    "read(): Reads the entire contents of the file as a string.\n",
    "readline(): Reads a single line from the file.\n",
    "readlines(): Reads all lines from the file and returns them as a list.   \n",
    "Example (refer to code in Q3)\n",
    "\n",
    "Q5. Using with statement with open()\n",
    "\n",
    "The with statement ensures automatic closing of the file when the code block within it finishes. This helps prevent resource leaks and improves code readability."
   ]
  },
  {
   "cell_type": "code",
   "execution_count": 5,
   "metadata": {},
   "outputs": [
    {
     "name": "stdout",
     "output_type": "stream",
     "text": [
      "I want to become a Data Scientist\n"
     ]
    }
   ],
   "source": [
    "with open(\"my_file.txt\", \"r\") as file:\n",
    "    content = file.read()\n",
    "    print(content)"
   ]
  },
  {
   "cell_type": "code",
   "execution_count": 6,
   "metadata": {},
   "outputs": [],
   "source": [
    "# Q6. Writing to a File (write(), writelines())\n",
    "\n",
    "# write(): Writes a string to the file.\n",
    "# writelines(): Writes a list of strings to the file, adding a newline after each string.\n",
    "\n",
    "file = open(\"my_file.txt\", \"w\")\n",
    "file.write(\"Hello, world!\\n\")\n",
    "\n",
    "# Write a list of strings\n",
    "lines = [\"Line 1\", \"Line 2\", \"Line 3\"]\n",
    "file.writelines(lines)\n",
    "\n",
    "file.close()"
   ]
  },
  {
   "cell_type": "code",
   "execution_count": null,
   "metadata": {},
   "outputs": [],
   "source": []
  }
 ],
 "metadata": {
  "kernelspec": {
   "display_name": "Python 3",
   "language": "python",
   "name": "python3"
  },
  "language_info": {
   "codemirror_mode": {
    "name": "ipython",
    "version": 3
   },
   "file_extension": ".py",
   "mimetype": "text/x-python",
   "name": "python",
   "nbconvert_exporter": "python",
   "pygments_lexer": "ipython3",
   "version": "3.11.9"
  }
 },
 "nbformat": 4,
 "nbformat_minor": 2
}
