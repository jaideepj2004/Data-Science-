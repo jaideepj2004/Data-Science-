{
 "cells": [
  {
   "cell_type": "code",
   "execution_count": 1,
   "metadata": {},
   "outputs": [],
   "source": [
    "import multiprocessing\n",
    "\n",
    "# Q1: What is multiprocessing in python? Why is it useful?\n",
    "\n",
    "# Multiprocessing in Python allows multiple processes to run concurrently on a multi-core system.\n",
    "# It is used for CPU-intensive tasks and to isolate processes.\n",
    "\n",
    "# Q2. What are the differences between multiprocessing and multithreading?\n",
    "\n",
    "# Multiprocessing:\n",
    "#   - Each process has its own memory space.\n",
    "#   - Generally better for CPU-intensive tasks.\n",
    "#   - More complex to manage.\n",
    "#   - Safer for tasks that modify shared data.\n",
    "\n",
    "# Multithreading:\n",
    "#   - Threads share the same memory space.\n",
    "#   - Can be better for I/O-bound tasks, but limited by GIL.\n",
    "#   - Simpler to manage, but prone to race conditions and deadlocks.\n",
    "\n",
    "# Q3. Write a python code to create a process using the multiprocessing module.\n",
    "\n",
    "def target_function():\n",
    "    print(\"This is a child process.\")\n",
    "\n",
    "if __name__ == \"__main__\":\n",
    "    p = multiprocessing.Process(target=target_function)\n",
    "    p.start()\n",
    "    p.join()\n",
    "\n",
    "# Q4. What is a multiprocessing pool in python? Why is it used?\n",
    "\n",
    "# A multiprocessing pool is a collection of worker processes for efficient task distribution.\n",
    "\n",
    "# Q5. How can we create a pool of worker processes in python using the multiprocessing module?\n",
    "\n",
    "def target_function(x):\n",
    "    return x * x\n",
    "\n",
    "if __name__ == \"__main__\":\n",
    "    with multiprocessing.Pool() as pool:\n",
    "        results = pool.map(target_function, [1, 2, 3, 4, 5])\n",
    "    print(results)\n",
    "\n",
    "# Q6. Write a python program to create 4 processes, each process should print a different number using the\n",
    "# multiprocessing module in python.\n",
    "\n",
    "def print_number(number):\n",
    "    print(f\"Process {number}: {number}\")\n",
    "\n",
    "if __name__ == \"__main__\":\n",
    "    with multiprocessing.Pool(processes=4) as pool:\n",
    "        pool.map(print_number, [1, 2, 3, 4])"
   ]
  },
  {
   "cell_type": "code",
   "execution_count": null,
   "metadata": {},
   "outputs": [],
   "source": []
  }
 ],
 "metadata": {
  "kernelspec": {
   "display_name": "Python 3",
   "language": "python",
   "name": "python3"
  },
  "language_info": {
   "codemirror_mode": {
    "name": "ipython",
    "version": 3
   },
   "file_extension": ".py",
   "mimetype": "text/x-python",
   "name": "python",
   "nbconvert_exporter": "python",
   "pygments_lexer": "ipython3",
   "version": "3.11.9"
  }
 },
 "nbformat": 4,
 "nbformat_minor": 2
}
