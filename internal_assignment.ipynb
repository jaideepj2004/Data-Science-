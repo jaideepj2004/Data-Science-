{
 "cells": [
  {
   "cell_type": "code",
   "execution_count": 13,
   "metadata": {},
   "outputs": [
    {
     "name": "stdout",
     "output_type": "stream",
     "text": [
      "   sex_female  sex_male\n",
      "0         1.0       0.0\n",
      "1         0.0       1.0\n",
      "2         0.0       1.0\n",
      "3         0.0       1.0\n",
      "4         1.0       0.0\n"
     ]
    },
    {
     "name": "stderr",
     "output_type": "stream",
     "text": [
      "C:\\Users\\jaide\\AppData\\Local\\Packages\\PythonSoftwareFoundation.Python.3.11_qbz5n2kfra8p0\\LocalCache\\local-packages\\Python311\\site-packages\\sklearn\\preprocessing\\_encoders.py:975: FutureWarning: `sparse` was renamed to `sparse_output` in version 1.2 and will be removed in 1.4. `sparse_output` is ignored unless you leave `sparse` to its default value.\n",
      "  warnings.warn(\n"
     ]
    }
   ],
   "source": [
    "import seaborn as sns\n",
    "import pandas as pd\n",
    "from sklearn.preprocessing import OneHotEncoder\n",
    "\n",
    "# Load the tips dataset\n",
    "tips = sns.load_dataset(\"tips\")\n",
    "\n",
    "# Create a DataFrame with the \"sex\" column\n",
    "sex_df = pd.DataFrame(tips['sex'], columns=['sex'])\n",
    "\n",
    "# Initialize the OneHotEncoder with the desired categories\n",
    "encoder = OneHotEncoder(categories=[['Female', 'Male']], sparse=False)\n",
    "\n",
    "# Fit and transform the \"sex\" column\n",
    "sex_encoded = encoder.fit_transform(sex_df[['sex']])\n",
    "\n",
    "# Create a DataFrame with the one-hot encoded \"sex\" column\n",
    "sex_encoded_df = pd.DataFrame(sex_encoded, columns=['sex_female', 'sex_male'])\n",
    "\n",
    "# Display the first few rows of the new dataset\n",
    "new_dataset = sex_encoded_df.copy()\n",
    "print(new_dataset.head())\n"
   ]
  },
  {
   "cell_type": "code",
   "execution_count": null,
   "metadata": {},
   "outputs": [],
   "source": []
  }
 ],
 "metadata": {
  "kernelspec": {
   "display_name": "Python 3",
   "language": "python",
   "name": "python3"
  },
  "language_info": {
   "codemirror_mode": {
    "name": "ipython",
    "version": 3
   },
   "file_extension": ".py",
   "mimetype": "text/x-python",
   "name": "python",
   "nbconvert_exporter": "python",
   "pygments_lexer": "ipython3",
   "version": "3.11.6"
  }
 },
 "nbformat": 4,
 "nbformat_minor": 2
}
