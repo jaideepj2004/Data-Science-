{
 "cells": [
  {
   "cell_type": "markdown",
   "id": "d5801a01-102c-4c65-a0da-51dd34994d99",
   "metadata": {},
   "source": [
    "Ans 1 . A tuple is a form of data structure that stores all the types of data , however these data cannot be changed once the tuple is created, thus we say that tuple is immutable.We have lesser number of function inside a tuple than a lit.A tuple is created by usint parenthesis and all the data entered are separated by a comma . We cannot store a list inside a tuple but we can store set and dictionary inside a tuple."
   ]
  },
  {
   "cell_type": "markdown",
   "id": "522c3650-b610-4185-80bd-a777f5763f66",
   "metadata": {},
   "source": [
    "Ans 2. There are only 2 tuple method in tuple and they are count and index , tuple has only two methods or inbuilt function whereas list has many methods its because tuple is immutable whereas list is mutab"
   ]
  },
  {
   "cell_type": "code",
   "execution_count": 26,
   "id": "00283076-26a9-4403-901b-343fba9dcd28",
   "metadata": {},
   "outputs": [
    {
     "name": "stdout",
     "output_type": "stream",
     "text": [
      "1\n",
      "0\n",
      "1\n"
     ]
    },
    {
     "ename": "ValueError",
     "evalue": "tuple.index(x): x not in tuple",
     "output_type": "error",
     "traceback": [
      "\u001b[0;31m---------------------------------------------------------------------------\u001b[0m",
      "\u001b[0;31mValueError\u001b[0m                                Traceback (most recent call last)",
      "Cell \u001b[0;32mIn[26], line 17\u001b[0m\n\u001b[1;32m     10\u001b[0m \u001b[38;5;124;03m\"\"\"second tuple method is index it returns the first index of the element which is input by the user , eg if there \u001b[39;00m\n\u001b[1;32m     11\u001b[0m \u001b[38;5;124;03mare multiple 'a's that are enetered inside a tuple and we used the index inbuilt function to find the index of a \u001b[39;00m\n\u001b[1;32m     12\u001b[0m \u001b[38;5;124;03mthan it will give the output as the first index of a that is reached while starting from the zeroth index and \u001b[39;00m\n\u001b[1;32m     13\u001b[0m \u001b[38;5;124;03mmoving in the increasing direction of the index if the element given as input for the index function is not present \u001b[39;00m\n\u001b[1;32m     14\u001b[0m \u001b[38;5;124;03minside the tuple than it wont return -1 rather it will give error\"\"\"\u001b[39;00m\n\u001b[1;32m     16\u001b[0m \u001b[38;5;28mprint\u001b[39m(t\u001b[38;5;241m.\u001b[39mindex(\u001b[38;5;124m'\u001b[39m\u001b[38;5;124mjaideep\u001b[39m\u001b[38;5;124m'\u001b[39m))\n\u001b[0;32m---> 17\u001b[0m \u001b[38;5;28mprint\u001b[39m(\u001b[43mt\u001b[49m\u001b[38;5;241;43m.\u001b[39;49m\u001b[43mindex\u001b[49m\u001b[43m(\u001b[49m\u001b[38;5;124;43m'\u001b[39;49m\u001b[38;5;124;43mjhadskj\u001b[39;49m\u001b[38;5;124;43m'\u001b[39;49m\u001b[43m)\u001b[49m)\n",
      "\u001b[0;31mValueError\u001b[0m: tuple.index(x): x not in tuple"
     ]
    }
   ],
   "source": [
    "# example 0f both the tuple method \n",
    "\n",
    "\"\"\" first method is count and it returns the number of occurence of the character \"\"\"\n",
    "\n",
    "t = ('name','jaideep',{'harward'},{'age' : '20'})\n",
    "print(t.count('name'))\n",
    "print(t.count('kjadsl'))\n",
    "\n",
    "\n",
    "\"\"\"second tuple method is index it returns the first index of the element which is input by the user , eg if there \n",
    "are multiple 'a's that are enetered inside a tuple and we used the index inbuilt function to find the index of a \n",
    "than it will give the output as the first index of a that is reached while starting from the zeroth index and \n",
    "moving in the increasing direction of the index if the element given as input for the index function is not present \n",
    "inside the tuple than it wont return -1 rather it will give error\"\"\"\n",
    "\n",
    "print(t.index('jaideep'))\n",
    "print(t.index('jhadskj'))"
   ]
  },
  {
   "cell_type": "markdown",
   "id": "242addf0-aa89-4773-ae0d-5e2b5ddf7946",
   "metadata": {},
   "source": [
    "Ans 3. Sets is used to remove duplicate elements from the given input , it means that if a single element is entered multiple times still set will take it only one time as an input "
   ]
  },
  {
   "cell_type": "code",
   "execution_count": 31,
   "id": "1837c162-9407-476d-9041-a2ae8b392ece",
   "metadata": {},
   "outputs": [
    {
     "name": "stdout",
     "output_type": "stream",
     "text": [
      "{1, 2, 3, 4}\n"
     ]
    }
   ],
   "source": [
    "\"\"\" here we have an example in which the given list is converted into the set\"\"\"\n",
    "\n",
    "List = [1, 1, 1, 2, 1, 3, 1, 4, 2, 1, 2, 2, 2, 3, 2, 4, 3, 1, 3, 2, 3, 3, 3, 4, 4, 1, 4, 2, 4, 3, 4, 4]\n",
    "s=set( [1, 1, 1, 2, 1, 3, 1, 4, 2, 1, 2, 2, 2, 3, 2, 4, 3, 1, 3, 2, 3, 3, 3, 4, 4, 1, 4, 2, 4, 3, 4, 4])\n",
    "print(s)"
   ]
  },
  {
   "cell_type": "markdown",
   "id": "6c919aa0-9df0-46b6-af14-e1cee6ac238c",
   "metadata": {},
   "source": [
    "Ans 4. Update doesn't returns any value , it just adds the missing element in the given set and updates the given set only that is it changes the given set whereas union created a new set whereas it takes the union of the two sets that are entered"
   ]
  },
  {
   "cell_type": "code",
   "execution_count": 33,
   "id": "aa2814f2-dc74-40bb-a81a-20bc7f55a5ec",
   "metadata": {},
   "outputs": [
    {
     "name": "stdout",
     "output_type": "stream",
     "text": [
      "None\n",
      "{20, 'name', 'how much ever i try to create theories but it will push me in my present , however constatn trying can make me effortlessly work towardds my goal ', 'dont give up', 'jaideep'}\n"
     ]
    }
   ],
   "source": [
    "s = {'name','jaideep',20}\n",
    "z = {'dont give up','how much ever i try to create theories but it will push me in my present , however constatn trying can make me effortlessly work towardds my goal '}\n",
    "print(s.update(z))\n",
    "print(s.union(z))\n"
   ]
  },
  {
   "cell_type": "markdown",
   "id": "35771817-9b8b-4c43-834d-b205d8d0abbf",
   "metadata": {},
   "source": [
    "Ans 5 . A dictionary is a data set that is used to store a key and its corresponding value.A dictionary is an ordered collection as it gives a particular name for a particular key "
   ]
  },
  {
   "cell_type": "code",
   "execution_count": 2,
   "id": "63dd1ee2-a564-469a-804e-3ce00b32c3f0",
   "metadata": {},
   "outputs": [
    {
     "name": "stdout",
     "output_type": "stream",
     "text": [
      "{'name': 'jaideep jaiswal', 'roll number': '202211032', 'age': '20', 'weakness': 'getting very easily inside my brain turboid and losing my day'}\n"
     ]
    }
   ],
   "source": [
    "# example of dictionary #\n",
    "\n",
    "a = {'name':\"jaideep jaiswal\",'roll number': '202211032','age':'20','weakness':'getting very easily inside my brain turboid and losing my day'}\n",
    "print(a)"
   ]
  },
  {
   "cell_type": "code",
   "execution_count": null,
   "id": "fc0940ad-453b-4201-8301-1f60831ebacf",
   "metadata": {},
   "outputs": [],
   "source": []
  },
  {
   "cell_type": "markdown",
   "id": "fb4a4a5f-7612-474a-a7aa-29efa5756dbb",
   "metadata": {},
   "source": [
    "Ans 6. Yes we can create a nested dictionary , following example interpretates it "
   ]
  },
  {
   "cell_type": "code",
   "execution_count": 5,
   "id": "301bb927-5756-4296-ab0d-110f067cd7e3",
   "metadata": {},
   "outputs": [
    {
     "name": "stdout",
     "output_type": "stream",
     "text": [
      "{'name': 'Jaideep Jaiswal', 'age': '20', 'competition': 'kaggle world rank top 1 percent on paper', 'nested ': {'knested': 'dictionary'}}\n"
     ]
    }
   ],
   "source": [
    "b={'name':'Jaideep Jaiswal','age':'20','competition':'kaggle world rank top 1 percent on paper','nested ':{\"knested\": \"dictionary\"}}\n",
    "print(b)"
   ]
  },
  {
   "cell_type": "code",
   "execution_count": null,
   "id": "8cca7360-81da-4411-b6e6-70c0a7de8d96",
   "metadata": {},
   "outputs": [],
   "source": []
  },
  {
   "cell_type": "markdown",
   "id": "5ee830d1-db0c-4afc-a422-7a2a296ee941",
   "metadata": {},
   "source": [
    "Ans 7. Set default function returns the value of the key entered if the key is present inside the dictionary and it wont update the dictionary with the given value of the key otherwise it will update the dictionary with the given key and value."
   ]
  },
  {
   "cell_type": "code",
   "execution_count": 7,
   "id": "e5940fdf-3232-46a9-9a68-338d984feeb2",
   "metadata": {},
   "outputs": [
    {
     "name": "stdout",
     "output_type": "stream",
     "text": [
      "{'name': 'Jaideep Jaiswal', 'age': '20', 'competition': 'kaggle world rank top 1 percent on paper', 'nested ': {'knested': 'dictionary'}}\n",
      "Jaideep Jaiswal\n",
      "{'name': 'Jaideep Jaiswal', 'age': '20', 'competition': 'kaggle world rank top 1 percent on paper', 'nested ': {'knested': 'dictionary'}}\n",
      "jsfds\n",
      "{'name': 'Jaideep Jaiswal', 'age': '20', 'competition': 'kaggle world rank top 1 percent on paper', 'nested ': {'knested': 'dictionary'}, 'asdfklj': 'jsfds'}\n"
     ]
    }
   ],
   "source": [
    "b={'name':'Jaideep Jaiswal','age':'20','competition':'kaggle world rank top 1 percent on paper','nested ':{\"knested\": \"dictionary\"}}\n",
    "print(b)\n",
    "print(b.setdefault('name','ayush gupta'))\n",
    "print(b)\n",
    "print(b.setdefault('asdfklj','jsfds'))\n",
    "print(b)"
   ]
  },
  {
   "cell_type": "code",
   "execution_count": null,
   "id": "ef14fb82-7eab-4108-8537-7e0d3c63215c",
   "metadata": {},
   "outputs": [],
   "source": []
  },
  {
   "cell_type": "markdown",
   "id": "d97d7038-f727-4aed-88a3-c6862a2ba4b5",
   "metadata": {},
   "source": [
    "Ans 8. The three view objects in dictionary are items,values and keys , by using items the returned value of the function is the keys and its corresponding value which are present inside a tuple and all the tuple containing keys and the value are present inside a list , whereas for values the returned value is a list containing all the values , for keys the returned value is a list containing the keys which are originally present inside a list"
   ]
  },
  {
   "cell_type": "code",
   "execution_count": 9,
   "id": "3f25e178-1720-4759-a2d3-2792562638c1",
   "metadata": {},
   "outputs": [
    {
     "name": "stdout",
     "output_type": "stream",
     "text": [
      "{'name': 'jaideep jaiswal', 'roll number': '202211032', 'age': '20', 'weakness': 'getting very easily inside my brain turboid and losing my day'}\n",
      "dict_keys(['name', 'roll number', 'age', 'weakness'])\n",
      "dict_values(['jaideep jaiswal', '202211032', '20', 'getting very easily inside my brain turboid and losing my day'])\n",
      "dict_items([('name', 'jaideep jaiswal'), ('roll number', '202211032'), ('age', '20'), ('weakness', 'getting very easily inside my brain turboid and losing my day')])\n"
     ]
    }
   ],
   "source": [
    "a = {'name':\"jaideep jaiswal\",'roll number': '202211032','age':'20','weakness':'getting very easily inside my brain turboid and losing my day'}\n",
    "print(a)\n",
    "\n",
    "print(a.keys())\n",
    "print(a.values())\n",
    "print(a.items())"
   ]
  },
  {
   "cell_type": "code",
   "execution_count": null,
   "id": "d273ba2a-d8e8-4639-8918-6ad43a89cb27",
   "metadata": {},
   "outputs": [],
   "source": []
  }
 ],
 "metadata": {
  "kernelspec": {
   "display_name": "Python 3 (ipykernel)",
   "language": "python",
   "name": "python3"
  },
  "language_info": {
   "codemirror_mode": {
    "name": "ipython",
    "version": 3
   },
   "file_extension": ".py",
   "mimetype": "text/x-python",
   "name": "python",
   "nbconvert_exporter": "python",
   "pygments_lexer": "ipython3",
   "version": "3.10.8"
  }
 },
 "nbformat": 4,
 "nbformat_minor": 5
}
