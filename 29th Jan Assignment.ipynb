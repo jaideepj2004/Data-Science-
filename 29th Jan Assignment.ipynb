{
 "cells": [
  {
   "cell_type": "markdown",
   "id": "7c4804e0-4227-4cb3-884e-20df1f6be126",
   "metadata": {},
   "source": [
    "Q. Who developed python programming language?"
   ]
  },
  {
   "cell_type": "markdown",
   "id": "20446757-509b-4878-96b9-a03da7a262f0",
   "metadata": {},
   "source": [
    "Ans. Python programming language was developed by facebook and it is an open source which is now developed by open source contributor"
   ]
  },
  {
   "cell_type": "markdown",
   "id": "27bf91c5-05a3-49dd-857a-375c914d3776",
   "metadata": {},
   "source": [
    "Q. Which type of programming does python supports?"
   ]
  },
  {
   "cell_type": "markdown",
   "id": "8b488db0-ef54-4507-a6eb-c9431218496a",
   "metadata": {},
   "source": [
    "Ans. Python supports Object Oriented Programming"
   ]
  },
  {
   "cell_type": "markdown",
   "id": "d43b0996-48e3-4d5c-887a-6f8879f7386a",
   "metadata": {},
   "source": [
    "Q. Is Python case sensitive while dealing with identifiers?"
   ]
  },
  {
   "cell_type": "markdown",
   "id": "c189ba44-bc01-489f-983c-c18655c4f519",
   "metadata": {},
   "source": [
    "Ans. Yes, Python is case sensitive while dealing with identifiers."
   ]
  },
  {
   "cell_type": "markdown",
   "id": "d59b140d-8c7e-4698-a245-3b0b3fee8f11",
   "metadata": {},
   "source": [
    "Q. What is the correct extension for Python?"
   ]
  },
  {
   "cell_type": "markdown",
   "id": "99890906-b72e-4122-ad89-cbec6bdb0917",
   "metadata": {},
   "source": [
    "Ans. The correct extension for Python is .ipy"
   ]
  },
  {
   "cell_type": "markdown",
   "id": "78d1f2c6-07ac-4b71-b1de-da337402d539",
   "metadata": {},
   "source": [
    "Q. Is Python code compiled or interpreted?"
   ]
  },
  {
   "cell_type": "markdown",
   "id": "965c6936-075d-4d78-9a5e-ff1eea7e955f",
   "metadata": {},
   "source": [
    "Ans. Python code is both compiled and interpretated."
   ]
  },
  {
   "cell_type": "raw",
   "id": "dc82d025-5742-4d9d-8f34-aefc46ef54e6",
   "metadata": {},
   "source": [
    "Q. Name a few block of code used to define in python ?"
   ]
  },
  {
   "cell_type": "code",
   "execution_count": 1,
   "id": "dc94112b-a9ec-4eef-ade5-898d62989024",
   "metadata": {},
   "outputs": [
    {
     "name": "stdout",
     "output_type": "stream",
     "text": [
      "Hello World\n"
     ]
    }
   ],
   "source": [
    "# Ans . \n",
    "\n",
    "print(\"Hello World\")"
   ]
  },
  {
   "cell_type": "markdown",
   "id": "bb4fcbde-e545-4475-9967-8bf43f44bf12",
   "metadata": {},
   "source": [
    "Q. State a character used to define a single line comment in python?"
   ]
  },
  {
   "cell_type": "markdown",
   "id": "23b6cc56-6a91-47a8-a2d1-5ce1f3e38f38",
   "metadata": {},
   "source": [
    "Ans. The character that is used to define a single line comment in python is #"
   ]
  },
  {
   "cell_type": "markdown",
   "id": "3085580e-d983-4357-8c4f-402c23ebabff",
   "metadata": {},
   "source": [
    "Q. Mention function which helps us to find the version of python that we are currently working on?"
   ]
  },
  {
   "cell_type": "markdown",
   "id": "4c0655e3-c19a-43f6-8b28-229e7b214f8e",
   "metadata": {},
   "source": [
    "Ans. The function sys.version is used to find the current version of python on which we are working, below is the example for the same"
   ]
  },
  {
   "cell_type": "code",
   "execution_count": 7,
   "id": "2dceaadc-d15f-4a95-9564-411869a9ff36",
   "metadata": {},
   "outputs": [
    {
     "data": {
      "text/plain": [
       "'3.10.8 | packaged by conda-forge | (main, Nov 22 2022, 08:26:04) [GCC 10.4.0]'"
      ]
     },
     "execution_count": 7,
     "metadata": {},
     "output_type": "execute_result"
    }
   ],
   "source": [
    "import sys\n",
    "sys.version"
   ]
  },
  {
   "cell_type": "markdown",
   "id": "ef1615db-e0b4-4991-88ba-0c5f1678118b",
   "metadata": {},
   "source": [
    "Q.Python helps to create some anonymous function during the runtime called?"
   ]
  },
  {
   "cell_type": "markdown",
   "id": "1a20a824-37a3-4561-bd36-6b899b83559b",
   "metadata": {},
   "source": [
    "Ans.lambda"
   ]
  },
  {
   "cell_type": "markdown",
   "id": "f4f91e7d-86e4-4442-bea4-a17cf995122a",
   "metadata": {},
   "source": [
    "Q. What does pip stand for python?"
   ]
  },
  {
   "cell_type": "markdown",
   "id": "390e22c5-3d9e-483f-894b-01a94e51f527",
   "metadata": {},
   "source": [
    "Ans. pip stands for pip installed package in python"
   ]
  },
  {
   "cell_type": "raw",
   "id": "7eac34a8-a161-4317-bd9b-38cc56de439e",
   "metadata": {},
   "source": [
    "Q.Mention a few built in function in python?\n",
    "\n",
    "Ans. A few of the built in function in python are __init__ , print,.append,.sort,.isupper,.islower,etc"
   ]
  },
  {
   "cell_type": "markdown",
   "id": "09c05cc5-fdbc-4ae2-b564-b6d01b237a43",
   "metadata": {},
   "source": [
    "Q. What is the maximum possible lenght for an identifier in python ?\n",
    "Ans. The maximum possible lenght for an identifier in python is 79 character."
   ]
  },
  {
   "cell_type": "markdown",
   "id": "83fdc6a7-916d-4517-85f4-085d1c00cb13",
   "metadata": {},
   "source": [
    "Q. What are the benefits of using python ?\n",
    "\n",
    "Ans. The benefits of using python are as follows:\n",
    "1. It is easy to write an more close to human interpretive language than compiled language like C++ and Java\n",
    "2. It has many inbuilt libraries \n",
    "3. It has many inbuilt function \n",
    "4. It is an developed by open source contributers"
   ]
  },
  {
   "cell_type": "markdown",
   "id": "d8c1c73b-0f00-4ffd-983f-e7ee927ca958",
   "metadata": {},
   "source": [
    "Q. How is memory managed in python ?\n",
    "\n",
    "Ans. Memory is dynamically managed in python."
   ]
  },
  {
   "cell_type": "markdown",
   "id": "1c77787d-8817-49b6-84d7-4741461066f4",
   "metadata": {},
   "source": [
    "Q. How to install python in windows and set path variables?\n",
    "Ans. We can install vs code and set copy the path of the bin folder which is present inside library folder and than paste it in\n",
    "environment variables-- user variable"
   ]
  },
  {
   "cell_type": "markdown",
   "id": "cfb1dce8-e7cd-4c39-ab11-e1c4257011d9",
   "metadata": {},
   "source": [
    "Q. Is identation required in python ?\n",
    "\n",
    "Ans. Yes, identation is required in python."
   ]
  }
 ],
 "metadata": {
  "kernelspec": {
   "display_name": "Python 3 (ipykernel)",
   "language": "python",
   "name": "python3"
  },
  "language_info": {
   "codemirror_mode": {
    "name": "ipython",
    "version": 3
   },
   "file_extension": ".py",
   "mimetype": "text/x-python",
   "name": "python",
   "nbconvert_exporter": "python",
   "pygments_lexer": "ipython3",
   "version": "3.10.8"
  }
 },
 "nbformat": 4,
 "nbformat_minor": 5
}
