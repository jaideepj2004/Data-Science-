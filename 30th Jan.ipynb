{
 "cells": [
  {
   "cell_type": "code",
   "execution_count": 2,
   "id": "8be497c8-209a-4bad-8887-04a872a7835f",
   "metadata": {},
   "outputs": [
    {
     "name": "stdin",
     "output_type": "stream",
     "text": [
      "Enter your marks 80\n"
     ]
    },
    {
     "name": "stdout",
     "output_type": "stream",
     "text": [
      "C\n"
     ]
    }
   ],
   "source": [
    "# Q1.\n",
    "\n",
    "a = int(input(\"Enter your marks\"))\n",
    "if a>90 :\n",
    "    print(\"A\")\n",
    "elif a>80 and a<=90:\n",
    "    print(\"B\")\n",
    "elif a<=80 and a>=60 :\n",
    "    print(\"C\")\n",
    "elif a<60:\n",
    "    print(\"D\")"
   ]
  },
  {
   "cell_type": "code",
   "execution_count": 5,
   "id": "52613512-6ad7-473d-976e-2a2927edc8a3",
   "metadata": {},
   "outputs": [
    {
     "name": "stdin",
     "output_type": "stream",
     "text": [
      "Enter the cost price of your bike 1000000\n"
     ]
    },
    {
     "name": "stdout",
     "output_type": "stream",
     "text": [
      "15%\n"
     ]
    }
   ],
   "source": [
    "# Q2.\n",
    "\n",
    "b=int(input(\"Enter the cost price of your bike\"))\n",
    "if b <= 50000:\n",
    "    print(\"5%\")\n",
    "elif b>50000 and b<=100000:\n",
    "    print(\"10%\")\n",
    "elif b>100000:\n",
    "          print(\"15%\")"
   ]
  },
  {
   "cell_type": "code",
   "execution_count": null,
   "id": "54cf4e5d-bfef-4d03-b3d7-7a0a76d169c2",
   "metadata": {},
   "outputs": [],
   "source": [
    "#Q3\n",
    "\n",
    "c = str(input(\"Enter the name of the city\"))\n",
    "if c ==\"Delhi\":\n",
    "    print(\"Red fort\")\n",
    "elif c == \"Agra\":\n",
    "    print(\"Taj Mahal\")\n",
    "elif c==\"Jaipur\":\n",
    "    print(\"Jal Mahal\")"
   ]
  },
  {
   "cell_type": "code",
   "execution_count": null,
   "id": "130e25e0-cf22-4362-b93a-42a52064291f",
   "metadata": {},
   "outputs": [],
   "source": [
    "d = int(input(\"Enter the number\"))\n",
    "count=0\n",
    "while ( d>10):\n",
    "    if d%3==0:\n",
    "     count=count+1\n",
    "    d=d//3\n",
    "print(count)"
   ]
  },
  {
   "cell_type": "markdown",
   "id": "1adb4403-d13f-47b9-8c01-b17c23fd38b4",
   "metadata": {},
   "source": [
    "Q. Why and when we use while loop give detailed explanation with detailed explanation and suitable example?\n",
    "\n",
    "Ans. We use while loop when we dont know that how many times the loop should be executed but we know the condition based on which the loop should be iterated , below code illusrates the same"
   ]
  },
  {
   "cell_type": "code",
   "execution_count": null,
   "id": "b7f759e5-ddf9-4fc4-9026-620b69cf4fe2",
   "metadata": {},
   "outputs": [],
   "source": [
    "# its a program to find the quotient of a number when it is divided by 2 by using while loop\n",
    "\n",
    "a = int(input())\n",
    "q=0\n",
    "while (a>1):\n",
    "    a=a/2\n",
    "    q++\n",
    "print(q)"
   ]
  },
  {
   "cell_type": "markdown",
   "id": "1ba03efd-855f-4640-9ff0-0b2e2fc485cb",
   "metadata": {},
   "source": [
    "Q.Use nested loops to print three different pattern"
   ]
  },
  {
   "cell_type": "raw",
   "id": "f809e8dc-650e-4ade-ab07-effbb25a5979",
   "metadata": {},
   "source": [
    "   *\n",
    "  ***\n",
    " *****"
   ]
  },
  {
   "cell_type": "code",
   "execution_count": null,
   "id": "e936eadc-61ed-40ab-b0b9-195dea9560ec",
   "metadata": {},
   "outputs": [],
   "source": [
    "a = int (input())\n",
    "b=a\n",
    "c=1\n",
    "for i in range (1,b-c):\n",
    "     print(\" \",end='')\n",
    "     for j in range (1,2*j-1):\n",
    "       print(\"*\",end='')\n",
    "     print(\"\")\n",
    "     c=c-1"
   ]
  },
  {
   "cell_type": "code",
   "execution_count": null,
   "id": "3eb951b4-6aff-46e0-aee4-7c5092a475f2",
   "metadata": {},
   "outputs": [],
   "source": [
    "a= int(input())\n",
    "for i range (a):\n",
    "    print(\"*\",end='')\n",
    "    for j in range (i):\n",
    "        print(\"&\")\n",
    "        \n",
    "    print(\"\")\n",
    "    "
   ]
  },
  {
   "cell_type": "code",
   "execution_count": null,
   "id": "dcdd6302-70dc-485d-ae05-e80aa576781c",
   "metadata": {},
   "outputs": [],
   "source": [
    "a=int(input())\n",
    "for i range (a):\n",
    "    for j in range (i):\n",
    "        print(a,end='')\n",
    "    print(\"\")"
   ]
  },
  {
   "cell_type": "markdown",
   "id": "3b3e9c33-ccc7-4f82-91d8-ec6d4978f2d4",
   "metadata": {},
   "source": [
    "Q.Reverse a while loop to display numbers from 10 to 1\n"
   ]
  },
  {
   "cell_type": "code",
   "execution_count": null,
   "id": "bbfb3fac-17c4-44c2-8bd3-3f4b0a952fab",
   "metadata": {},
   "outputs": [],
   "source": [
    "i=10\n",
    "while(i>=1):\n",
    "    print(i)\n",
    "    i=i-1"
   ]
  },
  {
   "cell_type": "markdown",
   "id": "b278af01-39ff-41cc-8ba1-8bb660198a48",
   "metadata": {},
   "source": [
    "Q.Reverse a while to print numbers from 10 to 1"
   ]
  },
  {
   "cell_type": "code",
   "execution_count": null,
   "id": "a1d4ddc1-7121-4ff7-9f23-14207a439c73",
   "metadata": {},
   "outputs": [],
   "source": [
    "i=10\n",
    "while(i>=1):\n",
    "    print(i)\n",
    "    i=i-1"
   ]
  },
  {
   "cell_type": "code",
   "execution_count": null,
   "id": "15240c0c-9b50-4390-9948-d0cf0a0ad57f",
   "metadata": {},
   "outputs": [],
   "source": []
  }
 ],
 "metadata": {
  "kernelspec": {
   "display_name": "Python 3 (ipykernel)",
   "language": "python",
   "name": "python3"
  },
  "language_info": {
   "codemirror_mode": {
    "name": "ipython",
    "version": 3
   },
   "file_extension": ".py",
   "mimetype": "text/x-python",
   "name": "python",
   "nbconvert_exporter": "python",
   "pygments_lexer": "ipython3",
   "version": "3.10.8"
  }
 },
 "nbformat": 4,
 "nbformat_minor": 5
}
