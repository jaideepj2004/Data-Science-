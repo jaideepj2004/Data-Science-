{
 "cells": [
  {
   "cell_type": "markdown",
   "metadata": {},
   "source": [
    "Q1: What is Estimation Statistics? Explain point estimate and interval estimate.\n",
    "\n",
    "-> Estimation Statistics is used to draw the inferences for the unknown population data by using the sample population data. In point esitmate we get a single estimate value for an unknow population data using the sample data for in interval estimate we get the value for in a range for the unknown population data using the known sample data\n",
    "\n",
    "Q2. Write a Python function to estimate the population mean using a sample mean and standard\n",
    "deviation.\n"
   ]
  },
  {
   "cell_type": "code",
   "execution_count": null,
   "metadata": {},
   "outputs": [
    {
     "name": "stdout",
     "output_type": "stream",
     "text": [
      "Selected numbers: [216, 80, 508, 168, 448, 604, 666, 395, 491, 872, 567, 515, 852, 595, 6, 860, 65, 781, 420, 800, 974, 322, 187, 367, 715, 923, 335, 407, 767, 534, 380, 707, 920, 671, 335, 133, 975, 714, 817, 596, 554, 442, 23, 215, 388, 439, 890, 862, 92, 245, 103, 123, 714, 856, 65, 100, 772, 947, 350, 212, 6, 409, 367, 202, 469, 118, 124, 928, 795, 256, 650, 486, 137, 224, 198, 597, 92, 609, 558, 674, 276, 124, 211, 515, 836, 146, 546, 254, 393, 190, 786, 929, 411, 594, 837, 898, 82, 525, 716, 118, 185, 85, 935, 159, 790, 940, 121, 934, 595, 587, 994, 92, 485, 273, 296, 657, 552, 607, 237, 588, 754, 561, 58, 289, 884, 453, 985, 792, 141, 487, 272, 806, 486, 599, 567, 746, 600, 241, 115, 861, 723, 904, 780, 479, 261, 191, 268, 149, 352, 544, 654, 347, 14, 970, 410, 528, 165, 278, 872, 685, 975, 181, 99, 51, 821, 493, 932, 55, 993, 258, 521, 330, 830, 976, 892, 309, 753, 845, 814, 284, 611, 816, 568, 994, 871, 423, 734, 432, 611, 499, 743, 800, 637, 18, 253, 996, 407, 758, 600, 525]\n",
      "Mean of selected numbers: 507.285\n",
      "Standard deviation of selected numbers: 289.14944367730413\n",
      "Mean of all 1000 numbers: 501.313\n",
      "Standard deviation of all 1000 numbers: 288.4771604531338\n"
     ]
    }
   ],
   "source": [
    "import random\n",
    "import statistics\n",
    "\n",
    "random_numbers = [random.randint(1, 1000) for _ in range(1000)]\n",
    "\n",
    "# Take 100 random numbers\n",
    "selected_numbers = random_numbers[:200]\n",
    "\n",
    "# Calculate the mean of the selected numbers\n",
    "mean = sum(selected_numbers) / len(selected_numbers)\n",
    "\n",
    "# Calculate the standard deviation\n",
    "std_deviation = statistics.stdev(selected_numbers)\n",
    "\n",
    "print(\"Selected numbers:\", selected_numbers)\n",
    "print(\"Mean of selected numbers:\", mean)\n",
    "print(\"Standard deviation of selected numbers:\", std_deviation)\n",
    "\n",
    "random_numbers = [random.randint(1, 1000) for _ in range(1000)]\n",
    "\n",
    "# Calculate the mean of all 1000 random numbers\n",
    "mean_all = sum(random_numbers) / len(random_numbers)\n",
    "\n",
    "# Calculate the standard deviation of all 1000 random numbers\n",
    "std_deviation_all = statistics.stdev(random_numbers)\n",
    "\n",
    "print(\"Mean of all 1000 numbers:\", mean_all)\n",
    "print(\"Standard deviation of all 1000 numbers:\", std_deviation_all)\n",
    "\n"
   ]
  },
  {
   "cell_type": "markdown",
   "metadata": {},
   "source": [
    "Q3: What is Hypothesis testing? Why is it used? State the importance of Hypothesis testing.\n",
    "\n",
    "-> Hypothesis testing is a method in inferential statistics by which we can draw the inference about the data given . It is used to check whether any changes in the inferences or population data will affect the population data or not , if affected than how will it affect . By using hypotheses testing we can check if the new inferences draw with respect to the population data is correct or not \n",
    "\n",
    "Q4. Create a hypothesis that states whether the average weight of male college students is greater than\n",
    "the average weight of female college students.\n",
    "\n",
    "-> Null hypothesis :- average weight of male is not equal to average weight of female\n",
    "   Alternate hypothesis :- average weight of male is equal to the average weight of female\n",
    "\n",
    "Q5. Write a Python script to conduct a hypothesis test on the difference between two population means,\n",
    "given a sample from each population.\n"
   ]
  },
  {
   "cell_type": "code",
   "execution_count": 14,
   "metadata": {},
   "outputs": [
    {
     "name": "stdout",
     "output_type": "stream",
     "text": [
      "Mean of Set 1 (1000 numbers with normal distribution): 502.289124668435\n",
      "Mean of Set 2 (200 numbers with normal distribution): 496.01307189542484\n",
      "Standard Deviation of Set 1 (1000 numbers with normal distribution): 124.75816484399887\n",
      "Z-Score for 94.0% Confidence Interval: 1.88\n",
      "Confidence Interval for Set 1 (94%) (Z-Scores): [-1.88, 1.88\n",
      "Sample Z-Score for Set 2 using Mean and Standard Deviation of Set 1: -0.62\n",
      "The sample z-score is inside the confidence interval.\n",
      "The null hypothesis is supported.\n"
     ]
    }
   ],
   "source": [
    "import random\n",
    "import statistics\n",
    "from scipy import stats\n",
    "\n",
    "# Generate a set with 1000 random numbers following a normal distribution\n",
    "mu_set_1, sigma_set_1 = 500, 100  # Mean and standard deviation\n",
    "set_1 = set(int(random.gauss(mu_set_1, sigma_set_1)) for _ in range(1000))\n",
    "\n",
    "# Generate a set with 200 random numbers following a normal distribution\n",
    "mu_set_2, sigma_set_2 = 500, 100  # Mean and standard deviation\n",
    "set_2 = set(int(random.gauss(mu_set_2, sigma_set_2)) for _ in range(200))\n",
    "\n",
    "# Calculate the mean of set 1\n",
    "mean_set_1 = sum(set_1) / len(set_1)\n",
    "\n",
    "# Calculate the mean of set 2\n",
    "mean_set_2 = sum(set_2) / len(set_2)\n",
    "\n",
    "# Calculate the standard deviation of set 1\n",
    "std_deviation_set_1 = statistics.stdev(set_1)\n",
    "\n",
    "print(\"Mean of Set 1 (1000 numbers with normal distribution):\", mean_set_1)\n",
    "print(\"Mean of Set 2 (200 numbers with normal distribution):\", mean_set_2)\n",
    "print(\"Standard Deviation of Set 1 (1000 numbers with normal distribution):\", std_deviation_set_1)\n",
    "\n",
    "# Confidence level (e.g., 94%)\n",
    "confidence_level = 0.94\n",
    "\n",
    "# Number of data points in set 1\n",
    "n_set_1 = len(set_1)\n",
    "\n",
    "# Calculate the standard error of the mean for set 1\n",
    "sem_set_1 = std_deviation_set_1 / (n_set_1 ** 0.5)\n",
    "\n",
    "# Calculate the z-score for the given confidence level\n",
    "z_score = stats.norm.ppf((1 + confidence_level) / 2)\n",
    "\n",
    "print(f\"Z-Score for {confidence_level * 100}% Confidence Interval: {z_score:.2f}\")\n",
    "\n",
    "# Calculate the confidence interval in terms of z-scores\n",
    "lower_z_score = -z_score\n",
    "upper_z_score = z_score\n",
    "\n",
    "print(f\"Confidence Interval for Set 1 (94%) (Z-Scores): [{lower_z_score:.2f}, {upper_z_score:.2f}\")\n",
    "\n",
    "# Calculate the sample z-score for the smaller set using the mean and standard deviation of the larger set\n",
    "z_score_set_2 = (mean_set_2 - mean_set_1) / (std_deviation_set_1 / (len(set_2) ** 0.5))\n",
    "\n",
    "print(f\"Sample Z-Score for Set 2 using Mean and Standard Deviation of Set 1: {z_score_set_2:.2f}\")\n",
    "\n",
    "# Check if the sample z-score is inside the confidence interval\n",
    "is_inside_interval = lower_z_score <= z_score_set_2 <= upper_z_score\n",
    "\n",
    "# Check if the sample z-score is inside the confidence interval\n",
    "if is_inside_interval:\n",
    "    print(\"The sample z-score is inside the confidence interval.\")\n",
    "    print(\"The null hypothesis is supported.\")\n",
    "else:\n",
    "    print(\"The sample z-score is outside the confidence interval.\")\n",
    "    print(\"The null hypothesis is not supported.\")\n"
   ]
  },
  {
   "cell_type": "markdown",
   "metadata": {},
   "source": [
    "Q6: What is a null and alternative hypothesis? Give some examples.\n",
    "\n",
    "-> Null and alternative hypothesis are the hypothesis that we make to solve the problem . Alternate hypothesis is opposite to the NULL hypothesis, for example if the population mean of the height is 190cm and if a product launched claims that their product increase the height of the people , it is tested on 40 people and found that the mean height of the sample data is 194 cm , than can we say that product increases the height or not . \n",
    "\n",
    "in this scenario NULL hypothesis is :- mean = 190cm \n",
    "alternate hypothesis is :- mean is not equal to 190cm\n",
    "\n",
    "Q7: Write down the steps involved in hypothesis testing.\n",
    "\n",
    "-> 1. NULL hypothesis \n",
    "2. alternate hypothesis\n",
    "3. testing \n",
    "4. accepting or rejecting the null hypothesis based on the result of testing \n",
    "\n",
    "Q8. Define p-value and explain its significance in hypothesis testing.\n",
    "\n",
    "-> if the new p value of the sample data is less than the p value of the population data than the null hypothesis will be rejected else accepted\n",
    "\n",
    "Q9. Generate a Student's t-distribution plot using Python's matplotlib library, with the degrees of freedom\n",
    "parameter set to 10.\n",
    "\n"
   ]
  },
  {
   "cell_type": "code",
   "execution_count": 15,
   "metadata": {},
   "outputs": [
    {
     "name": "stderr",
     "output_type": "stream",
     "text": [
      "C:\\Users\\jaide\\AppData\\Local\\Temp\\ipykernel_10888\\3103140731.py:11: DeprecationWarning: `np.math` is a deprecated alias for the standard library `math` module (Deprecated Numpy 1.25). Replace usages of `np.math` with `math`\n",
      "  pdf = (1 / (np.sqrt(df) * np.math.gamma(df / 2))) * ((1 + x**2 / df)**(-((df + 1) / 2)))\n"
     ]
    },
    {
     "data": {
      "image/png": "[encoded data removed]",
      "text/plain": [
       "<Figure size 640x480 with 1 Axes>"
      ]
     },
     "metadata": {},
     "output_type": "display_data"
    }
   ],
   "source": [
    "import numpy as np\n",
    "import matplotlib.pyplot as plt\n",
    "\n",
    "# Degrees of freedom\n",
    "df = 10\n",
    "\n",
    "# Generate x values for the plot\n",
    "x = np.linspace(-4, 4, 1000)\n",
    "\n",
    "# Calculate the probability density function (PDF) for the t-distribution\n",
    "pdf = (1 / (np.sqrt(df) * np.math.gamma(df / 2))) * ((1 + x**2 / df)**(-((df + 1) / 2)))\n",
    "\n",
    "# Create the plot\n",
    "plt.plot(x, pdf, label=f't-Distribution (df={df})', color='blue')\n",
    "\n",
    "plt.title(f'Student\\'s t-Distribution (df={df})')\n",
    "plt.xlabel('x')\n",
    "plt.ylabel('Probability Density')\n",
    "plt.legend()\n",
    "plt.grid(True)\n",
    "\n",
    "plt.show()\n"
   ]
  },
  {
   "cell_type": "markdown",
   "metadata": {},
   "source": [
    "Q10. Write a Python program to calculate the two-sample t-test for independent samples, given two random samples of equal size and a null hypothesis that the population means are equal."
   ]
  },
  {
   "cell_type": "code",
   "execution_count": 16,
   "metadata": {},
   "outputs": [
    {
     "name": "stdout",
     "output_type": "stream",
     "text": [
      "Mean of List 1: 49.37\n",
      "Mean of List 2: 49.99\n",
      "Null hypothesis is rejected.\n"
     ]
    }
   ],
   "source": [
    "import random\n",
    "\n",
    "# Generate two lists with 100 random values each\n",
    "list1 = [random.randint(1, 100) for _ in range(100)]\n",
    "list2 = [random.randint(1, 100) for _ in range(100)]\n",
    "\n",
    "# Calculate the means of both lists\n",
    "mean_list1 = sum(list1) / len(list1)\n",
    "mean_list2 = sum(list2) / len(list2)\n",
    "\n",
    "# Print the means\n",
    "print(\"Mean of List 1:\", mean_list1)\n",
    "print(\"Mean of List 2:\", mean_list2)\n",
    "\n",
    "# Compare means and print the result\n",
    "if mean_list1 == mean_list2:\n",
    "    print(\"Null hypothesis is accepted.\")\n",
    "else:\n",
    "    print(\"Null hypothesis is rejected.\")\n"
   ]
  },
  {
   "cell_type": "markdown",
   "metadata": {},
   "source": [
    "Q11: What is Student’s t distribution? When to use the t-Distribution.\n",
    "\n",
    "-> Student's t distribution is a distribution which is calculated from the sample data , we use t distribution when we dont have the population mean and standard deviation but we only have sample mean and standard deviation.\n",
    "\n",
    "Q12: What is t-statistic? State the formula for t-statistic.\n",
    "\n",
    "-> t statistics is a statistics which is used when we have the standard deviation of the sample data and not the population data , in t stats we find the area for a t score by using \n",
    "1. two tail test/ one tail test\n",
    "2. significance value\n",
    "3. degree of freedom \n",
    "\n",
    "the formula for the t score is (x-mean)/sampe std "
   ]
  },
  {
   "cell_type": "code",
   "execution_count": 1,
   "metadata": {},
   "outputs": [
    {
     "name": "stdout",
     "output_type": "stream",
     "text": [
      "95% Confidence Interval for Population Mean Revenue: ($486.14, $513.86)\n"
     ]
    }
   ],
   "source": [
    "# Q13. A coffee shop owner wants to estimate the average daily revenue for their shop. They take a random\n",
    "# sample of 50 days and find the sample mean revenue to be $500 with a standard deviation of $50.\n",
    "# Estimate the population mean revenue with a 95% confidence interval.\n",
    "\n",
    "import scipy.stats as stats\n",
    "import math\n",
    "\n",
    "# Sample mean and standard deviation\n",
    "sample_mean = 500\n",
    "sample_std = 50\n",
    "\n",
    "# Sample size\n",
    "sample_size = 50\n",
    "\n",
    "# Confidence level (95%)\n",
    "confidence_level = 0.95\n",
    "\n",
    "# Calculate the standard error (standard deviation of the sample mean)\n",
    "standard_error = sample_std / math.sqrt(sample_size)\n",
    "\n",
    "# Find the critical value for a 95% confidence interval (two-tailed)\n",
    "z_critical = stats.norm.ppf(1 - (1 - confidence_level) / 2)\n",
    "\n",
    "# Calculate the margin of error\n",
    "margin_of_error = z_critical * standard_error\n",
    "\n",
    "# Calculate the confidence interval\n",
    "lower_bound = sample_mean - margin_of_error\n",
    "upper_bound = sample_mean + margin_of_error\n",
    "\n",
    "# Print the confidence interval\n",
    "print(f\"95% Confidence Interval for Population Mean Revenue: (${lower_bound:.2f}, ${upper_bound:.2f})\")\n"
   ]
  },
  {
   "cell_type": "markdown",
   "metadata": {},
   "source": [
    "Q14. A researcher hypothesizes that a new drug will decrease blood pressure by 10 mmHg. They conduct a\n",
    " clinical trial with 100 patients and find that the sample mean decrease in blood pressure is 8 mmHg with a\n",
    " standard deviation of 3 mmHg. Test the hypothesis with a significance level of 0.05.\n",
    "\n",
    "\n",
    "-> steps :\n",
    "1. get the normal distribution with mean = 10 (population mean)\n",
    "2. get the range of z score using t table\n",
    "3. upper and lower limit can be found by finding either one of the t score\n",
    "4. using significance level , get the area under the curve for the positive z score \n",
    "5. negative z score will be just opposite of it \n",
    "6. now calculate the z score for the given sample data and check if lies in the confidence interval \n",
    "7. to calculate the z score , use t table \n",
    "8. use the degree of freedom , two tail test, and significance level to calculate the z score \n",
    "\n"
   ]
  },
  {
   "cell_type": "code",
   "execution_count": 11,
   "metadata": {},
   "outputs": [
    {
     "name": "stdout",
     "output_type": "stream",
     "text": [
      "the null hypothesis is : mean = 10\n",
      "Step 1: Population mean = 10\n",
      "Step 2: Degrees of freedom (df) = 99\n",
      "Step 3: Significance level (alpha) = 0.05\n",
      "Step 5: t-score for alpha/2 = 1.9842169515086827\n",
      "Step 6: Sample mean = 8, Sample standard deviation = 3\n",
      "the t score for the sample data is : -6.666666666666667\n",
      "Confidence Interval: (-1.98, 1.98)\n",
      "Reject the null hypothesis. The new drug does not  has a significant effect on blood pressure.\n"
     ]
    }
   ],
   "source": [
    "import scipy.stats as stats\n",
    "print(\"the null hypothesis is : mean = 10\")\n",
    "# Step 1: Population mean\n",
    "population_mean = 10\n",
    "\n",
    "# Step 2: Degrees of freedom (n-1) for a t-distribution\n",
    "sample_size = 100\n",
    "degrees_of_freedom = sample_size - 1\n",
    "\n",
    "# Step 3: Significance level\n",
    "alpha = 0.05\n",
    "\n",
    "# Step 5: Calculate the t-score for the given significance level and degrees of freedom\n",
    "t_critical = stats.t.ppf(1 - alpha / 2, df=degrees_of_freedom)\n",
    "\n",
    "# Step 6: Calculate the sample mean and standard deviation\n",
    "sample_mean = 8\n",
    "sample_std = 3\n",
    "\n",
    "# # Step 7: Calculate the standard error\n",
    "# standard_error = sample_std / (sample_size**0.5)\n",
    "\n",
    "# # Step 8: Calculate the margin of error\n",
    "# margin_of_error = t_critical * standard_error\n",
    "\n",
    "# Calculate the confidence interval\n",
    "confidence_interval = (-t_critical, t_critical)\n",
    "t_score = (sample_mean - population_mean) / (sample_std / (sample_size**0.5))\n",
    "\n",
    "# Print the results\n",
    "print(f\"Step 1: Population mean = {population_mean}\")\n",
    "print(f\"Step 2: Degrees of freedom (df) = {degrees_of_freedom}\")\n",
    "print(f\"Step 3: Significance level (alpha) = {alpha}\")\n",
    "print(f\"Step 5: t-score for alpha/2 = {t_critical}\")\n",
    "print(f\"Step 6: Sample mean = {sample_mean}, Sample standard deviation = {sample_std}\")\n",
    "# print(f\"Step 7: Standard error = {standard_error}\")\n",
    "print(f\"the t score for the sample data is : {t_score}\")\n",
    "print(f\"Confidence Interval: ({confidence_interval[0]:.2f}, {confidence_interval[1]:.2f})\")\n",
    "\n",
    "# Step 9: Make a decision\n",
    "if t_score > -t_critical and t_score < t_critical:\n",
    "    print(\"Fail to reject the null hypothesis. The new drug have a significant effect on blood pressure.\")\n",
    "else:\n",
    "    print(\"Reject the null hypothesis. The new drug does not  has a significant effect on blood pressure.\")\n"
   ]
  },
  {
   "cell_type": "markdown",
   "metadata": {},
   "source": [
    "Q15. An electronics company produces a certain type of product with a mean weight of 5 pounds and a\n",
    "standard deviation of 0.5 pounds. A random sample of 25 products is taken, and the sample mean weight\n",
    "is found to be 4.8 pounds. Test the hypothesis that the true mean weight of the products is less than 5\n",
    "pounds with a significance level of 0.01.\n",
    "\n",
    "-> steps :-\n",
    "null hypothesis :- mean = 5 pounds\n",
    "1. using the significance level calculate the z score \n",
    "2. confidence interval should be -z score and +z score\n",
    "3. find the z score for the sample data using the formula for z score \n",
    "4. if the z score for the sample data is within the confidence interval than accept the null hypothesis else reject the null hypothesis "
   ]
  },
  {
   "cell_type": "code",
   "execution_count": 12,
   "metadata": {},
   "outputs": [
    {
     "name": "stdout",
     "output_type": "stream",
     "text": [
      "Fail to reject the null hypothesis. There is no significant evidence that the true mean weight is less than 5 pounds.\n"
     ]
    }
   ],
   "source": [
    "import scipy.stats as stats\n",
    "\n",
    "# Given data\n",
    "population_mean = 5\n",
    "population_std = 0.5\n",
    "sample_mean = 4.8\n",
    "sample_size = 25\n",
    "alpha = 0.01\n",
    "\n",
    "# Step 1: Calculate the Z-score for the Significance Level (α = 0.01)\n",
    "z_critical = stats.norm.ppf(alpha)\n",
    "\n",
    "# Step 2: Calculate the Confidence Interval\n",
    "# For a one-tailed test (less than), the confidence interval is (-∞, z_critical).\n",
    "\n",
    "# Step 3: Calculate the Z-score for the Sample Data\n",
    "z_score = (sample_mean - population_mean) / (population_std / (sample_size**0.5))\n",
    "\n",
    "# Step 4: Make a Decision\n",
    "if z_score < z_critical:\n",
    "    print(\"Reject the null hypothesis. The true mean weight is less than 5 pounds.\")\n",
    "else:\n",
    "    print(\"Fail to reject the null hypothesis. There is no significant evidence that the true mean weight is less than 5 pounds.\")\n"
   ]
  },
  {
   "cell_type": "markdown",
   "metadata": {},
   "source": [
    "Q16. Two groups of students are given different study materials to prepare for a test. The first group (n1 =\n",
    "30) has a mean score of 80 with a standard deviation of 10, and the second group (n2 = 40) has a mean\n",
    "score of 75 with a standard deviation of 8. Test the hypothesis that the population means for the two\n",
    "groups are equal with a significance level of 0.01.\n",
    "\n",
    "-> steps:-\n",
    "1. using the significance level , degree of freedom , and two tail test calulate the t score for the first sample\n",
    "2. calculate the population mean using the formula of z score in t test\n",
    "3. repeat the step 1 and 2 for second sample\n",
    "4. if the population mean of both the sample are same than accept the hypothesis else reject it "
   ]
  },
  {
   "cell_type": "code",
   "execution_count": 13,
   "metadata": {},
   "outputs": [
    {
     "name": "stdout",
     "output_type": "stream",
     "text": [
      "Reject the null hypothesis. The population means of the two groups are not equal.\n"
     ]
    }
   ],
   "source": [
    "import scipy.stats as stats\n",
    "\n",
    "# Given data for the first group:\n",
    "n1 = 30\n",
    "x1 = 80\n",
    "s1 = 10\n",
    "\n",
    "# Given data for the second group:\n",
    "n2 = 40\n",
    "x2 = 75\n",
    "s2 = 8\n",
    "\n",
    "# Degrees of freedom for a two-sample t-test\n",
    "df1 = n1 - 1\n",
    "df2 = n2 - 1\n",
    "\n",
    "# Significance level (alpha) for a two-tailed test\n",
    "alpha = 0.01\n",
    "\n",
    "# Calculate the t-critical values for each sample data\n",
    "t_critical1 = stats.t.ppf(1 - alpha / 2, df1)\n",
    "t_critical2 = stats.t.ppf(1 - alpha / 2, df2)\n",
    "\n",
    "# Calculate the population mean for the first group using the t-score\n",
    "population_mean1 = x1 - t_critical1 * (s1 / n1**0.5)\n",
    "\n",
    "# Calculate the population mean for the second group using the t-score\n",
    "population_mean2 = x2 - t_critical2 * (s2 / n2**0.5)\n",
    "\n",
    "# Check if the population means of both groups are equal\n",
    "if population_mean1 == population_mean2:\n",
    "    print(\"Accept the null hypothesis. The population means of the two groups are equal.\")\n",
    "else:\n",
    "    print(\"Reject the null hypothesis. The population means of the two groups are not equal.\")\n"
   ]
  },
  {
   "cell_type": "markdown",
   "metadata": {},
   "source": [
    "Q17. A marketing company wants to estimate the average number of ads watched by viewers during a TV\n",
    "program. They take a random sample of 50 viewers and find that the sample mean is 4 with a standard\n",
    "deviation of 1.5. Estimate the population mean with a 99% confidence interval.\n",
    "\n",
    "\n",
    "-> steps\n",
    "1. using the significance level , two tail test and sample size calculate the t score \n",
    "2. using the formula for t score, calculate the population mean"
   ]
  },
  {
   "cell_type": "code",
   "execution_count": 14,
   "metadata": {},
   "outputs": [
    {
     "name": "stdout",
     "output_type": "stream",
     "text": [
      "Sample Mean: 4\n",
      "Population Mean Estimate: 3.43\n"
     ]
    }
   ],
   "source": [
    "import scipy.stats as stats\n",
    "\n",
    "# Given data\n",
    "sample_mean = 4\n",
    "sample_std = 1.5\n",
    "sample_size = 50\n",
    "confidence_level = 0.99  # 99% confidence interval\n",
    "\n",
    "# Degrees of freedom for a one-sample t-distribution\n",
    "df = sample_size - 1\n",
    "\n",
    "# Step 1: Calculate the t-score for the given significance level (two-tailed)\n",
    "alpha = 1 - confidence_level  # 1% significance level\n",
    "t_score = stats.t.ppf(1 - alpha / 2, df)\n",
    "\n",
    "# Step 2: Calculate the population mean using the t-score formula\n",
    "population_mean = sample_mean - t_score * (sample_std / (sample_size**0.5))\n",
    "\n",
    "print(f\"Sample Mean: {sample_mean}\")\n",
    "print(f\"Population Mean Estimate: {population_mean:.2f}\")\n"
   ]
  },
  {
   "cell_type": "code",
   "execution_count": null,
   "metadata": {},
   "outputs": [],
   "source": []
  }
 ],
 "metadata": {
  "kernelspec": {
   "display_name": "Python 3",
   "language": "python",
   "name": "python3"
  },
  "language_info": {
   "codemirror_mode": {
    "name": "ipython",
    "version": 3
   },
   "file_extension": ".py",
   "mimetype": "text/x-python",
   "name": "python",
   "nbconvert_exporter": "python",
   "pygments_lexer": "ipython3",
   "version": "3.11.6"
  }
 },
 "nbformat": 4,
 "nbformat_minor": 2
}
