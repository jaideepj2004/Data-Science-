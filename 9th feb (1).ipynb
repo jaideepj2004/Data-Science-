{
 "cells": [
  {
   "cell_type": "markdown",
   "id": "e514ec22-c0f1-4d69-8fdc-c0c8a7d72cdc",
   "metadata": {},
   "source": [
    "Q1, Create a vehicle class with an init method having instance variables as name_of_vehicle, max_speed\n",
    "and average_of_vehicle."
   ]
  },
  {
   "cell_type": "code",
   "execution_count": 52,
   "id": "ef1bfb78-2b2f-4267-97c9-2d5bbe8b5417",
   "metadata": {},
   "outputs": [],
   "source": [
    "class vehicle():\n",
    "    def __init__(self,name_of_vehicle,max_speed,average_of_vehicle):\n",
    "        self.name_of_vehicle=name_of_vehicle\n",
    "        self.max_speed=max_speed\n",
    "        self.average_of_vehicle=average_of_vehicle\n",
    "        \n",
    "obj=vehicle(\"innove\",180,32)\n",
    "        "
   ]
  },
  {
   "cell_type": "markdown",
   "id": "83526060-1ccf-4c46-9a2b-894f4013ca7a",
   "metadata": {},
   "source": [
    "Q2. Create a child class car from the vehicle class created in Que 1, which will inherit the vehicle class.\n",
    "Create a method named seating_capacity which takes capacity as an argument and returns the name of\n",
    "the vehicle and its seating capacity."
   ]
  },
  {
   "cell_type": "code",
   "execution_count": 53,
   "id": "9cc5991c-929e-4bf1-8af4-2c00d1285b90",
   "metadata": {},
   "outputs": [],
   "source": [
    "obj=vehicle(\"innove\",180,32)\n",
    "class child(vehicle):\n",
    "    def hello(self,seating_capacity):\n",
    "        self.seating_capacity=seating_capacity\n",
    "        return self.name_of_vehicle,self.seating_capacity"
   ]
  },
  {
   "cell_type": "code",
   "execution_count": 54,
   "id": "60b73d22-513a-428e-9f22-77da5c0d5329",
   "metadata": {},
   "outputs": [],
   "source": [
    "obja=child(\"innove\",180,32)"
   ]
  },
  {
   "cell_type": "code",
   "execution_count": 55,
   "id": "0ab2f87c-59f0-4609-b3a3-f5c50cbfd45f",
   "metadata": {},
   "outputs": [
    {
     "data": {
      "text/plain": [
       "('innove', 6)"
      ]
     },
     "execution_count": 55,
     "metadata": {},
     "output_type": "execute_result"
    }
   ],
   "source": [
    "obja.hello(6)"
   ]
  },
  {
   "cell_type": "markdown",
   "id": "d1c16786-ac0a-496b-aae0-4bef26ebf381",
   "metadata": {},
   "source": [
    "Q3. What is multiple inheritance? Write a python code to demonstrate multiple inheritance."
   ]
  },
  {
   "cell_type": "markdown",
   "id": "bd78b362-103e-473d-b06e-5d41d1bc1f38",
   "metadata": {},
   "source": [
    "multiple inheritance :- multiple inheritance is nothing but when two or more classes are passed as an argument inside a class than this particular class has  access to all the function(s) that those classes have"
   ]
  },
  {
   "cell_type": "code",
   "execution_count": 57,
   "id": "43d714be-e7d4-430d-8a1d-0b10a90a0d32",
   "metadata": {},
   "outputs": [],
   "source": [
    "class a ():\n",
    "    def hello(self):\n",
    "        print(\"hello\")\n",
    "class b ():\n",
    "    def namaste(self):\n",
    "        print(\"namaste\")\n",
    "class c (a,b):\n",
    "    def bonjour(self):\n",
    "        print(\"Bonjour\")\n",
    "obj=c()\n",
    "        "
   ]
  },
  {
   "cell_type": "code",
   "execution_count": 58,
   "id": "469ee9fe-34af-4f53-868d-fcac41581a6c",
   "metadata": {},
   "outputs": [
    {
     "name": "stdout",
     "output_type": "stream",
     "text": [
      "hello\n"
     ]
    }
   ],
   "source": [
    "obj.hello()"
   ]
  },
  {
   "cell_type": "code",
   "execution_count": 60,
   "id": "d7f27bf3-fc9e-4643-9a85-d279cffa9bf0",
   "metadata": {},
   "outputs": [
    {
     "name": "stdout",
     "output_type": "stream",
     "text": [
      "namaste\n"
     ]
    }
   ],
   "source": [
    "obj.namaste()"
   ]
  },
  {
   "cell_type": "code",
   "execution_count": 61,
   "id": "3151e863-c4a8-42ed-a95e-64c1487dbb77",
   "metadata": {},
   "outputs": [
    {
     "name": "stdout",
     "output_type": "stream",
     "text": [
      "Bonjour\n"
     ]
    }
   ],
   "source": [
    "obj.bonjour()"
   ]
  },
  {
   "cell_type": "markdown",
   "id": "e20e5693-edc9-47a3-ae20-cbe6ededef71",
   "metadata": {},
   "source": [
    "Q4. What are getter and setter in python? Create a class and create a getter and a setter method in this\n",
    "class."
   ]
  },
  {
   "cell_type": "code",
   "execution_count": 1,
   "id": "95276e83-bba7-42e5-92fc-43ada4054289",
   "metadata": {},
   "outputs": [],
   "source": [
    "class pwskills :\n",
    "    def __init__(self,course_fees):\n",
    "        self.__course_fees=course_fees\n",
    "    \n",
    "    @property \n",
    "    def get (self):\n",
    "        return self.__course_fees\n",
    "    @get.setter \n",
    "    def set_(self,fees):\n",
    "        if fees<=3500 :\n",
    "            pass\n",
    "        else:\n",
    "            self.__course_fees= fees\n",
    "    \n",
    "a = pwskills (3500)\n"
   ]
  },
  {
   "cell_type": "code",
   "execution_count": 2,
   "id": "c511f1d0-2086-4088-abc9-7c147d0db572",
   "metadata": {},
   "outputs": [
    {
     "data": {
      "text/plain": [
       "3500"
      ]
     },
     "execution_count": 2,
     "metadata": {},
     "output_type": "execute_result"
    }
   ],
   "source": [
    "a.get"
   ]
  },
  {
   "cell_type": "code",
   "execution_count": 5,
   "id": "d506296b-8fb5-4926-b6ab-a0e4d3d0ec3a",
   "metadata": {},
   "outputs": [],
   "source": [
    "a.set_ = 4500"
   ]
  },
  {
   "cell_type": "code",
   "execution_count": 6,
   "id": "b2353358-ce96-406e-9ec2-b48ae45ad006",
   "metadata": {},
   "outputs": [
    {
     "data": {
      "text/plain": [
       "4500"
      ]
     },
     "execution_count": 6,
     "metadata": {},
     "output_type": "execute_result"
    }
   ],
   "source": [
    "a.get"
   ]
  },
  {
   "cell_type": "markdown",
   "id": "243c6d8e-c7d2-4529-af98-b3f016e42200",
   "metadata": {},
   "source": [
    "Q5.What is method overriding in python? Write a python code to demonstrate method overriding?\n",
    "\n",
    "Ans. In method overiding we have function with same name , performing different task and our present inside different class , by this when we create object for the classes where the function with same name is written than , we use the same function name along with the object but different function or same functionality will be executed depending upon what is the definition of the function , written inside the class whose object is used , below code illustrates this concept"
   ]
  },
  {
   "cell_type": "code",
   "execution_count": 11,
   "id": "9f246e72-73f4-4474-b685-63f084b665be",
   "metadata": {},
   "outputs": [
    {
     "name": "stdout",
     "output_type": "stream",
     "text": [
      "this is a data science course \n",
      "This is a web development course\n",
      "this is an android development course \n"
     ]
    }
   ],
   "source": [
    "class data_science :\n",
    "    def course (self):\n",
    "        print (\"this is a data science course \")\n",
    "class web_dev :\n",
    "    def course (self):\n",
    "        print (\"This is a web development course\")\n",
    "class android :\n",
    "    def course (self):\n",
    "        print (\"this is an android development course \")\n",
    "a = data_science ()\n",
    "b= web_dev()\n",
    "c = android ()\n",
    "a.course()\n",
    "b.course()\n",
    "c.course()"
   ]
  },
  {
   "cell_type": "code",
   "execution_count": null,
   "id": "ae5218a4-876f-4eae-9ac0-a1f97ad24db6",
   "metadata": {},
   "outputs": [],
   "source": []
  }
 ],
 "metadata": {
  "kernelspec": {
   "display_name": "Python 3 (ipykernel)",
   "language": "python",
   "name": "python3"
  },
  "language_info": {
   "codemirror_mode": {
    "name": "ipython",
    "version": 3
   },
   "file_extension": ".py",
   "mimetype": "text/x-python",
   "name": "python",
   "nbconvert_exporter": "python",
   "pygments_lexer": "ipython3",
   "version": "3.10.8"
  }
 },
 "nbformat": 4,
 "nbformat_minor": 5
}
