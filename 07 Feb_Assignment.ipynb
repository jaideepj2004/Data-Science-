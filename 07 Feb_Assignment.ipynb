{
 "cells": [
  {
   "cell_type": "markdown",
   "id": "06713578-ef82-4624-933e-3d0fa5f7414c",
   "metadata": {},
   "source": [
    "Q1. You are writing code for a company. The requirement of the company is that you create a python\n",
    "function that will check whether the password entered by the user is correct or not. The function should\n",
    "take the password as input and return the string “Valid Password” if the entered password follows the\n",
    "below-given password guidelines else it should return “Invalid Password”.\n",
    "Note: 1. The Password should contain at least two uppercase letters and at least two lowercase letters.\n",
    "2. The Password should contain at least a number and three special characters.\n",
    "3. The length of the password should be 10 characters long.\n"
   ]
  },
  {
   "cell_type": "code",
   "execution_count": 1,
   "id": "217557a4-d503-41db-8380-0890025cec25",
   "metadata": {},
   "outputs": [
    {
     "name": "stdin",
     "output_type": "stream",
     "text": [
      " jaideep jaiswal\n"
     ]
    },
    {
     "name": "stdout",
     "output_type": "stream",
     "text": [
      "Invalid Password\n"
     ]
    }
   ],
   "source": [
    "a = str(input())\n",
    "c11,c12,c21,c22,c3=0,0,0,0,0\n",
    "for i in a :\n",
    "    if (ord(i)<65 or ord(i)>90 or ord(i)<97 or ord(i)>122 or i<0 or i>9):\n",
    "        c22=c22+1\n",
    "        \n",
    "    elif ord(i)>=65 and ord(i)<=90:\n",
    "        c11 = c11+1\n",
    "    elif ord(i)>=97 and ord(i)<=122:\n",
    "        c12=c12+1\n",
    "    elif int(i)>=0 and int(i)<=9:\n",
    "        c21=c21+1\n",
    "    c3=c3+1\n",
    "if c3>=10 and c11>=2 and c12>=2 and c21>=1 and c22>=3 :\n",
    "    print(\"Valid Password\")\n",
    "else:\n",
    "    print(\"Invalid Password\")"
   ]
  },
  {
   "cell_type": "markdown",
   "id": "385d056a-d03d-4e16-b492-a4b2acd3a572",
   "metadata": {},
   "source": [
    " Check if the string starts with a particular letter?"
   ]
  },
  {
   "cell_type": "code",
   "execution_count": 30,
   "id": "15041eac-dde8-4cd8-afd7-c47c0f93bd66",
   "metadata": {},
   "outputs": [
    {
     "name": "stdin",
     "output_type": "stream",
     "text": [
      " j432432\n"
     ]
    },
    {
     "name": "stdout",
     "output_type": "stream",
     "text": [
      "The string doesnt starts with the letter a \n"
     ]
    }
   ],
   "source": [
    "def a(b):\n",
    "    if b=='a':\n",
    "        print(\"the string starts with letter a\")\n",
    "    else:\n",
    "        print(\"The string doesnt starts with the letter a \")\n",
    "        \n",
    "        \n",
    "b=str(input())\n",
    "\n",
    "lst=list(map(a,b[0]))"
   ]
  },
  {
   "cell_type": "markdown",
   "id": "f5983a1e-e8b6-4cea-8172-e844b9e7890a",
   "metadata": {},
   "source": [
    "Check if the string is numeric?"
   ]
  },
  {
   "cell_type": "code",
   "execution_count": 8,
   "id": "156f2af8-74a3-405d-b47e-e084e93b3a38",
   "metadata": {},
   "outputs": [
    {
     "name": "stdin",
     "output_type": "stream",
     "text": [
      " 123\n"
     ]
    },
    {
     "name": "stdout",
     "output_type": "stream",
     "text": [
      "yes\n",
      "yes\n",
      "yes\n"
     ]
    },
    {
     "data": {
      "text/plain": [
       "[None, None, None]"
      ]
     },
     "execution_count": 8,
     "metadata": {},
     "output_type": "execute_result"
    }
   ],
   "source": [
    "g=0\n",
    "def a (b):\n",
    "    if b.isnumeric():\n",
    "        print(\"yes\")\n",
    "    else:\n",
    "        print(\"No\")\n",
    "b = str(input())\n",
    "\n",
    "list((map(a,b)))\n"
   ]
  },
  {
   "cell_type": "markdown",
   "id": "e57387f6-9ccf-4ed4-adda-840095c78871",
   "metadata": {},
   "source": [
    " Sort a list of tuples having fruit names and their quantity. [(\"mango\",99),(\"orange\",80), (\"grapes\", 1000)-"
   ]
  },
  {
   "cell_type": "code",
   "execution_count": 36,
   "id": "815a144f-01cf-4f50-9838-41328685e4d9",
   "metadata": {},
   "outputs": [
    {
     "name": "stdout",
     "output_type": "stream",
     "text": [
      "[('grapes', 1000), ('mango', 99), ('orange', 80)]\n"
     ]
    }
   ],
   "source": [
    "lst=[(\"mango\",99),(\"orange\",80), (\"grapes\", 1000)]\n",
    "lst.sort()\n",
    "print(lst)"
   ]
  },
  {
   "cell_type": "markdown",
   "id": "c1ccc15e-c249-4417-9bd3-83416fb56ec3",
   "metadata": {},
   "source": [
    "Find the squares of numbers from 1 to 10?"
   ]
  },
  {
   "cell_type": "code",
   "execution_count": 38,
   "id": "d6919aa6-e7e4-463c-b616-c1162bf92d9d",
   "metadata": {},
   "outputs": [
    {
     "name": "stdout",
     "output_type": "stream",
     "text": [
      "[1, 4, 9, 16, 25, 36, 49, 64, 81, 100]\n"
     ]
    }
   ],
   "source": [
    "lst=[]\n",
    "for i in range (1,11):\n",
    "    lst.append(i)\n",
    "print(list(map(lambda x:x*x,lst)))"
   ]
  },
  {
   "cell_type": "markdown",
   "id": "d7d240a9-3ad3-4c65-82a7-a48a7aa67ef8",
   "metadata": {},
   "source": [
    "Find the cube root of numbers from 1 to 10 ?"
   ]
  },
  {
   "cell_type": "code",
   "execution_count": 39,
   "id": "bc1bbfdb-976c-489e-8ed6-4947044f059e",
   "metadata": {},
   "outputs": [
    {
     "name": "stdout",
     "output_type": "stream",
     "text": [
      "[1, 8, 27, 64, 125, 216, 343, 512, 729, 1000]\n"
     ]
    }
   ],
   "source": [
    "lst=[]\n",
    "for i in range (1,11):\n",
    "    lst.append(i)\n",
    "print(list(map(lambda x:x**3,lst)))"
   ]
  },
  {
   "cell_type": "markdown",
   "id": "83d6d198-0492-4e51-87a3-6105b2416a99",
   "metadata": {},
   "source": [
    "Check if a given number is even?"
   ]
  },
  {
   "cell_type": "code",
   "execution_count": 63,
   "id": "45349e5c-3518-44bf-a79d-446e4af3db57",
   "metadata": {},
   "outputs": [
    {
     "name": "stdin",
     "output_type": "stream",
     "text": [
      " 22222\n"
     ]
    },
    {
     "name": "stdout",
     "output_type": "stream",
     "text": [
      "22222 is even \n"
     ]
    }
   ],
   "source": [
    "a=int(input())\n",
    "d=lambda x : x if x%2==0 else x-1\n",
    "c=d(a)   \n",
    "if (c==a):\n",
    "    print(f\"{a} is even \")\n",
    "else:\n",
    "    print(f\"{a} is odd\")"
   ]
  },
  {
   "cell_type": "markdown",
   "id": "9a225b9b-b42c-4bb7-9e6b-669bb35a5783",
   "metadata": {},
   "source": [
    "Filter odd numbers from the given list.\n",
    "[1,2,3,4,5,6,7,8,9,10]"
   ]
  },
  {
   "cell_type": "code",
   "execution_count": 74,
   "id": "6863fad1-c880-42b2-b4e1-0bbbd6cdfd54",
   "metadata": {},
   "outputs": [
    {
     "name": "stdout",
     "output_type": "stream",
     "text": [
      "[1, 3, 5, 7, 9]\n"
     ]
    }
   ],
   "source": [
    "l=[1,2,3,4,5,6,7,8,9,10]\n",
    "def a(x) : \n",
    "    if x%2!=0 :\n",
    "        return x\n",
    "    else:\n",
    "        pass\n",
    "b=list(filter(a,l))\n",
    "print(b)\n"
   ]
  },
  {
   "cell_type": "markdown",
   "id": "f274cd2c-c864-4953-b800-34065530f017",
   "metadata": {},
   "source": [
    "Sort a list of integers into positive and negative integers lists.\n",
    "[1,2,3,4,5,6,-1,-2,-3,-4,-5,0]"
   ]
  },
  {
   "cell_type": "code",
   "execution_count": 80,
   "id": "40f08d4a-3afb-4349-9354-0b83afe7229f",
   "metadata": {},
   "outputs": [
    {
     "name": "stdout",
     "output_type": "stream",
     "text": [
      "[-5, -4, -3, -2, -1, 0, 1, 2, 3, 4, 5, 6]\n"
     ]
    }
   ],
   "source": [
    "l=[1,2,3,4,5,6,-1,-2,-3,-4,-5,0]\n",
    "l.sort()\n",
    "print(l)"
   ]
  },
  {
   "cell_type": "code",
   "execution_count": null,
   "id": "4ada27ed-64d5-45fc-a8a0-83bfeb49057e",
   "metadata": {},
   "outputs": [],
   "source": []
  }
 ],
 "metadata": {
  "kernelspec": {
   "display_name": "Python 3 (ipykernel)",
   "language": "python",
   "name": "python3"
  },
  "language_info": {
   "codemirror_mode": {
    "name": "ipython",
    "version": 3
   },
   "file_extension": ".py",
   "mimetype": "text/x-python",
   "name": "python",
   "nbconvert_exporter": "python",
   "pygments_lexer": "ipython3",
   "version": "3.10.8"
  }
 },
 "nbformat": 4,
 "nbformat_minor": 5
}
