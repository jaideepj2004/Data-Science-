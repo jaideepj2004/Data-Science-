{
 "cells": [
  {
   "cell_type": "code",
   "execution_count": 1,
   "metadata": {},
   "outputs": [
    {
     "name": "stdout",
     "output_type": "stream",
     "text": [
      "6\n",
      "<_MainThread(MainThread, started 23324)>\n",
      "[<_MainThread(MainThread, started 23324)>, <Thread(IOPub, started daemon 2084)>, <Heartbeat(Heartbeat, started daemon 20468)>, <ControlThread(Control, started daemon 2256)>, <HistorySavingThread(IPythonHistorySavingThread, started 21468)>, <ParentPollerWindows(Thread-4, started daemon 22768)>]\n",
      "1\n",
      "4\n",
      "9\n",
      "16\n",
      "25\n",
      "1\n",
      "8\n",
      "27\n",
      "64\n",
      "125\n"
     ]
    },
    {
     "name": "stderr",
     "output_type": "stream",
     "text": [
      "C:\\Users\\jaide\\AppData\\Local\\Temp\\ipykernel_16088\\1973470837.py:12: DeprecationWarning: activeCount() is deprecated, use active_count() instead\n",
      "  print(threading.activeCount())\n",
      "C:\\Users\\jaide\\AppData\\Local\\Temp\\ipykernel_16088\\1973470837.py:15: DeprecationWarning: currentThread() is deprecated, use current_thread() instead\n",
      "  print(threading.currentThread())\n"
     ]
    }
   ],
   "source": [
    "# Q1: What is multithreading in python? Why is it used? Name the module used to handle threads in python.\n",
    "\n",
    "# Multithreading in Python allows multiple tasks or threads of execution to run concurrently within a single process.\n",
    "# It is used to improve performance and responsiveness in applications that need to handle multiple tasks simultaneously.\n",
    "# The threading module is used to handle threads in Python.\n",
    "\n",
    "# Q2. Why threading module used? Write the use of the following functions:\n",
    "\n",
    "import threading\n",
    "\n",
    "# activeCount(): Returns the number of currently active threads.\n",
    "print(threading.activeCount())\n",
    "\n",
    "# currentThread(): Returns the current thread object.\n",
    "print(threading.currentThread())\n",
    "\n",
    "# enumerate(): Returns a list of all active threads.\n",
    "print(threading.enumerate())\n",
    "\n",
    "# Q3. Explain the following functions:\n",
    "\n",
    "# run(): This is the method that is executed by the thread when it starts running.\n",
    "# start(): Starts the thread's activity.\n",
    "# join(): Waits for the thread to terminate.\n",
    "# isAlive(): Returns True if the thread is still alive, otherwise False.\n",
    "\n",
    "# Q4. Write a python program to create two threads. Thread one must print the list of squares and thread\n",
    "# two must print the list of cubes.\n",
    "\n",
    "def print_squares(numbers):\n",
    "    for num in numbers:\n",
    "        print(num * num)\n",
    "\n",
    "def print_cubes(numbers):\n",
    "    for num in numbers:\n",
    "        print(num * num * num)\n",
    "\n",
    "if __name__ == \"__main__\":\n",
    "    numbers = [1, 2, 3, 4, 5]\n",
    "    \n",
    "    # Create two threads\n",
    "    thread1 = threading.Thread(target=print_squares, args=(numbers,))\n",
    "    thread2 = threading.Thread(target=print_cubes, args=(numbers,))\n",
    "\n",
    "    # Start the threads\n",
    "    thread1.start()\n",
    "    thread2.start()\n",
    "\n",
    "    # Wait for the threads to finish\n",
    "    thread1.join()\n",
    "    thread2.join()\n",
    "\n",
    "# Q5. State advantages and disadvantages of multithreading.\n",
    "\n",
    "# Advantages:\n",
    "#   - Improved performance\n",
    "#   - Better responsiveness\n",
    "#   - Simplified programming\n",
    "\n",
    "# Disadvantages:\n",
    "#   - Increased complexity\n",
    "#   - Synchronization issues\n",
    "#   - Overhead\n",
    "\n",
    "# Q6. Explain deadlocks and race conditions.\n",
    "\n",
    "# Deadlock: A situation where two or more threads are blocked, waiting for each other to release resources.\n",
    "# Race condition: A situation where the result of a computation depends on the timing of multiple threads accessing shared data."
   ]
  },
  {
   "cell_type": "code",
   "execution_count": null,
   "metadata": {},
   "outputs": [],
   "source": []
  }
 ],
 "metadata": {
  "kernelspec": {
   "display_name": "Python 3",
   "language": "python",
   "name": "python3"
  },
  "language_info": {
   "codemirror_mode": {
    "name": "ipython",
    "version": 3
   },
   "file_extension": ".py",
   "mimetype": "text/x-python",
   "name": "python",
   "nbconvert_exporter": "python",
   "pygments_lexer": "ipython3",
   "version": "3.11.9"
  }
 },
 "nbformat": 4,
 "nbformat_minor": 2
}
