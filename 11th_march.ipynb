{
 "cells": [
  {
   "cell_type": "markdown",
   "metadata": {},
   "source": [
    "Q1: What is the difference between a t-test and a z-test? Provide an example scenario where you would use each type of test.\n",
    "\n",
    "-> t test uses population standard deviation and z test uses sample standard deviation. if the population mean , population standard deviation are known than we wil use z test and if population mean , sample standard deviation are known than we will use t test\n",
    "\n",
    "Q2: Differentiate between one-tailed and two-tailed tests.\n",
    "\n",
    "-> one tailed test :- here the value of the random variable will lie on either side of the mean \n",
    "\n",
    "two tailed test:- here the value of the random variable can lie on both the side of the mean \n",
    "\n",
    "Q3: Explain the concept of Type 1 and Type 2 errors in hypothesis testing. Provide an example scenario for\n",
    "each type of error.\n",
    "\n",
    "-> Type 1 :- when the predicted output is true but actually the output is false , for example the a particular machine learning model predicted that the price of diamond will rise but in reality the price fell down \n",
    "\n",
    "Type 2 :- when the predicted output is false but the actaul output is true , for example a particular machine learning model predicted that the price of the diamond will fall but it actually rised\n",
    "\n",
    "Q4: Explain Bayes's theorem with an example.\n",
    "\n",
    "-> Baye's theorem is used when we impose two conditional probability, for example what given three boxes having some fixed amount of red , white and blue balls , a ball is drawn at random and is found to be red what is the probability that it is drawn from the second box\n",
    "\n",
    "Q5: What is a confidence interval? How to calculate the confidence interval, explain with an example.\n",
    "\n",
    "-> Confidence interval is the interval of values , in which if the tested value lies than the null hypothesis will be accepted else it will be rejected. It is calculated by using the formula : 1-alpha , where alpha is the significance value .For example :- if alpha value is 0.05 than what is the confidence interval , 1- 0.05 which is 0.95 , now z score can be found for the particular area under the curve using the confidence interval and x value can be found if mean and standard deviation are given else we can only find the z score corresponding to the confidence interval. \n",
    "\n",
    "Q6. Use Bayes' Theorem to calculate the probability of an event occurring given prior knowledge of the\n",
    "event's probability and new evidence. Provide a sample problem and solution.\n",
    "\n",
    "->sample problem : \n",
    "\n",
    "question :-A factory produces light bulbs, and two machines, Machine A and Machine B, are used to manufacture them. Machine A produces 60% of the bulbs, and Machine B produces 40% of the bulbs. Machine A has a defect rate of 5%, while Machine B has a defect rate of 3%. If you randomly pick a light bulb from the factory's production and find that it is defective, what is the probability that it came from Machine A? Use Bayes' Theorem to calculate this probability.\n",
    "\n",
    "\n",
    "\n",
    "\n"
   ]
  },
  {
   "cell_type": "code",
   "execution_count": 4,
   "metadata": {},
   "outputs": [
    {
     "name": "stdout",
     "output_type": "stream",
     "text": [
      "0.7142857142857143\n"
     ]
    }
   ],
   "source": [
    "print((0.6*0.05)/(0.6*0.05 + 0.4*0.03))"
   ]
  },
  {
   "cell_type": "markdown",
   "metadata": {},
   "source": [
    "Q7. Calculate the 95% confidence interval for a sample of data with a mean of 50 and a standard deviation of 5. Interpret the results."
   ]
  },
  {
   "cell_type": "code",
   "execution_count": 5,
   "metadata": {},
   "outputs": [
    {
     "name": "stdout",
     "output_type": "stream",
     "text": [
      "95% Confidence Interval: (40.20, 59.80)\n"
     ]
    }
   ],
   "source": [
    "import scipy.stats as stats\n",
    "\n",
    "# Define the parameters\n",
    "confidence_level = 0.95  # 95% confidence interval\n",
    "mean = 50\n",
    "std_dev = 5\n",
    "\n",
    "# Calculate the z-scores for the lower and upper bounds\n",
    "alpha = 1 - confidence_level  # Significance level\n",
    "z_lower = stats.norm.ppf(alpha / 2)\n",
    "z_upper = stats.norm.ppf(1 - alpha / 2)\n",
    "\n",
    "# Calculate the values of x for the confidence interval\n",
    "lower_bound = mean + z_lower * (std_dev)\n",
    "upper_bound = mean + z_upper * (std_dev)\n",
    "\n",
    "# Print the confidence interval values\n",
    "print(f\"95% Confidence Interval: ({lower_bound:.2f}, {upper_bound:.2f})\")\n"
   ]
  },
  {
   "cell_type": "markdown",
   "metadata": {},
   "source": [
    "Q8. What is the margin of error in a confidence interval? How does sample size affect the margin of error?\n",
    "Provide an example of a scenario where a larger sample size would result in a smaller margin of error.\n",
    "\n",
    "-> margin of error is used to calculate the confidence interval , as the sample size increases the margin of error decreases.\n",
    "\n"
   ]
  },
  {
   "cell_type": "code",
   "execution_count": 7,
   "metadata": {},
   "outputs": [
    {
     "name": "stdout",
     "output_type": "stream",
     "text": [
      "0.05879891953620162\n",
      "0.2629567621729745\n"
     ]
    }
   ],
   "source": [
    "n = 10000\n",
    "alpha = 0.05\n",
    "std = 3\n",
    "mean = 50\n",
    "from scipy.stats import norm\n",
    "\n",
    "\n",
    "\n",
    "z_value = norm.ppf(1 - alpha / 2)\n",
    "\n",
    "print((z_value*std)/n**0.5)\n",
    "n=500\n",
    "print((z_value*std)/n**0.5)"
   ]
  },
  {
   "cell_type": "markdown",
   "metadata": {},
   "source": [
    "Q9. Calculate the z-score for a data point with a value of 75, a population mean of 70, and a population standard deviation of 5. Interpret the results.\n"
   ]
  },
  {
   "cell_type": "code",
   "execution_count": 8,
   "metadata": {},
   "outputs": [
    {
     "name": "stdout",
     "output_type": "stream",
     "text": [
      "Z score is 1.0\n"
     ]
    }
   ],
   "source": [
    "print(f\"Z score is {(75-70)/5}\")"
   ]
  },
  {
   "cell_type": "markdown",
   "metadata": {},
   "source": [
    "Q10. In a study of the effectiveness of a new weight loss drug, a sample of 50 participants lost an average of 6 pounds with a standard deviation of 2.5 pounds. Conduct a hypothesis test to determine if the drug is significantly effective at a 95% confidence level using a t-test."
   ]
  },
  {
   "cell_type": "code",
   "execution_count": 10,
   "metadata": {},
   "outputs": [
    {
     "name": "stdout",
     "output_type": "stream",
     "text": [
      "Confidence Interval: (5.29, 6.71)\n"
     ]
    }
   ],
   "source": [
    "import scipy.stats as stats\n",
    "\n",
    "# Sample statistics\n",
    "sample_mean = 6  # Sample mean\n",
    "sample_std = 2.5  # Sample standard deviation\n",
    "sample_size = 50  # Sample size\n",
    "\n",
    "# Confidence level\n",
    "confidence_level = 0.95\n",
    "\n",
    "# Degrees of freedom for a t-distribution\n",
    "degrees_of_freedom = sample_size - 1\n",
    "\n",
    "# Step 1: Calculate the value of t at alpha/2\n",
    "alpha = 1 - confidence_level\n",
    "t_alpha_over_2 = stats.t.ppf(1 - alpha / 2, df=degrees_of_freedom)\n",
    "\n",
    "# Step 2: Calculate the confidence interval\n",
    "margin_of_error = t_alpha_over_2 * (sample_std / (sample_size ** 0.5))\n",
    "lower_limit = sample_mean - margin_of_error\n",
    "upper_limit = sample_mean + margin_of_error\n",
    "\n",
    "# Step 3: Print the confidence interval\n",
    "print(f\"Confidence Interval: ({lower_limit:.2f}, {upper_limit:.2f})\")\n",
    "\n",
    "# here the confidence interval has a significance change , thus there is a significance change \n",
    "# drop in weight because of the drug"
   ]
  },
  {
   "cell_type": "markdown",
   "metadata": {},
   "source": [
    "Q11. In a survey of 500 people, 65% reported being satisfied with their current job. Calculate the 95% confidence interval for the true proportion of people who are satisfied with their job."
   ]
  },
  {
   "cell_type": "code",
   "execution_count": 13,
   "metadata": {},
   "outputs": [
    {
     "name": "stdout",
     "output_type": "stream",
     "text": [
      "Confidence Interval: (325.0, 325.0)\n"
     ]
    }
   ],
   "source": [
    "import scipy.stats as stats\n",
    "\n",
    "# Sample statistics\n",
    "sample_size = 500  # Total number of people surveyed\n",
    "sample_proportion = 0.65  # Proportion of people satisfied with their job (65%)\n",
    "\n",
    "# Step 1: Calculate the mean\n",
    "mean = sample_size * sample_proportion\n",
    "\n",
    "# Step 2: Calculate degrees of freedom and alpha value\n",
    "degrees_of_freedom = sample_size - 1\n",
    "confidence_level = 0.95\n",
    "alpha = 1 - confidence_level\n",
    "\n",
    "# Step 3: Calculate the z-score for a two-tailed test\n",
    "z_alpha_over_2 = stats.norm.ppf(1 - alpha / 2)\n",
    "\n",
    "# Step 4: Standard deviation for a proportion with no assumed population standard deviation\n",
    "population_std_dev = 0\n",
    "\n",
    "# Step 5: Calculate the confidence interval\n",
    "margin_of_error = z_alpha_over_2 * (population_std_dev / (sample_size ** 0.5))\n",
    "lower_limit = sample_proportion - margin_of_error\n",
    "upper_limit = sample_proportion + margin_of_error\n",
    "\n",
    "# Print the confidence interval\n",
    "print(f\"Confidence Interval: ({lower_limit*500:.1f}, {upper_limit*500:.1f})\")\n"
   ]
  },
  {
   "cell_type": "markdown",
   "metadata": {},
   "source": [
    "Q12. A researcher is testing the effectiveness of two different teaching methods on student performance.\n",
    "Sample A has a mean score of 85 with a standard deviation of 6, while sample B has a mean score of 82\n",
    "with a standard deviation of 5. Conduct a hypothesis test to determine if the two teaching methods have a\n",
    "significant difference in student performance using a t-test with a significance level of 0.\n",
    "\n",
    "\n",
    "-> After conducting a t test we can see that there is a significant difference in both the teaching method , method a is better than method b"
   ]
  },
  {
   "cell_type": "code",
   "execution_count": null,
   "metadata": {},
   "outputs": [
    {
     "name": "stdout",
     "output_type": "stream",
     "text": [
      "Confidence Interval for Sample A: (83.42, 86.58)\n",
      "Confidence Interval for Sample B: (80.69, 83.31)\n"
     ]
    }
   ],
   "source": [
    "# taking a small sample size because we have to check if there is a significance difference \n",
    "# two sample\n",
    "\n",
    "import scipy.stats as stats\n",
    "\n",
    "# Sample statistics for sample A\n",
    "mean_A = 85\n",
    "std_dev_A = 6\n",
    "sample_size_A = 100\n",
    "\n",
    "# Sample statistics for sample B\n",
    "mean_B = 82\n",
    "std_dev_B = 5\n",
    "sample_size_B = 100\n",
    "\n",
    "# Step 1: Calculate the degrees of freedom\n",
    "degrees_of_freedom = sample_size_A -1\n",
    "\n",
    "# Step 2: Calculate the critical t-value for a two-tailed test at alpha/2\n",
    "alpha = 0.01\n",
    "t_critical = stats.t.ppf(1 - alpha / 2, df=degrees_of_freedom)\n",
    "\n",
    "# Step 3: Calculate the confidence intervals for both samples\n",
    "# Confidence interval for sample A\n",
    "margin_of_error_A = t_critical * (std_dev_A / (sample_size_A ** 0.5))\n",
    "lower_limit_A = mean_A - margin_of_error_A\n",
    "upper_limit_A = mean_A + margin_of_error_A\n",
    "\n",
    "# Confidence interval for sample B\n",
    "margin_of_error_B = t_critical * (std_dev_B / (sample_size_B ** 0.5))\n",
    "lower_limit_B = mean_B - margin_of_error_B\n",
    "upper_limit_B = mean_B + margin_of_error_B\n",
    "\n",
    "# Print the confidence intervals for both samples\n",
    "print(f\"Confidence Interval for Sample A: ({lower_limit_A:.2f}, {upper_limit_A:.2f})\")\n",
    "print(f\"Confidence Interval for Sample B: ({lower_limit_B:.2f}, {upper_limit_B:.2f})\")\n",
    "\n"
   ]
  },
  {
   "cell_type": "markdown",
   "metadata": {},
   "source": [
    "Q13. A population has a mean of 60 and a standard deviation of 8. A sample of 50 observations has a mean of 65. Calculate the 90% confidence interval for the true population mean.\n",
    "\n"
   ]
  },
  {
   "cell_type": "code",
   "execution_count": 16,
   "metadata": {},
   "outputs": [
    {
     "name": "stdout",
     "output_type": "stream",
     "text": [
      "Confidence Interval: (63.14, 66.86)\n"
     ]
    }
   ],
   "source": [
    "# Population parameters\n",
    "population_mean = 60\n",
    "population_std_dev = 8\n",
    "\n",
    "# Sample statistics\n",
    "sample_mean = 65\n",
    "sample_size = 50\n",
    "\n",
    "# Step 1: Calculate the Z-score for the 90% confidence level\n",
    "confidence_level = 0.90\n",
    "alpha = 1 - confidence_level\n",
    "z_score = abs(stats.norm.ppf(alpha / 2))  # Using the standard normal distribution\n",
    "\n",
    "# Step 2: Calculate the confidence interval\n",
    "margin_of_error = z_score * (population_std_dev / (sample_size**0.5))\n",
    "lower_limit = sample_mean - margin_of_error\n",
    "upper_limit = sample_mean + margin_of_error\n",
    "\n",
    "# Step 3: Print the confidence interval\n",
    "print(f\"Confidence Interval: ({lower_limit:.2f}, {upper_limit:.2f})\")\n"
   ]
  },
  {
   "cell_type": "markdown",
   "metadata": {},
   "source": [
    "Q14. In a study of the effects of caffeine on reaction time, a sample of 30 participants had an average reaction time of 0.25 seconds with a standard deviation of 0.05 seconds. Conduct a hypothesis test to determine if the caffeine has a significant effect on reaction time at a 90% confidence level using a t-test.\n",
    "\n",
    "\n",
    "-> the average reaction time for a human is 0.284 , looking at the output of the confidence inteval for the below code , we can confirm that , yes caffeine indeed has a significant effect on the reaction time "
   ]
  },
  {
   "cell_type": "code",
   "execution_count": 18,
   "metadata": {},
   "outputs": [
    {
     "name": "stdout",
     "output_type": "stream",
     "text": [
      "Confidence Interval (in seconds): (0.2345, 0.2655)\n"
     ]
    }
   ],
   "source": [
    "import scipy.stats as stats\n",
    "\n",
    "# Sample statistics\n",
    "sample_mean = 0.25  # Average reaction time in seconds\n",
    "sample_std_dev = 0.05  # Standard deviation in seconds\n",
    "sample_size = 30\n",
    "\n",
    "# Step 1: Define the confidence level\n",
    "confidence_level = 0.90\n",
    "\n",
    "# Step 2: Calculate degrees of freedom\n",
    "degrees_of_freedom = sample_size - 1\n",
    "\n",
    "# Step 3: Calculate the t-critical value for a two-tailed test\n",
    "alpha = 1 - confidence_level\n",
    "t_critical = abs(stats.t.ppf(alpha / 2, df=degrees_of_freedom))\n",
    "\n",
    "# Step 4: Compute the margin of error\n",
    "standard_error = sample_std_dev / (sample_size ** 0.5)\n",
    "margin_of_error = t_critical * standard_error\n",
    "\n",
    "# Step 5: Calculate the confidence interval in terms of time (seconds)\n",
    "lower_limit = sample_mean - margin_of_error\n",
    "upper_limit = sample_mean + margin_of_error\n",
    "\n",
    "# Step 6: Print the confidence interval\n",
    "print(f\"Confidence Interval (in seconds): ({lower_limit:.4f}, {upper_limit:.4f})\")\n"
   ]
  },
  {
   "cell_type": "code",
   "execution_count": null,
   "metadata": {},
   "outputs": [],
   "source": []
  }
 ],
 "metadata": {
  "kernelspec": {
   "display_name": "Python 3",
   "language": "python",
   "name": "python3"
  },
  "language_info": {
   "codemirror_mode": {
    "name": "ipython",
    "version": 3
   },
   "file_extension": ".py",
   "mimetype": "text/x-python",
   "name": "python",
   "nbconvert_exporter": "python",
   "pygments_lexer": "ipython3",
   "version": "3.11.6"
  }
 },
 "nbformat": 4,
 "nbformat_minor": 2
}
