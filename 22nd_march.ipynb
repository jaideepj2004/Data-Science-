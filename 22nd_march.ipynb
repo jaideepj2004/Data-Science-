{
 "cells": [
  {
   "cell_type": "markdown",
   "metadata": {},
   "source": [
    "Q1. Pearson correlation coefficient is a measure of the linear relationship between two variables. Suppose\n",
    "you have collected data on the amount of time students spend studying for an exam and their final exam\n",
    "scores. Calculate the Pearson correlation coefficient between these two variables and interpret the result.\n",
    "\n"
   ]
  },
  {
   "cell_type": "code",
   "execution_count": 1,
   "metadata": {},
   "outputs": [
    {
     "name": "stdout",
     "output_type": "stream",
     "text": [
      "Mean time: 32.5\n",
      "Mean scores: 82.5\n",
      "Pearson Correlation Coefficient: 1.0\n"
     ]
    }
   ],
   "source": [
    "import numpy as np\n",
    "\n",
    "# Step 1: Create a random dataset\n",
    "time = np.array([10, 15, 20, 25, 30, 35, 40, 45, 50, 55])\n",
    "scores = np.array([60, 65, 70, 75, 80, 85, 90, 95, 100, 105])\n",
    "\n",
    "# Step 2: Calculate the mean of both variables\n",
    "mean_time = np.mean(time)\n",
    "mean_scores = np.mean(scores)\n",
    "\n",
    "print(\"Mean time:\", mean_time)\n",
    "print(\"Mean scores:\", mean_scores)\n",
    "\n",
    "# Step 3: Calculate the Pearson correlation coefficient\n",
    "numerator = np.sum((time - mean_time) * (scores - mean_scores))\n",
    "denominator = np.sqrt(np.sum((time - mean_time)**2) * np.sum((scores - mean_scores)**2))\n",
    "correlation_coefficient = numerator / denominator\n",
    "\n",
    "print(\"Pearson Correlation Coefficient:\", correlation_coefficient)\n"
   ]
  },
  {
   "cell_type": "markdown",
   "metadata": {},
   "source": [
    "As the value of Pearson Correlation is 1 and looking at the data we can see that if the number of studying hour is increased than the score is also increased , we can say that there is a strong correlation between the number of studying hours and the final scores . and as the number of strudying hours increases the score in the exam also increases . \n",
    "\n",
    "Q2. Spearman's rank correlation is a measure of the monotonic relationship between two variables.\n",
    "Suppose you have collected data on the amount of sleep individuals get each night and their overall job\n",
    "satisfaction level on a scale of 1 to 10. Calculate the Spearman's rank correlation between these two\n",
    "variables and interpret the result."
   ]
  },
  {
   "cell_type": "code",
   "execution_count": 2,
   "metadata": {},
   "outputs": [
    {
     "name": "stdout",
     "output_type": "stream",
     "text": [
      "Spearman's Rank Correlation Coefficient: 0.9875771574795098\n"
     ]
    }
   ],
   "source": [
    "import numpy as np\n",
    "from scipy.stats import spearmanr\n",
    "\n",
    "# Step 1: Create a random dataset\n",
    "sleep = np.array([7, 5, 6, 8, 7, 9, 6, 5, 8, 7])  # Amount of sleep\n",
    "job_satisfaction = np.array([8, 5, 6, 9, 7, 10, 6, 4, 9, 7])  # Overall job satisfaction on a scale of 1 to 10\n",
    "\n",
    "# Step 2: Calculate Spearman's rank correlation coefficient\n",
    "spearman_corr, _ = spearmanr(sleep, job_satisfaction)\n",
    "\n",
    "# Print the result\n",
    "print(\"Spearman's Rank Correlation Coefficient:\", spearman_corr)\n"
   ]
  },
  {
   "cell_type": "markdown",
   "metadata": {},
   "source": [
    "As the value of Spearman's rank correlation is close to 1 and looking at the data we can say that as the amount of sleep at night increases the job satisfaction also increases in most of the cases . Thus we can conclude that as the number of sleep hours at night increases the job satisfaction also increases .\n",
    "\n",
    "Q3. Suppose you are conducting a study to examine the relationship between the number of hours of\n",
    "exercise per week and body mass index (BMI) in a sample of adults. You collected data on both variables\n",
    "for 50 participants. Calculate the Pearson correlation coefficient and the Spearman's rank correlation\n",
    "between these two variables and compare the results. \n",
    "\n"
   ]
  },
  {
   "cell_type": "code",
   "execution_count": 3,
   "metadata": {},
   "outputs": [
    {
     "name": "stdout",
     "output_type": "stream",
     "text": [
      "Pearson Correlation Coefficient: 0.062209425142751615\n",
      "Spearman's Rank Correlation Coefficient: 0.08350540216086433\n"
     ]
    }
   ],
   "source": [
    "import numpy as np\n",
    "from scipy.stats import pearsonr, spearmanr\n",
    "\n",
    "# Set a random seed for reproducibility\n",
    "np.random.seed(42)\n",
    "\n",
    "# Creating datasets for 50 participants\n",
    "exercise_hours = np.random.uniform(2, 10, 50)  # Random exercise hours per week\n",
    "bmi = np.random.uniform(18, 30, 50)  # Random BMI values\n",
    "\n",
    "# Calculate Pearson correlation coefficient\n",
    "pearson_corr, _ = pearsonr(exercise_hours, bmi)\n",
    "\n",
    "# Calculate Spearman's rank correlation coefficient\n",
    "spearman_corr, _ = spearmanr(exercise_hours, bmi)\n",
    "\n",
    "# Print the results\n",
    "print(\"Pearson Correlation Coefficient:\", pearson_corr)\n",
    "print(\"Spearman's Rank Correlation Coefficient:\", spearman_corr)\n"
   ]
  },
  {
   "cell_type": "markdown",
   "metadata": {},
   "source": [
    "Both the correlation are close to zero which says that the there is no relationship between the number of exercising hours per week and the BMI . \n",
    "\n",
    "Q4. A researcher is interested in examining the relationship between the number of hours individuals\n",
    "spend watching television per day and their level of physical activity. The researcher collected data on\n",
    "both variables from a sample of 50 participants. Calculate the Pearson correlation coefficient between\n",
    "these two variables.\n",
    "\n"
   ]
  },
  {
   "cell_type": "code",
   "execution_count": 4,
   "metadata": {},
   "outputs": [
    {
     "name": "stdout",
     "output_type": "stream",
     "text": [
      "Pearson Correlation Coefficient: 0.062209425142751705\n"
     ]
    }
   ],
   "source": [
    "import numpy as np\n",
    "from scipy.stats import pearsonr\n",
    "\n",
    "# Set a random seed for reproducibility\n",
    "np.random.seed(42)\n",
    "\n",
    "# Creating datasets for 50 participants\n",
    "tv_hours = np.random.uniform(1, 5, 50)  # Random hours of TV watching per day\n",
    "physical_activity = np.random.uniform(1, 10, 50)  # Random level of physical activity\n",
    "\n",
    "# Calculate Pearson correlation coefficient\n",
    "pearson_corr, _ = pearsonr(tv_hours, physical_activity)\n",
    "\n",
    "# Print the result\n",
    "print(\"Pearson Correlation Coefficient:\", pearson_corr)\n"
   ]
  },
  {
   "cell_type": "markdown",
   "metadata": {},
   "source": [
    "As the Pearson Correlation Coeficient is 0 , there is no relationship between the number of television watching hours and the time in hours for physical activity .\n",
    "\n",
    "Q6. A company is interested in examining the relationship between the number of sales calls made per day\n",
    "and the number of sales made per week. The company collected data on both variables from a sample of\n",
    "30 sales representatives. Calculate the Pearson correlation coefficient between these two variables."
   ]
  },
  {
   "cell_type": "code",
   "execution_count": 5,
   "metadata": {},
   "outputs": [
    {
     "name": "stdout",
     "output_type": "stream",
     "text": [
      "Pearson Correlation Coefficient: 0.22824436002553491\n"
     ]
    }
   ],
   "source": [
    "import numpy as np\n",
    "from scipy.stats import pearsonr\n",
    "\n",
    "# Set a random seed for reproducibility\n",
    "np.random.seed(42)\n",
    "\n",
    "# Creating datasets for 30 sales representatives\n",
    "sales_calls_per_day = np.random.randint(20, 50, 30)  # Random number of sales calls per day\n",
    "sales_per_week = np.random.randint(50, 100, 30)  # Random number of sales per week\n",
    "\n",
    "# Calculate Pearson correlation coefficient\n",
    "pearson_corr, _ = pearsonr(sales_calls_per_day, sales_per_week)\n",
    "\n",
    "# Print the result\n",
    "print(\"Pearson Correlation Coefficient:\", pearson_corr)\n"
   ]
  },
  {
   "cell_type": "markdown",
   "metadata": {},
   "source": [
    "as the pearson correlatin coefficient is close to 0 there is no relationship between the number of calls made per day and the number of sales made per week \n",
    "\n"
   ]
  },
  {
   "cell_type": "code",
   "execution_count": 8,
   "metadata": {},
   "outputs": [
    {
     "name": "stdout",
     "output_type": "stream",
     "text": [
      "Assigned Values:\n",
      "   Age    Preference  Preference_Value\n",
      "0   25          Coke                23\n",
      "1   42         Pepsi                36\n",
      "2   37  Mountain Dew                37\n",
      "3   19          Coke                23\n",
      "4   31         Pepsi                36\n",
      "5   28          Coke                23\n",
      "\n",
      "Assigned Ranks:\n",
      "   Age  Age_Rank    Preference  Preference_Value  Preference_Rank\n",
      "0   25       2.0          Coke                23              2.0\n",
      "1   42       6.0         Pepsi                36              4.5\n",
      "2   37       5.0  Mountain Dew                37              6.0\n",
      "3   19       1.0          Coke                23              2.0\n",
      "4   31       4.0         Pepsi                36              4.5\n",
      "5   28       3.0          Coke                23              2.0\n",
      "\n",
      "Spearman Rank Correlation Coefficient: 0.8332380897952965\n",
      "Pearson Correlation Coefficient (for comparison): 0.8372956988749133\n"
     ]
    }
   ],
   "source": [
    "import pandas as pd\n",
    "from scipy.stats import spearmanr, pearsonr\n",
    "\n",
    "# Given data\n",
    "data = {'Age': [25, 42, 37, 19, 31, 28],\n",
    "        'Preference': ['Coke', 'Pepsi', 'Mountain Dew', 'Coke', 'Pepsi', 'Coke']}\n",
    "\n",
    "# Creating a DataFrame\n",
    "df = pd.DataFrame(data)\n",
    "\n",
    "# Assign specific values to each drink\n",
    "drink_values = {'Coke': (19+28)//2, 'Pepsi': 36, 'Mountain Dew': 37}\n",
    "df['Preference_Value'] = df['Preference'].map(drink_values)\n",
    "\n",
    "# Print assigned values\n",
    "print(\"Assigned Values:\")\n",
    "print(df[['Age', 'Preference', 'Preference_Value']])\n",
    "\n",
    "# Step 1: Assign ranks\n",
    "df['Age_Rank'] = df['Age'].rank()\n",
    "df['Preference_Rank'] = df['Preference_Value'].rank()\n",
    "\n",
    "# Print assigned ranks\n",
    "print(\"\\nAssigned Ranks:\")\n",
    "print(df[['Age', 'Age_Rank', 'Preference', 'Preference_Value', 'Preference_Rank']])\n",
    "\n",
    "# Step 2: Calculate Spearman rank correlation coefficient\n",
    "spearman_corr, _ = spearmanr(df['Age_Rank'], df['Preference_Rank'])\n",
    "\n",
    "# Step 3: Calculate Pearson correlation coefficient for comparison\n",
    "pearson_corr, _ = pearsonr(df['Age'], df['Preference_Value'])\n",
    "\n",
    "# Print the results\n",
    "print(\"\\nSpearman Rank Correlation Coefficient:\", spearman_corr)\n",
    "print(\"Pearson Correlation Coefficient (for comparison):\", pearson_corr)\n"
   ]
  },
  {
   "cell_type": "markdown",
   "metadata": {},
   "source": [
    "for an age group of 19-28 , 31 - 42 and 37 for coke , pepsi and mountain dew there is a strong correlation as both the correlation coeffiencient and rank correlation are close to 1 .\n",
    "which means that age group of 19-28 strongly prefer coke and 31-42 strongly prefer mountain dew."
   ]
  }
 ],
 "metadata": {
  "kernelspec": {
   "display_name": "Python 3",
   "language": "python",
   "name": "python3"
  },
  "language_info": {
   "codemirror_mode": {
    "name": "ipython",
    "version": 3
   },
   "file_extension": ".py",
   "mimetype": "text/x-python",
   "name": "python",
   "nbconvert_exporter": "python",
   "pygments_lexer": "ipython3",
   "version": "3.11.6"
  }
 },
 "nbformat": 4,
 "nbformat_minor": 2
}
