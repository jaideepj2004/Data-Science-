{
 "cells": [
  {
   "cell_type": "markdown",
   "metadata": {},
   "source": [
    "Q1. What is the Probability density function?\n",
    "\n",
    "-> Probability density function is a continous function which is assigned to the probability for a particular event\n",
    "\n",
    "Q2. What are the types of Probability distribution?\n",
    "\n",
    "-> The types of Probability distributin are :\n",
    "      1. Guassian distibution \n",
    "      2. binomial \n",
    "      3. bernouli \n",
    "      4. lognornal \n",
    "      5. uniform\n",
    "      6. exponential \n",
    "\n",
    "Q3. Write a Python function to calculate the probability density function of a normal distribution with\n",
    "given mean and standard deviation at a given point.\n",
    "\n"
   ]
  },
  {
   "cell_type": "code",
   "execution_count": 4,
   "metadata": {},
   "outputs": [
    {
     "name": "stdout",
     "output_type": "stream",
     "text": [
      "The PDF at x = 1.5 is 0.1295\n"
     ]
    }
   ],
   "source": [
    "import scipy.stats as stats\n",
    "\n",
    "def normal_pdf(x, mean, std_dev):\n",
    "    pdf = stats.norm.pdf(x, loc=mean, scale=std_dev)\n",
    "    return pdf\n",
    "\n",
    "# Example usage:\n",
    "mean = 0.0\n",
    "std_dev = 1.0\n",
    "x = 1.5\n",
    "pdf_value = normal_pdf(x, mean, std_dev)\n",
    "print(f\"The PDF at x = {x} is {pdf_value:.4f}\")\n"
   ]
  },
  {
   "cell_type": "markdown",
   "metadata": {},
   "source": [
    "Q4. What are the properties of Binomial distribution? Give two examples of events where binomial\n",
    "distribution can be applied.\n",
    "\n",
    "-> For every single event inside a binomial distrubution there is only two possibility \n",
    "\n",
    "   n such events together make the binomial distribution \n",
    "\n",
    "   eg :- 1. tossing a coin 10 times\n",
    "\n",
    "         2. rolling a die 5 times\n",
    "\n",
    "Q5. Generate a random sample of size 1000 from a binomial distribution with probability of success 0.4\n",
    "and plot a histogram of the results using matplotlib.\n"
   ]
  },
  {
   "cell_type": "code",
   "execution_count": 13,
   "metadata": {},
   "outputs": [
    {
     "data": {
      "image/png": "[encoded data removed]",
      "text/plain": [
       "<Figure size 640x480 with 1 Axes>"
      ]
     },
     "metadata": {},
     "output_type": "display_data"
    }
   ],
   "source": [
    "import random\n",
    "import matplotlib.pyplot as plt\n",
    "\n",
    "# Generate a list of random values with only 0.4 and 0.6\n",
    "num_samples = 1000  # You can adjust this to change the number of samples\n",
    "values = [0.4 if random.random() < 0.5 else 0.6 for _ in range(num_samples)]\n",
    "\n",
    "# Calculate the frequencies of 0.4 and 0.6 in the list\n",
    "freq_0_4 = values.count(0.4)\n",
    "freq_0_6 = values.count(0.6)\n",
    "\n",
    "# Create x and y coordinate lists for the lines\n",
    "x_coordinates = [0.4, 0.6]\n",
    "y_coordinates = [freq_0_4, freq_0_6]\n",
    "\n",
    "# Create a bar graph with vertical lines\n",
    "plt.bar(x_coordinates, y_coordinates, width=0.02, color='b')\n",
    "plt.title('Frequency of Values (0.4 and 0.6)')\n",
    "plt.xlabel('Value')\n",
    "plt.ylabel('Frequency')\n",
    "\n",
    "# Show the plot\n",
    "plt.show()\n"
   ]
  },
  {
   "cell_type": "code",
   "execution_count": 16,
   "metadata": {},
   "outputs": [
    {
     "name": "stdout",
     "output_type": "stream",
     "text": [
      "The CDF at x = 2 is 0.4232\n"
     ]
    }
   ],
   "source": [
    "# Q6. Write a Python function to calculate the cumulative distribution function of a Poisson distribution\n",
    "# with given mean at a given point.\n",
    "\n",
    "import scipy.stats as stats\n",
    "\n",
    "# Specify the mean of the Poisson distribution\n",
    "mean = 3.0\n",
    "\n",
    "# Calculate the CDF at a specific point, e.g., 2\n",
    "x = 2\n",
    "cdf_value = stats.poisson.cdf(x, mu=mean)\n",
    "\n",
    "# Print the CDF value\n",
    "print(f\"The CDF at x = {x} is {cdf_value:.4f}\")\n"
   ]
  },
  {
   "cell_type": "markdown",
   "metadata": {},
   "source": [
    "Q7. How Binomial distribution different from Poisson distribution?\n",
    "\n",
    "-> Conditon for Poisson distribution :- \n",
    "   1. very large value of total possible outputs\n",
    "   2. very small probability of success \n",
    "   3. mean is a finite non zero number\n",
    "    there is no such condition for binomial distribution , we cant use binomial distribution when we have the first and second of the above condition "
   ]
  },
  {
   "cell_type": "code",
   "execution_count": 17,
   "metadata": {},
   "outputs": [
    {
     "name": "stdout",
     "output_type": "stream",
     "text": [
      "Sample Mean: 3.0100\n",
      "Sample Variance: 3.1019\n"
     ]
    }
   ],
   "source": [
    "import numpy as np\n",
    "\n",
    "# Specify the mean (lambda) of the Poisson distribution\n",
    "mean = 3.0\n",
    "\n",
    "# Generate a random sample of data points from a Poisson distribution\n",
    "sample_size = 1000\n",
    "random_sample = np.random.poisson(mean, sample_size)\n",
    "\n",
    "# Calculate the sample mean\n",
    "sample_mean = np.mean(random_sample)\n",
    "\n",
    "# Calculate the sample variance\n",
    "sample_variance = np.var(random_sample)\n",
    "\n",
    "print(f\"Sample Mean: {sample_mean:.4f}\")\n",
    "print(f\"Sample Variance: {sample_variance:.4f}\")\n"
   ]
  },
  {
   "cell_type": "markdown",
   "metadata": {},
   "source": [
    "Q9. How mean and variance are related in Binomial distribution and Poisson distribution?\n",
    "\n",
    "-> Mean and variance have same value in Poisson distribution wheareas they have different value in Binomial distribution \n",
    "\n",
    "Q10. In normal distribution with respect to mean position, where does the least frequent data appear?\n",
    "\n",
    "-> At a distrance of 3 standard deviation from the mean "
   ]
  },
  {
   "cell_type": "markdown",
   "metadata": {},
   "source": []
  }
 ],
 "metadata": {
  "kernelspec": {
   "display_name": "Python 3",
   "language": "python",
   "name": "python3"
  },
  "language_info": {
   "codemirror_mode": {
    "name": "ipython",
    "version": 3
   },
   "file_extension": ".py",
   "mimetype": "text/x-python",
   "name": "python",
   "nbconvert_exporter": "python",
   "pygments_lexer": "ipython3",
   "version": "3.11.6"
  }
 },
 "nbformat": 4,
 "nbformat_minor": 2
}
