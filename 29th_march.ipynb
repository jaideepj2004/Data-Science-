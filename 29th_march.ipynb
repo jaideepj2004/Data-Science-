{
 "cells": [
  {
   "cell_type": "markdown",
   "metadata": {},
   "source": [
    "Q1. What is Lasso Regression, and how does it differ from other regression techniques?\n",
    "\n",
    "-> Lasso regression is a regression which has a different cost function , along with the least sqaured error term , it also has lambda*summartion (modulus(slope)) . It helps to decrease the coefficient of the vairable having very less relation with the target variable. \n",
    "\n",
    "Q2. What is the main advantage of using Lasso Regression in feature selection?\n",
    "\n",
    "-> Lasso regression automatically removes the independent feature that does not help much or barely help in the prediction of the target variable thus helping in feature selection.\n",
    "\n",
    "Q3. How do you interpret the coefficients of a Lasso Regression model?\n",
    "\n",
    "-> Lasso regression decrease the value of the coefficient and thus reducing the computional power for the execution of the algorithm.\n",
    "\n",
    "Q4. What are the tuning parameters that can be adjusted in Lasso Regression, and how do they affect the\n",
    "model's performance?\n",
    "\n",
    "-> The tuning parameter that is adjusted in the Lasso regression is the lambda , more is the value of lambda smaller will be the value of the coefficient and more likely will be a feature to be removed .\n",
    "\n",
    "Q5. Can Lasso Regression be used for non-linear regression problems? If yes, how?\n",
    "\n",
    "-> No , it is not likely to use lasso regression for non linear dataset as it will not have a good accuracy however if we really want to use it than we can use it but as a result of it the model will have a poor accuracy.\n",
    "\n",
    "Q6. What is the difference between Ridge Regression and Lasso Regression?\n",
    "\n",
    "-> Ridge regression is used to handle multicollinearity wheares Lasso regression is used for feature selection , it reduces the coefficient of variable almost to zero having very less contribution to the target variable. Both of these model have different cost fucntion .\n",
    "\n",
    "Q7. Can Lasso Regression handle multicollinearity in the input features? If yes, how?\n",
    "\n",
    "-> No , Lasso regression cannot handle severe multicollinearity.\n",
    "\n",
    "Q8. How do you choose the optimal value of the regularization parameter (lambda) in Lasso Regression?\n",
    "\n",
    "-> If we want to reduce the contribution of more number of feature than we take the higher value of lambda else we take the lower value of the lambda . Another method is hit and trial , where we test the accuracy of the model for different values of lambda and value of lambda for which the accuracy of the model is high is than chosen."
   ]
  },
  {
   "cell_type": "markdown",
   "metadata": {},
   "source": []
  }
 ],
 "metadata": {
  "language_info": {
   "name": "python"
  }
 },
 "nbformat": 4,
 "nbformat_minor": 2
}
