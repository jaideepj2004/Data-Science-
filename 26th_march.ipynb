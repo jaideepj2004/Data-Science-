{
 "cells": [
  {
   "cell_type": "markdown",
   "metadata": {},
   "source": [
    "Q1. Explain the difference between simple linear regression and multiple linear regression. Provide an\n",
    "example of each.\n",
    "\n",
    "-> In simple linear regression we have one dependent feature and one independent feature , eg predicting the house price only based on size of the house . In multiple linear regression we have one dependent feature and multiple dependent feature for eg , predicting the house price based on size of the room , location and size of the house.\n",
    "\n",
    "\n",
    "Q2. Discuss the assumptions of linear regression. How can you check whether these assumptions hold in\n",
    "a given dataset?\n",
    "-> Assumption of linear regression is that it is a supervised machine learning model which means that we label the input and the output data , and the model predicts that output data based on the labelling and how it is used in the training data set , and also the output should be continous . We have to check whether there are finite number of possible output in the training data set and whether we have both the input and the output data in the training dataset \n",
    "\n",
    "Q3. How do you interpret the slope and intercept in a linear regression model? Provide an example using\n",
    "a real-world scenario.\n",
    "\n",
    "-> steps : \n",
    "\n",
    "1. Assume the intercept \n",
    "2. for finding the slope so that error is minimum , we first input any value of slope \n",
    "3. than we use the convergence algorithm , where we keep inputting the values of slope and because the equation of convergence algorithm we keep getting closer and closer to the actual value , we repeat this until the value of derivative in the convergence equation becomes zero. \n",
    "4. now we use the convergence equation for the intercept term keeping the slope fixed and keep changing the value of intercept based on the convergence equation. We keep changing the value of the intercept until the derivative term in the convergence equation becomes equal to zero .\n",
    "\n",
    "Q4. Explain the concept of gradient descent. How is it used in machine learning?\n",
    "\n",
    "-> Gradient descent is a concept of reaching the local minima or local maxime using the slope of the curve . It is used for the optimization of a value in machine learning algorithms.\n",
    "\n",
    "\n",
    "Q5. Describe the multiple linear regression model. How does it differ from simple linear regression?\n",
    "\n",
    "-> Multiple linear regression model is a linear regresson model having multiple independent feature and one dependent feature , in simple linear regression we have one dependent and one independent feature wheareas in multiple linear regression we have multiple independent and one dependent feature .\n",
    "\n",
    "Q6. Explain the concept of multicollinearity in multiple linear regression. How can you detect and\n",
    "address this issue?\n",
    "\n",
    "-> Multicollinearity occurs when two or more independent variable are strongly realted to each other . We can check the multicollinearity by taking one indpendent variable as the dependent variable keeping the other independent variable as it is . Now if we are able to predict the new dependent feature using the new set of independent variable formed by just dropping an independent variable than multicollinearity is present and we just drop our new dependent feature to remove multicollinearity , we repeat this process with all the variable to detect and adress the multicollienarity , also if the value of toleranz is less than 0.1 and vif is greater than 10 than multicollinearity exist else it wont \n",
    "\n",
    "Q7. Describe the polynomial regression model. How is it different from linear regression?\n",
    "\n",
    "-> In linear regression model than degree of the equation used for the regression is 1 whereas in polynomical regression model the degree of the equation used for the regression can be any whole number.\n",
    "\n",
    "Q8. What are the advantages and disadvantages of polynomial regression compared to linear\n",
    "regression? In what situations would you prefer to use polynomial regression?\n",
    "\n",
    "-> Advantages of polynomial regression : \n",
    "1. It can covers more variety of distribution of a data set \n",
    "Disadvantages : \n",
    "1. Higher degree of polynomial leads to overfitting of data\n",
    "\n",
    "when the datapoints forms a curve other than the line , than we would prefer using the polynomial regression other than the linear regression .\n",
    "\n"
   ]
  }
 ],
 "metadata": {
  "language_info": {
   "name": "python"
  }
 },
 "nbformat": 4,
 "nbformat_minor": 2
}
