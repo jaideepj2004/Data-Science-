{
 "cells": [
  {
   "cell_type": "markdown",
   "metadata": {},
   "source": [
    "Q1. Describe the decision tree classifier algorithm and how it works to make predictions.\n",
    "\n",
    "-> construction of decision tree : \n",
    "1. Information gain for all the variable is calculated \n",
    "2. Node having higher information gain is kept towards root\n",
    "3. Node having the highest information gain is the root node \n",
    "4. Instead of information gain , we can even use entropy or Gini impurity\n",
    "5. Each node is splitted until we get the leaf node \n",
    "6. Leaf node are nodes having pure split \n",
    "7. Pure split are split that give rise to answers \n",
    "\n",
    "calculation of answer : \n",
    "1. Answer is calculated by traversing the tree from root node until a leaf node  ,by following the given inputs and the condition at each node\n",
    "\n",
    "Q2. Provide a step-by-step explanation of the mathematical intuition behind decision tree classification.\n",
    "\n",
    "-> The node having larger information gain should be kept at top as it is having minimum entropy and can lead to the answer more likely than node having lower information gain \n",
    "\n",
    "Q3. Explain how a decision tree classifier can be used to solve a binary classification problem.\n",
    "\n",
    "-> construction of decision tree : \n",
    "1. Information gain for all the variable is calculated \n",
    "2. Node having higher information gain is kept towards root\n",
    "3. Node having the highest information gain is the root node \n",
    "4. Instead of information gain , we can even use entropy or Gini impurity\n",
    "5. Each node is splitted until we get the leaf node \n",
    "6. Leaf node are nodes having pure split \n",
    "7. Pure split are split that give rise to answers \n",
    "\n",
    "calculation of answer : \n",
    "1. Answer is calculated by traversing the tree from root node until a leaf node  ,by following the given input and the condition at each node \n",
    "\n",
    "By following the above two main steps the decision tree can find the answer to a binary classificaition problem \n",
    "\n",
    "Q4. Discuss the geometric intuition behind decision tree classification and how it can be used to make\n",
    "predictions.\n",
    "\n",
    "-> Travelling towards the end of the tree that is towards the leaf node , by following the given condition on the node and the given input , we reach towards the leaf node , and leaf node has the answer , thus at each split we reach closer and closer to our answer until we reach the leaf node \n",
    "\n",
    "Q5. Define the confusion matrix and describe how it can be used to evaluate the performance of a\n",
    "classification model.\n",
    "\n",
    "-> Confusion matrix is a matrix that has all possible output as rows and columns , it can be used find how many predictions are correct and how many prediction are wrong , and if the answer is wrong that what is the output and the predicted output , it can be used to calculate recall, f beta score and precision  \n",
    "\n",
    "Q6. Provide an example of a confusion matrix and explain how precision, recall, and F1 score can be\n",
    "calculated from it."
   ]
  },
  {
   "cell_type": "code",
   "execution_count": 2,
   "metadata": {},
   "outputs": [
    {
     "name": "stdout",
     "output_type": "stream",
     "text": [
      "Confusion Matrix:\n",
      "[[3 1]\n",
      " [1 5]]\n",
      "\n",
      "Precision: 0.8333333333333334\n",
      "Recall: 0.8333333333333334\n",
      "F1 Score: 0.8333333333333334\n"
     ]
    }
   ],
   "source": [
    "from sklearn.metrics import confusion_matrix, precision_score, recall_score, f1_score\n",
    "\n",
    "# Actual labels\n",
    "y_true = [1, 0, 1, 0, 1, 1, 0, 1, 0, 1]\n",
    "\n",
    "# Predicted labels\n",
    "y_pred = [1, 0, 1, 0, 1, 0, 1, 1, 0, 1]\n",
    "\n",
    "# Calculate confusion matrix\n",
    "conf_matrix = confusion_matrix(y_true, y_pred)\n",
    "\n",
    "# Extract values from confusion matrix\n",
    "TP, FP, FN, TN = conf_matrix.ravel()\n",
    "\n",
    "# Calculate precision, recall, and F1 score\n",
    "precision = precision_score(y_true, y_pred)\n",
    "recall = recall_score(y_true, y_pred)\n",
    "f1 = f1_score(y_true, y_pred)\n",
    "\n",
    "# Print results\n",
    "print(\"Confusion Matrix:\")\n",
    "print(conf_matrix)\n",
    "print(\"\\nPrecision:\", precision)\n",
    "print(\"Recall:\", recall)\n",
    "print(\"F1 Score:\", f1)\n"
   ]
  },
  {
   "cell_type": "markdown",
   "metadata": {},
   "source": [
    "Q7. Discuss the importance of choosing an appropriate evaluation metric for a classification problem and\n",
    "explain how this can be done.\n",
    "\n",
    "-> Depending upon the requirement we can select an appropritate evaluation metric and this can be done by understanding the problem statement and models output and how they are interrelated properly \n",
    "\n",
    "for mail spam classification problem , we must select precision as the evaluation metric and focus on it \n",
    "\n",
    "Q8. Provide an example of a classification problem where precision is the most important metric, and\n",
    "explain why.\n",
    "\n",
    "-> for mail spam classification , precision is the most important metric as even if we get spam mails than its fine but if an important mail goes into spam and is left unnoticed than that will become a blunder\n",
    "\n",
    "Q9. Provide an example of a classification problem where recall is the most important metric, and explain\n",
    "why.\n",
    "\n",
    "-> In medical test , recall is the most important metric as even if a person is said to be positive than he/she will be later noticed during their treatment that if they are actually positive or not but if a person is having a disease and is tested negative than it will be a blunder as disease may further increase and its severity will increase "
   ]
  }
 ],
 "metadata": {
  "kernelspec": {
   "display_name": "Python 3",
   "language": "python",
   "name": "python3"
  },
  "language_info": {
   "codemirror_mode": {
    "name": "ipython",
    "version": 3
   },
   "file_extension": ".py",
   "mimetype": "text/x-python",
   "name": "python",
   "nbconvert_exporter": "python",
   "pygments_lexer": "ipython3",
   "version": "3.11.6"
  }
 },
 "nbformat": 4,
 "nbformat_minor": 2
}
