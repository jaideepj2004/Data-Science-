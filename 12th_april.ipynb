{
 "cells": [
  {
   "cell_type": "markdown",
   "metadata": {},
   "source": [
    "Q1. How does bagging reduce overfitting in decision trees?\n",
    "\n",
    "-> Bagging consider multiple model and take the output by considering majority voting system , thus it reduces the overfitting \n",
    "\n",
    "Q2. What are the advantages and disadvantages of using different types of base learners in bagging?\n",
    "\n",
    "-> Advantages : \n",
    "1. speciality of each model can be used\n",
    "2. Drawback of each model can be overcomed because of majority voting system\n",
    "Disadvantages : \n",
    "1. Does not work for all the dataset, sometimes only one model gives better performance than using bagging\n",
    "2. Training time of bagging is more as compared to any other model\n",
    "\n",
    "Q3. How does the choice of base learner affect the bias-variance tradeoff in bagging?\n",
    "\n",
    "-> by selecting the appropriate base learners we can get low bias and low variance \n",
    "\n",
    "Q4. Can bagging be used for both classification and regression tasks? How does it differ in each case?\n",
    "\n",
    "-> Yes bagging can be used for both classification and regression , in classification we use classifiers as the base learners and in regression we use regressors as the base learners , in classification we find the prediction by using majority voting system wheareas in regression we either take mean or median of the prediction of the base learners to get the final predicted value \n",
    "\n",
    "Q5. What is the role of ensemble size in bagging? How many models should be included in the ensemble?\n",
    "\n",
    "-> Ensemble size plays a vital role in prediction increasing or decreasing the ensemble size can deteoriate the models performance , we can find the number of models that should be included in ensemble by using grid search cv or randomised search cv \n",
    "\n",
    "Q6. Can you provide an example of a real-world application of bagging in machine learning?\n",
    "\n",
    "-> Bagging is usually used in hackathons and in kaggle competition because they sometimes perform much better than other models "
   ]
  }
 ],
 "metadata": {
  "language_info": {
   "name": "python"
  }
 },
 "nbformat": 4,
 "nbformat_minor": 2
}
