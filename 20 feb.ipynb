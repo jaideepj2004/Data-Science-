{
 "cells": [
  {
   "cell_type": "markdown",
   "id": "e2601601-03b8-4dc9-9f3a-dffc58e1bb12",
   "metadata": {},
   "source": [
    "Q1. Explain GET and POST methods.\n",
    "\n",
    "-> GET method is used to get the argument value of the function that is binded with the api , using 'url' wheareas POST method is used to get the argument of the same function from 'form'\n",
    "\n",
    "Q2. Why is request used in Flask?\n",
    "\n",
    "-> Request is used to get the data from the clint to the server , the data can be forms like , url ,json,form,etc\n",
    "\n",
    "Q3. Why is redirect() used in Flask?\n",
    "\n",
    "-> redirect() is used in Flask to redirect the client to different url \n",
    "\n",
    "Q4. What are templates in Flask? Why is the render_template() function used?\n",
    "\n",
    "-> templates in Flask are the types of pages(eg :- html,json,etc) and reder_templete() function is used to open the template that is given as the input to the render_template () function \n",
    "\n",
    "Q5. Create a simple API. Use Postman to test it. Attach the screenshot of the output in the Jupyter Notebook.\n",
    "\n"
   ]
  },
  {
   "cell_type": "markdown",
   "id": "7bc53588-acfc-49b1-af12-685da4b7f7cd",
   "metadata": {},
   "source": [
    "from flask import Flask\n",
    "\n",
    "app = Flask(__name__)\n",
    "\n",
    "@app.route(\"/\")\n",
    "def hello():\n",
    "    return \"hello\"\n",
    "\n",
    "\n",
    "if __name__ == \"__main__\":\n",
    "    app.run(host=\"0.0.0.0\",port=5001)"
   ]
  },
  {
   "cell_type": "code",
   "execution_count": null,
   "id": "e0dbae3d-f3de-410c-a0f2-7d713779887a",
   "metadata": {},
   "outputs": [],
   "source": []
  }
 ],
 "metadata": {
  "kernelspec": {
   "display_name": "Python 3 (ipykernel)",
   "language": "python",
   "name": "python3"
  },
  "language_info": {
   "codemirror_mode": {
    "name": "ipython",
    "version": 3
   },
   "file_extension": ".py",
   "mimetype": "text/x-python",
   "name": "python",
   "nbconvert_exporter": "python",
   "pygments_lexer": "ipython3",
   "version": "3.10.8"
  }
 },
 "nbformat": 4,
 "nbformat_minor": 5
}
