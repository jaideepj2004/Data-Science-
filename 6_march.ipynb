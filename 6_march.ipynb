{
 "cells": [
  {
   "cell_type": "raw",
   "id": "b52cb6a0-3cd5-4572-9db3-750728247966",
   "metadata": {},
   "source": [
    "Q1. What is Statistics?\n",
    "\n",
    "-> Statistics is the branch of mathematics that deals with arranging the data and getting meaningful insights from them\n",
    "\n",
    "Q2. Define the different types of statistics and give an example of when each type might be used.\n",
    "\n",
    "->There are two different types of statistics , discriptive and inferential - discriptive statistics is used to describe the data or summarize it , eg :- given the ages of all the teacher in the institute which one is youngest and inferential statistics is used to get answer in the yes or no format or it is used to draw conclusion - eg :- given the reports of the weather tell whether it will rain today or not \n",
    "\n",
    "Q3. What are the different types of data and how do they differ from each other? Provide an example of\n",
    "each type of data.\n",
    "->->There are two different types of statistics , qualitative and quantitative , qualitative further has two types namely, discrete and continuous and quantitative also has two types namely , nominal and ordinal \n",
    "discrete :- data attains discrete values,that is there exists finite values between any two values \n",
    "continous :- there exist infinite values between any two values \n",
    "nominal :- data that is taken for measurement and cannot be ranked\n",
    "\n",
    "Q4. Categorise the following datasets with respect to quantitative and qualitative data types:\n",
    "(i) Grading in exam: A+, A, B+, B, C+, C, D, E\n",
    "(ii) Colour of mangoes: yellow, green, orange, red\n",
    "(iii) Height data of a class: [178.9, 179, 179.5, 176, 177.2, 178.3, 175.8,...]\n",
    "(iv) Number of mangoes exported by a farm: [500, 600, 478, 672, ...]\n",
    "\n",
    "-> 1. qualitative\n",
    "   2. qualitative \n",
    "   3. quantitative \n",
    "   4. quantitative\n",
    "\n",
    "Q5. Explain the concept of levels of measurement and give an example of a variable for each level.\n",
    "\n",
    "-> nominal :- does not have rank and its difference and ratio cannot be measured  eg :- metals used to make alloy\n",
    "  ordinal :- have rank but no difference and ratio  eg :- quality of the elasticity of the rubber\n",
    "  interval :- have rank differnce but not ratio eg:- physical pain measured in dol\n",
    "  ratio :- have rank difference and ratio eg :- weight of the student measured in kg\n",
    "  \n",
    "Q6. Why is it important to understand the level of measurement when analyzing data? Provide an\n",
    "example to illustrate your answer.\n",
    "\n",
    "-> it is important to understand the level of measurement so that we know what all mathematical operation we can perform , eg :- we should not take ratio for ordinal data \n",
    "\n",
    "Q7. How nominal data type is different from ordinal data type.\n",
    "\n",
    "-> ordinal data can be said as the nominal data with rank(which is given on the basis of our problem statement) and ordinal data is just the qualitative data in which rank is not given \n",
    "\n",
    "Q8. Which type of plot can be used to display data in terms of range?\n",
    "\n",
    "-> histogram and bars can be used to display data in range \n",
    "\n",
    "Q9. Describe the difference between descriptive and inferential statistics. Give an example of each\n",
    "type of statistics and explain how they are used.\n",
    "\n",
    "-> discriptive and inferential - discriptive statistics is used to describe the data or summarize it , eg :- given the ages of all the teacher in the institute which one is youngest and inferential statistics is used to get answer in the yes or no format or it is used to draw conclusion - eg :- given the reports of the weather tell whether it will rain today or not\n",
    "\n",
    "Q10. What are some common measures of central tendency and variability used in statistics? Explain\n",
    "how each measure can be used to describe a dataset.\n",
    "\n",
    "-> The most common measure of central tendency are mean , median and mode , and they tell the number around which most of our values in the data are found , the middle value of our data and the most common value in our data respectively .\n"
   ]
  }
 ],
 "metadata": {
  "kernelspec": {
   "display_name": "Python 3 (ipykernel)",
   "language": "python",
   "name": "python3"
  },
  "language_info": {
   "codemirror_mode": {
    "name": "ipython",
    "version": 3
   },
   "file_extension": ".py",
   "mimetype": "text/x-python",
   "name": "python",
   "nbconvert_exporter": "python",
   "pygments_lexer": "ipython3",
   "version": "3.10.8"
  }
 },
 "nbformat": 4,
 "nbformat_minor": 5
}
