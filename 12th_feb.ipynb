{
 "cells": [
  {
   "cell_type": "code",
   "execution_count": 1,
   "metadata": {},
   "outputs": [
    {
     "name": "stdout",
     "output_type": "stream",
     "text": [
      "An exception occurred!\n",
      "Result: 1.0\n",
      "Result: 1.0\n",
      "Calculation successful.\n",
      "Finally block executed.\n",
      "Valid age\n"
     ]
    }
   ],
   "source": [
    "# Q1: What is an Exception in python? Write the difference between Exceptions and Syntax errors.\n",
    "\n",
    "# An exception is an error that occurs during the execution of a program.\n",
    "# Syntax errors occur before execution due to incorrect syntax.\n",
    "\n",
    "# Q2. What happens when an exception is not handled? Explain with an example.\n",
    "\n",
    "try:\n",
    "    # Code that might raise an exception\n",
    "    result = 10 / 0  # This will raise a ZeroDivisionError\n",
    "    print(result)\n",
    "except:\n",
    "    print(\"An exception occurred!\")\n",
    "\n",
    "# If the exception is not handled, the program will terminate abruptly.\n",
    "\n",
    "# Q3. Which Python statements are used to catch and handle exceptions? Explain with an example.\n",
    "\n",
    "try:\n",
    "    # Code that might raise an exception\n",
    "    num = int(input(\"Enter a number: \"))\n",
    "    result = 10 / num\n",
    "    print(\"Result:\", result)\n",
    "except ZeroDivisionError:\n",
    "    print(\"Cannot divide by zero!\")\n",
    "except ValueError:\n",
    "    print(\"Invalid input. Please enter a number.\")\n",
    "\n",
    "# The `try` block contains the code that might raise an exception.\n",
    "# The `except` block handles specific exceptions.\n",
    "\n",
    "# Q4. Explain with an example: try and else, finally, raise\n",
    "\n",
    "try:\n",
    "    num = int(input(\"Enter a number: \"))\n",
    "    if num < 0:\n",
    "        raise ValueError(\"Number cannot be negative\")\n",
    "    result = 10 / num\n",
    "    print(\"Result:\", result)\n",
    "except ValueError as e:\n",
    "    print(\"Error:\", e)\n",
    "else:\n",
    "    print(\"Calculation successful.\")\n",
    "finally:\n",
    "    print(\"Finally block executed.\")\n",
    "\n",
    "# The `raise` statement is used to manually raise an exception.\n",
    "# The `else` block is executed if no exception occurs in the `try` block.\n",
    "# The `finally` block is always executed, regardless of whether an exception occurs.\n",
    "\n",
    "# Q5. What are Custom Exceptions in python? Why do we need Custom Exceptions? Explain with an example.\n",
    "\n",
    "class InvalidAgeError(Exception):\n",
    "    pass\n",
    "\n",
    "def check_age(age):\n",
    "    if age < 0:\n",
    "        raise InvalidAgeError(\"Age cannot be negative\")\n",
    "\n",
    "# Custom exceptions provide more specific information about errors and allow for custom handling.\n",
    "\n",
    "# Q6. Create a custom exception class. Use this class to handle an exception.\n",
    "\n",
    "try:\n",
    "    age = int(input(\"Enter your age: \"))\n",
    "    check_age(age)\n",
    "    print(\"Valid age\")\n",
    "except InvalidAgeError as e:\n",
    "    print(\"Error:\", e)"
   ]
  },
  {
   "cell_type": "code",
   "execution_count": null,
   "metadata": {},
   "outputs": [],
   "source": []
  }
 ],
 "metadata": {
  "kernelspec": {
   "display_name": "Python 3",
   "language": "python",
   "name": "python3"
  },
  "language_info": {
   "codemirror_mode": {
    "name": "ipython",
    "version": 3
   },
   "file_extension": ".py",
   "mimetype": "text/x-python",
   "name": "python",
   "nbconvert_exporter": "python",
   "pygments_lexer": "ipython3",
   "version": "3.11.9"
  }
 },
 "nbformat": 4,
 "nbformat_minor": 2
}
