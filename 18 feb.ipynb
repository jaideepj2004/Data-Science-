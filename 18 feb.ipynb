{
 "cells": [
  {
   "cell_type": "markdown",
   "id": "ccdc9f26-b37f-4ba1-90f9-3cbcdd4155bf",
   "metadata": {},
   "source": [
    "Q1. What is an API? Give an example, where an API is used in real life.\n",
    "\n",
    "-> API stands for application programming interface, it is used to communicate between two programs , these program can have same or different language and/or framework , API is used in almost all the application one such example is swiggy, swiggy communicates to the server of google maps by using the API of google maps "
   ]
  },
  {
   "cell_type": "markdown",
   "id": "eab839e6-c1bd-4b83-84ac-253c9aecb954",
   "metadata": {},
   "source": [
    "Q2. Give advantages and disadvantages of using API.\n",
    "\n",
    "-> Advantages of using the api\n",
    "   1. Provides security to the server \n",
    "   2. Maintains the record of the activity of the client , thereby any malpractise can be traced \n",
    "   3. Because of API two different program written in different language and/or framework can communicate with each other \n",
    "   Disadvantages of using api\n",
    "   1. As we cant directly access the server so the time to get respond to the client increases\n",
    "   2. Client easily gets the output of the server by which it becomes easier for him/her to do any malpractise "
   ]
  },
  {
   "cell_type": "markdown",
   "id": "9c21be57-5642-47e3-929a-2c1fd2125c5b",
   "metadata": {},
   "source": [
    "Q3. What is a Web API? Differentiate between API and Web API.\n",
    "\n",
    "-> Web API are API that used http protocol , they can't be accessed by using any other protocol , the only different betweeen web api and an api is the api can work on all platform whereas web api only works on internet that is http protocol "
   ]
  },
  {
   "cell_type": "markdown",
   "id": "caa78a9b-e336-4c48-b883-0c64b00e3611",
   "metadata": {},
   "source": [
    "Q4. Explain REST and SOAP Architecture. Mention shortcomings of SOAP.\n",
    "\n",
    "-> REST stands for Representation state transfer wheareas SOAP stands for System object access protocol , rest is used for http protocol wheareas soap is uses tcp and smtp, it is used for other protocol , rest stores data is json format  ,wheareas soap stores data in xml format , soap is not as simple as rest "
   ]
  },
  {
   "cell_type": "markdown",
   "id": "71059475-3a72-45eb-9ca9-6df5b36f4cea",
   "metadata": {},
   "source": [
    "Q5. Differentiate between REST and SOAP.\n",
    "\n",
    "-> REST 1. works on http\n",
    "        2. used json language\n",
    "        3. more simple\n",
    "        4. less secure \n",
    "        5. uses wsdl \n",
    "\n",
    "    SOAP 1. works on tcp and smtp \n",
    "       2. uses xml language\n",
    "       3. less simple\n",
    "       4. more secure \n",
    "       5. uses command like , get,put,delete,post"
   ]
  }
 ],
 "metadata": {
  "kernelspec": {
   "display_name": "Python 3 (ipykernel)",
   "language": "python",
   "name": "python3"
  },
  "language_info": {
   "codemirror_mode": {
    "name": "ipython",
    "version": 3
   },
   "file_extension": ".py",
   "mimetype": "text/x-python",
   "name": "python",
   "nbconvert_exporter": "python",
   "pygments_lexer": "ipython3",
   "version": "3.10.8"
  }
 },
 "nbformat": 4,
 "nbformat_minor": 5
}
