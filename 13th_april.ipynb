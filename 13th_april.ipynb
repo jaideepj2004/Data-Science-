{
 "cells": [
  {
   "cell_type": "markdown",
   "metadata": {},
   "source": [
    "Q1. What is Random Forest Regressor?\n",
    "\n",
    "-> Random forst regressor is a supervised machine learning algorithm where random forest technique is used to solve the regression problem by performing regression \n",
    "\n",
    "Q2. How does Random Forest Regressor reduce the risk of overfitting?\n",
    "\n",
    "-> Multiple models are trained simulataneously , radomly feature are given to these models and final answer is calculated by taking the mean of the answer , wheareas if we use a single decision tree regressor , than there is a high chance of overfitting \n",
    "\n",
    "Q3. How does Random Forest Regressor aggregate the predictions of multiple decision trees?\n",
    "\n",
    "-> Random Forest Regressor takes the average of the prediction of all the base learners and give it as the final predicted value \n",
    "\n",
    "Q4. What are the hyperparameters of Random Forest Regressor?\n",
    "\n",
    "-> Number of trees , max depth ,criterion , etc are the hyperparameters in Random Forest Regressor\n",
    "\n",
    "Q5. What is the difference between Random Forest Regressor and Decision Tree Regressor?\n",
    "\n",
    "-> In Random Forest Regressor we use multiple Decision Tree Regressor as the base learners whereas in Decision Tree Regressor we use only one Decision Tree . In Random Forest we apply bootstrap and aggregation , wheareas these are not done in Decision Tree Regressor \n",
    "\n",
    "Q6. What are the advantages and disadvantages of Random Forest Regressor?\n",
    "\n",
    "-> Advantages :\n",
    "1. Usually higher accuracy \n",
    "2. Reduces overfitting \n",
    "Disadvantages : \n",
    "\n",
    "1. more training time \n",
    "2. more computational power \n",
    "\n",
    "Q7. What is the output of Random Forest Regressor?\n",
    "\n",
    "-> Output of the random forest regressor is the mean of the output of all the base learners\n",
    "\n",
    "Q8. Can Random Forest Regressor be used for classification tasks?\n",
    "\n",
    "-> Yes we can use it , by performing feature encoding on the categorical variable which is the output feature and performing Random forest regression and finally saying if the value lies in this particular range than this is the answer , however it is not advisable to use it , as it may give very poor accuracy \n",
    "\n"
   ]
  }
 ],
 "metadata": {
  "language_info": {
   "name": "python"
  }
 },
 "nbformat": 4,
 "nbformat_minor": 2
}
