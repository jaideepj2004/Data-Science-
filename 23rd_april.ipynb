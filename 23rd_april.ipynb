{
 "cells": [
  {
   "cell_type": "markdown",
   "metadata": {},
   "source": [
    "Q1. What is the curse of dimensionality reduction and why is it important in machine learning?\n",
    "\n",
    "-> As we keep increasing the dimension of the dataset after a certain point the accuracy of the model starts decreasing and this is known as curse of dimensionality , it is important to remove it becasuse lesser dimension dataset takes less time to get trained and also their accuracy is higher as compared to the dataset having higher dimension \n",
    "\n",
    "Q2. How does the curse of dimensionality impact the performance of machine learning algorithms?\n",
    "\n",
    "-> It slows down the training and testing because of hihger dimension of dataset and it also reduces the accuracy of the model\n",
    "\n",
    "Q3. What are some of the consequences of the curse of dimensionality in machine learning, and how do\n",
    "they impact model performance?\n",
    "\n",
    "->  It slows down the training and testing because of hihger dimension of dataset and it also reduces the accuracy of the model \n",
    "\n",
    "Q4. Can you explain the concept of feature selection and how it can help with dimensionality reduction?\n",
    "\n",
    "-> Feature selection is a practise where we select only those column that are important and drop the columns that are not important thereby causing dimension reduction \n",
    "\n",
    "Q5. What are some limitations and drawbacks of using dimensionality reduction techniques in machine\n",
    "learning?\n",
    "\n",
    "-> Loss of data , models does not considers that factor which is not feed to the model are some of the drawbacks of dimensionality reduction techniques in machine learning \n",
    "\n",
    "Q6. How does the curse of dimensionality relate to overfitting and underfitting in machine learning?\n",
    "\n",
    "-> Some columns data may not follow the pattern that is followed by the other dataset which help in accurate prediction and when models train their output changes because of these columns data that do not follow the general pattern followed by other columns thus causing overfitting \n",
    "\n",
    "The model sometimes becomes so general because of the more number of dimension that it may cause underfitting \n",
    "\n",
    "Q7. How can one determine the optimal number of dimensions to reduce data to when using\n",
    "dimensionality reduction techniques?\n",
    "\n",
    "-> We can perform cross validation to find the optimal number of dimension when performing dimension reduction \n"
   ]
  },
  {
   "cell_type": "markdown",
   "metadata": {},
   "source": []
  }
 ],
 "metadata": {
  "kernelspec": {
   "display_name": "Python 3",
   "language": "python",
   "name": "python3"
  },
  "language_info": {
   "name": "python",
   "version": "3.11.6"
  }
 },
 "nbformat": 4,
 "nbformat_minor": 2
}
