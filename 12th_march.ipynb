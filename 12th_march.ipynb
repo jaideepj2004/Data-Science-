{
 "cells": [
  {
   "cell_type": "markdown",
   "metadata": {},
   "source": [
    "Q1. Calculate the 95% confidence interval for a sample of data with a mean of 50 and a standard deviation of 5 using Python. Interpret the results."
   ]
  },
  {
   "cell_type": "code",
   "execution_count": 5,
   "metadata": {},
   "outputs": [
    {
     "name": "stdout",
     "output_type": "stream",
     "text": [
      "95% Confidence Interval: (40.20, 59.80)\n"
     ]
    }
   ],
   "source": [
    "import scipy.stats as stats\n",
    "\n",
    "# Sample statistics\n",
    "sample_mean = 50\n",
    "sample_std_dev = 5\n",
    "\n",
    "# Confidence level\n",
    "confidence_level = 0.95\n",
    "\n",
    "# Calculate the critical Z-value for a two-tailed test\n",
    "alpha = 1 - confidence_level\n",
    "z_critical = stats.norm.ppf(1 - alpha / 2)\n",
    "\n",
    "# Calculate the margin of error\n",
    "margin_of_error = z_critical * (sample_std_dev)\n",
    "\n",
    "# Calculate the confidence interval\n",
    "lower_limit = sample_mean - margin_of_error\n",
    "upper_limit = sample_mean + margin_of_error\n",
    "\n",
    "# Print the confidence interval\n",
    "print(f\"95% Confidence Interval: ({lower_limit:.2f}, {upper_limit:.2f})\")\n"
   ]
  },
  {
   "cell_type": "markdown",
   "metadata": {},
   "source": [
    "Q2. Conduct a chi-square goodness of fit test to determine if the distribution of colors of M&Ms in a bag matches the expected distribution of 20% blue, 20% orange, 20% green, 10% yellow 10% red, and 20% brown. Use Python to perform the test with a significance level of 0.05.\n",
    "\n",
    "->Observed distribution : \n",
    "blue 16.7% , orange 16.7% ,green 16.7% ,yellow 16.7% ,red 16.7% ,brown 16.7% "
   ]
  },
  {
   "cell_type": "code",
   "execution_count": 6,
   "metadata": {},
   "outputs": [
    {
     "name": "stdout",
     "output_type": "stream",
     "text": [
      "Chi-square Value: 0.1116\n",
      "Critical Chi-square Value: 11.0705\n",
      "Fail to reject null hypothesis: The distributions are the same.\n"
     ]
    }
   ],
   "source": [
    "import scipy.stats as stats\n",
    "\n",
    "# Expected distribution\n",
    "expected_distribution = [0.20, 0.20, 0.20, 0.10, 0.10, 0.20]\n",
    "\n",
    "# Observed distribution\n",
    "observed_distribution = [0.167, 0.167, 0.167, 0.167, 0.167, 0.167]\n",
    "\n",
    "# Step 1: Define the significance level and degrees of freedom\n",
    "alpha = 0.05\n",
    "degrees_of_freedom = len(expected_distribution) - 1\n",
    "\n",
    "# Step 2: Calculate the critical chi-square value\n",
    "chi_critical = stats.chi2.ppf(1 - alpha, df=degrees_of_freedom)\n",
    "\n",
    "# Step 3: Calculate the chi-square value for the observed data\n",
    "chi_square = 0\n",
    "for i in range(len(expected_distribution)):\n",
    "    chi_square += ((observed_distribution[i] - expected_distribution[i]) ** 2) / expected_distribution[i]\n",
    "\n",
    "# Step 4: Determine if the test statistic (chi-square value) exceeds the critical value\n",
    "if chi_square > chi_critical:\n",
    "    result = \"Reject null hypothesis: The distributions are not the same.\"\n",
    "else:\n",
    "    result = \"Fail to reject null hypothesis: The distributions are the same.\"\n",
    "\n",
    "# Print the chi-square value and the test result\n",
    "print(f\"Chi-square Value: {chi_square:.4f}\")\n",
    "print(f\"Critical Chi-square Value: {chi_critical:.4f}\")\n",
    "print(result)\n"
   ]
  },
  {
   "cell_type": "markdown",
   "metadata": {},
   "source": [
    "Q3. Use Python to calculate the chi-square statistic and p-value for a contingency table with the following\n",
    "data:\n",
    "\n",
    "Interpret the results of the test."
   ]
  },
  {
   "cell_type": "code",
   "execution_count": 7,
   "metadata": {},
   "outputs": [
    {
     "name": "stdout",
     "output_type": "stream",
     "text": [
      "Chi-square Statistic: 5.833333333333334\n",
      "P-Value: 0.05411376622282158\n",
      "Degrees of Freedom: 2\n",
      "Expected Frequencies:\n",
      " [[15. 20.]\n",
      " [15. 20.]\n",
      " [15. 20.]]\n"
     ]
    }
   ],
   "source": [
    "import numpy as np\n",
    "from scipy.stats import chi2_contingency\n",
    "\n",
    "# Given data\n",
    "observed_data = np.array([[20, 15], [10, 25], [15, 20]])\n",
    "\n",
    "# Perform chi-square test\n",
    "chi2_stat, p_value, dof, expected = chi2_contingency(observed_data)\n",
    "\n",
    "# Print results\n",
    "print(\"Chi-square Statistic:\", chi2_stat)\n",
    "print(\"P-Value:\", p_value)\n",
    "print(\"Degrees of Freedom:\", dof)\n",
    "print(\"Expected Frequencies:\\n\", expected)\n"
   ]
  },
  {
   "cell_type": "markdown",
   "metadata": {},
   "source": [
    "Q4. A study of the prevalence of smoking in a population of 500 individuals found that 60 individuals\n",
    "smoked. Use Python to calculate the 95% confidence interval for the true proportion of individuals in the\n",
    "population who smoke."
   ]
  },
  {
   "cell_type": "code",
   "execution_count": 8,
   "metadata": {},
   "outputs": [
    {
     "name": "stdout",
     "output_type": "stream",
     "text": [
      "95% Confidence Interval: (55, 65)\n"
     ]
    }
   ],
   "source": [
    "import scipy.stats as stats\n",
    "\n",
    "# Given values\n",
    "sample_proportion = 0.12  # 12% of the sample smoked\n",
    "sample_size = 500\n",
    "confidence_level = 0.95  # 95% confidence level\n",
    "\n",
    "# Calculate the critical value (Z) for the desired confidence level\n",
    "critical_value = stats.norm.ppf((1 + confidence_level) / 2)\n",
    "\n",
    "# Calculate the margin of error\n",
    "margin_of_error = critical_value * (sample_proportion * (1 - sample_proportion) / (sample_size ** 0.5))\n",
    "\n",
    "# Calculate the confidence interval\n",
    "lower_bound = sample_proportion - margin_of_error\n",
    "upper_bound = sample_proportion + margin_of_error\n",
    "\n",
    "# Scale the bounds back to the population size\n",
    "lower_bound = lower_bound * sample_size\n",
    "upper_bound = upper_bound * sample_size\n",
    "\n",
    "print(\"95% Confidence Interval: ({:.0f}, {:.0f})\".format(lower_bound, upper_bound))\n"
   ]
  },
  {
   "cell_type": "markdown",
   "metadata": {},
   "source": [
    "Q5. Calculate the 90% confidence interval for a sample of data with a mean of 75 and a standard deviation\n",
    "of 12 using Python. Interpret the results."
   ]
  },
  {
   "cell_type": "code",
   "execution_count": 9,
   "metadata": {},
   "outputs": [
    {
     "name": "stdout",
     "output_type": "stream",
     "text": [
      "90% Confidence Interval: (55.26, 94.74)\n"
     ]
    }
   ],
   "source": [
    "import scipy.stats as stats\n",
    "\n",
    "# Given values\n",
    "sample_mean = 75\n",
    "population_std_dev = 12\n",
    "confidence_level = 0.90  # 90% confidence level\n",
    "\n",
    "# Find the critical z-value for the desired confidence level\n",
    "critical_value = stats.norm.ppf((1 + confidence_level) / 2)\n",
    "\n",
    "# Calculate the margin of error\n",
    "margin_of_error = critical_value * (population_std_dev)\n",
    "\n",
    "# Calculate the confidence interval\n",
    "lower_bound = sample_mean - margin_of_error\n",
    "upper_bound = sample_mean + margin_of_error\n",
    "\n",
    "print(\"90% Confidence Interval: ({:.2f}, {:.2f})\".format(lower_bound, upper_bound))\n"
   ]
  },
  {
   "cell_type": "markdown",
   "metadata": {},
   "source": [
    "Q6. Use Python to plot the chi-square distribution with 10 degrees of freedom. Label the axes and shade the area corresponding to a chi-square statistic of 15. "
   ]
  },
  {
   "cell_type": "code",
   "execution_count": 10,
   "metadata": {},
   "outputs": [
    {
     "data": {
      "image/png": "[encoded data removed]",
      "text/plain": [
       "<Figure size 640x480 with 1 Axes>"
      ]
     },
     "metadata": {},
     "output_type": "display_data"
    }
   ],
   "source": [
    "import numpy as np\n",
    "import matplotlib.pyplot as plt\n",
    "import scipy.stats as stats\n",
    "\n",
    "# Set the degrees of freedom\n",
    "df = 10\n",
    "\n",
    "# Generate values for the chi-square distribution\n",
    "x = np.linspace(0, 30, 1000)  # Generate 1000 evenly spaced points between 0 and 30 for x-axis\n",
    "y = stats.chi2.pdf(x, df)  # Calculate the probability density function values for chi-square distribution\n",
    "\n",
    "# Plot the chi-square distribution\n",
    "plt.plot(x, y, label=f'Chi-square Distribution (df={df})')\n",
    "\n",
    "# Shade the area corresponding to a chi-square statistic of 15\n",
    "x_fill = np.linspace(0, 15, 100)  # Generate 100 points between 0 and 15 for x-axis to fill the area\n",
    "y_fill = stats.chi2.pdf(x_fill, df)  # Calculate the probability density function values for the shaded area\n",
    "plt.fill_between(x_fill, y_fill, color='orange', alpha=0.5, label='Area for Chi-square = 15')\n",
    "\n",
    "# Label the axes\n",
    "plt.xlabel('Chi-square Statistic')\n",
    "plt.ylabel('Probability Density Function')\n",
    "plt.title('Chi-square Distribution with 10 Degrees of Freedom')\n",
    "plt.legend()  # Display legend to label the different parts of the plot\n",
    "\n",
    "# Show the plot\n",
    "plt.show()\n"
   ]
  },
  {
   "cell_type": "code",
   "execution_count": 11,
   "metadata": {},
   "outputs": [
    {
     "name": "stdout",
     "output_type": "stream",
     "text": [
      "Sample Proportion (\\hat{p}): 0.52\n",
      "Z-Score: 2.5758293035489004\n",
      "Standard Error: 0.0157987341265052\n",
      "Margin of Error: 0.040694842322030134\n",
      "99% Confidence Interval: (0.4793051576779699, 0.5606948423220302)\n"
     ]
    }
   ],
   "source": [
    "import scipy.stats as stats\n",
    "import math\n",
    "\n",
    "# Given values\n",
    "sample_size = 1000\n",
    "prefer_coke = 520\n",
    "confidence_level = 0.99\n",
    "\n",
    "# Calculate the sample proportion\n",
    "p_hat = prefer_coke / sample_size\n",
    "\n",
    "# Find the Z-score for the given confidence level using ppf function\n",
    "z_score = stats.norm.ppf((1 + confidence_level) / 2)\n",
    "\n",
    "# Calculate the standard error of the proportion\n",
    "standard_error = math.sqrt((p_hat * (1 - p_hat)) / sample_size)\n",
    "\n",
    "# Calculate the margin of error\n",
    "margin_of_error = z_score * standard_error\n",
    "\n",
    "# Calculate the lower and upper bounds of the confidence interval\n",
    "lower_bound = p_hat - margin_of_error\n",
    "upper_bound = p_hat + margin_of_error\n",
    "\n",
    "# Print the results\n",
    "print(f\"Sample Proportion (\\\\hat{{p}}): {p_hat}\")\n",
    "print(f\"Z-Score: {z_score}\")\n",
    "print(f\"Standard Error: {standard_error}\")\n",
    "print(f\"Margin of Error: {margin_of_error}\")\n",
    "print(f\"99% Confidence Interval: ({lower_bound}, {upper_bound})\")\n"
   ]
  },
  {
   "cell_type": "markdown",
   "metadata": {},
   "source": [
    "# Q8. A researcher hypothesizes that a coin is biased towards tails. They flip the coin 100 times and observe\n",
    "# 45 tails. Conduct a chi-square goodness of fit test to determine if the observed frequencies match the\n",
    "# expected frequencies of a fair coin. Use a significance level of 0.05.\n",
    "\n",
    "\n",
    "null hypothesis : observed frequency matches the expected frequency \n",
    "althernate hypotheis : observed frequency does not matches the expected frequency \n",
    "\n",
    "expected : 50 ,50   : no bias \n",
    "observed : 45 ,55 \n",
    "significance level : 0.05 \n",
    "degree of freedom : 1 , total 2 items \n",
    "find the x square value for the expected data using the chi square table , 1- significance level and degree of freedom \n",
    "\n",
    "find the chi square value for the observed data set using the formula of chi square (0-e)^2 // e \n",
    "\n",
    "if the x square value of the observed data is less than the expected data than accept the null hypothesis \n",
    "else reject the null hypothesis "
   ]
  },
  {
   "cell_type": "code",
   "execution_count": 12,
   "metadata": {},
   "outputs": [
    {
     "name": "stdout",
     "output_type": "stream",
     "text": [
      "Fail to reject null hypothesis: Observed frequencies match expected frequencies which is coin is not biased.\n"
     ]
    }
   ],
   "source": [
    "import scipy.stats as stats\n",
    "\n",
    "# Given data\n",
    "observed_tails = 45\n",
    "observed_heads = 55\n",
    "expected_tails = 50\n",
    "expected_heads = 50\n",
    "alpha = 0.05\n",
    "df = 1\n",
    "\n",
    "# Calculate the chi-square test statistic\n",
    "chi_square_calc = ((observed_tails - expected_tails)**2 / expected_tails) + ((observed_heads - expected_heads)**2 / expected_heads)\n",
    "\n",
    "# Find the critical chi-square value\n",
    "chi_square_critical = stats.chi2.ppf(1 - alpha, df)\n",
    "\n",
    "# Compare with the critical value\n",
    "if chi_square_calc < chi_square_critical:\n",
    "    print(\"Fail to reject null hypothesis: Observed frequencies match expected frequencies which is coin is not biased.\")\n",
    "else:\n",
    "    print(\"Reject null hypothesis: Observed frequencies do not match expected frequencies which means that the coin is biased\")\n"
   ]
  },
  {
   "cell_type": "markdown",
   "metadata": {},
   "source": [
    "Q9. A study was conducted to determine if there is an association between smoking status (smoker or\n",
    "non-smoker) and lung cancer diagnosis (yes or no). The results are shown in the contingency table below.\n",
    "Conduct a chi-square test for independence to determine if there is a significant association between\n",
    "smoking status and lung cancer diagnosis.\n",
    "\n",
    "Use a significance level of 0.05.\n",
    "Group A\n",
    "\n",
    "Outcome 1 20 15\n",
    "Outcome 2 10 25\n",
    "Outcome 3 15 20\n",
    "Group B\n",
    "\n",
    "Lung Cancer: Yes\n",
    "\n",
    "Smoker 60 140\n",
    "Non-smoker 30 170"
   ]
  },
  {
   "cell_type": "code",
   "execution_count": 13,
   "metadata": {},
   "outputs": [
    {
     "name": "stdout",
     "output_type": "stream",
     "text": [
      "Observed Data:\n",
      "[[20 30]\n",
      " [10 40]]\n",
      "\n",
      "Expected Data:\n",
      "[[15. 35.]\n",
      " [15. 35.]]\n",
      "\n",
      "Chi-Square (Observed): 4.761904761904762\n",
      "Chi-Square (Expected): 16.0\n",
      "\n",
      "Reject null hypothesis: Significant association between smoking status and lung cancer.\n"
     ]
    }
   ],
   "source": [
    "import numpy as np\n",
    "import scipy.stats as stats\n",
    "\n",
    "# Given data\n",
    "observed_data = np.array([[20, 30], [10, 40]])\n",
    "\n",
    "# Calculate expected frequencies\n",
    "row_totals = np.sum(observed_data, axis=1)\n",
    "col_totals = np.sum(observed_data, axis=0)\n",
    "grand_total = np.sum(observed_data)\n",
    "expected_data = np.outer(row_totals, col_totals) / grand_total\n",
    "\n",
    "# Print observed and expected tables\n",
    "print(\"Observed Data:\")\n",
    "print(observed_data)\n",
    "print(\"\\nExpected Data:\")\n",
    "print(expected_data)\n",
    "\n",
    "# Calculate the chi-square test statistic for observed data\n",
    "chi_square_observed = np.sum((observed_data - expected_data)**2 / expected_data)\n",
    "print(f\"\\nChi-Square (Observed): {chi_square_observed}\")\n",
    "\n",
    "# Calculate the chi-square test statistic for expected data\n",
    "chi_square_expected = np.sum((expected_data - expected_data.mean())**2 / expected_data.mean())\n",
    "print(f\"Chi-Square (Expected): {chi_square_expected}\")\n",
    "\n",
    "# Find the critical chi-square value\n",
    "alpha = 0.05\n",
    "df = (observed_data.shape[0] - 1) * (observed_data.shape[1] - 1)\n",
    "chi_square_critical = stats.chi2.ppf(1 - alpha, df)\n",
    "\n",
    "# Compare with the critical value\n",
    "if chi_square_observed < chi_square_critical:\n",
    "    print(\"\\nFail to reject null hypothesis: No significant association between smoking status and lung cancer.\")\n",
    "else:\n",
    "    print(\"\\nReject null hypothesis: Significant association between smoking status and lung cancer.\")\n"
   ]
  },
  {
   "cell_type": "markdown",
   "metadata": {},
   "source": [
    "Q10. A study was conducted to determine if the proportion of people who prefer milk chocolate, dark\n",
    "chocolate, or white chocolate is different in the U.S. versus the U.K. A random sample of 500 people from\n",
    "the U.S. and a random sample of 500 people from the U.K. were surveyed. The results are shown in the\n",
    "contingency table below. Conduct a chi-square test for independence to determine if there is a significant\n",
    "association between chocolate preference and country of origin.\n",
    "\n",
    "Use a significance level of 0.01."
   ]
  },
  {
   "cell_type": "code",
   "execution_count": 14,
   "metadata": {},
   "outputs": [
    {
     "name": "stdout",
     "output_type": "stream",
     "text": [
      "Observed Data:\n",
      "[[200 150 150]\n",
      " [100 200 200]]\n",
      "\n",
      "Expected Data:\n",
      "[[150. 175. 175.]\n",
      " [150. 175. 175.]]\n",
      "\n",
      "Chi-Square (Observed): 47.61904761904762\n",
      "critical value 9.21034037197618\n",
      "\n",
      "Reject null hypothesis: Significant association between country of origin and chocolate preference.\n"
     ]
    }
   ],
   "source": [
    "import numpy as np\n",
    "import scipy.stats as stats\n",
    "\n",
    "# Given data\n",
    "observed_data = np.array([[200, 150, 150], [100, 200, 200]])\n",
    "\n",
    "# Calculate expected frequencies\n",
    "row_totals = np.sum(observed_data, axis=1)\n",
    "col_totals = np.sum(observed_data, axis=0)\n",
    "grand_total = np.sum(observed_data)\n",
    "expected_data = np.outer(row_totals, col_totals) / grand_total\n",
    "\n",
    "# Print observed and expected tables\n",
    "print(\"Observed Data:\")\n",
    "print(observed_data)\n",
    "print(\"\\nExpected Data:\")\n",
    "print(expected_data)\n",
    "\n",
    "# Calculate the chi-square test statistic for observed data\n",
    "chi_square_observed = np.sum((observed_data - expected_data)**2 / expected_data)\n",
    "print(f\"\\nChi-Square (Observed): {chi_square_observed}\")\n",
    "\n",
    "# Find the critical chi-square value\n",
    "alpha = 0.01\n",
    "df = (observed_data.shape[0] - 1) * (observed_data.shape[1] - 1)\n",
    "chi_square_critical = stats.chi2.ppf(1 - alpha, df)\n",
    "print(f\"critical value {chi_square_critical}\")\n",
    "\n",
    "# Compare with the critical value\n",
    "if chi_square_observed < chi_square_critical:\n",
    "    print(\"\\nFail to reject null hypothesis: No significant association between country of origin and chocolate preference.\")\n",
    "else:\n",
    "    print(\"\\nReject null hypothesis: Significant association between country of origin and chocolate preference.\")\n"
   ]
  },
  {
   "cell_type": "markdown",
   "metadata": {},
   "source": [
    "Q11. A random sample of 30 people was selected from a population with an unknown mean and standard\n",
    "deviation. The sample mean was found to be 72 and the sample standard deviation was found to be 10.\n",
    "Conduct a hypothesis test to determine if the population mean is significantly different from 70. Use a\n",
    "significance level of 0.05."
   ]
  },
  {
   "cell_type": "code",
   "execution_count": 15,
   "metadata": {},
   "outputs": [
    {
     "name": "stdout",
     "output_type": "stream",
     "text": [
      "Confidence Interval: (68.42161171256569, 75.57838828743431)\n",
      "Fail to reject the null hypothesis. Population mean is not significantly different from 70.\n"
     ]
    }
   ],
   "source": [
    "import numpy as np\n",
    "from scipy import stats\n",
    "\n",
    "# Given data\n",
    "sample_mean = 72\n",
    "sample_std_dev = 10\n",
    "sample_size = 30\n",
    "population_mean_null = 70\n",
    "significance_level = 0.05\n",
    "\n",
    "\n",
    "\n",
    "# Find critical z-values for a two-tailed test\n",
    "critical_value = stats.norm.ppf(1 - significance_level / 2)\n",
    "\n",
    "# Step 2: Calculate the confidence interval\n",
    "margin_of_error = critical_value * (sample_std_dev / np.sqrt(sample_size))\n",
    "confidence_interval = (sample_mean - margin_of_error, sample_mean + margin_of_error)\n",
    "\n",
    "print(\"Confidence Interval:\", confidence_interval)\n",
    "\n",
    "# Step 3: Check if the null hypothesis should be rejected\n",
    "if population_mean_null < confidence_interval[0] or population_mean_null > confidence_interval[1]:\n",
    "    print(f\"Reject the null hypothesis. Population mean is significantly different from {population_mean_null}.\")\n",
    "else:\n",
    "    print(f\"Fail to reject the null hypothesis. Population mean is not significantly different from {population_mean_null}.\")\n",
    "\n",
    "\n"
   ]
  }
 ],
 "metadata": {
  "kernelspec": {
   "display_name": "Python 3",
   "language": "python",
   "name": "python3"
  },
  "language_info": {
   "codemirror_mode": {
    "name": "ipython",
    "version": 3
   },
   "file_extension": ".py",
   "mimetype": "text/x-python",
   "name": "python",
   "nbconvert_exporter": "python",
   "pygments_lexer": "ipython3",
   "version": "3.11.6"
  }
 },
 "nbformat": 4,
 "nbformat_minor": 2
}
