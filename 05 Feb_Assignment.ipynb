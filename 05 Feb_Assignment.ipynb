{
 "cells": [
  {
   "cell_type": "markdown",
   "id": "8255acce-b357-43b2-a7e4-61c7a709c5ae",
   "metadata": {},
   "source": [
    "Q1. Explain Class and Object with respect to Object-Oriented Programming. Give a suitable example."
   ]
  },
  {
   "cell_type": "markdown",
   "id": "504a0195-f1e0-4d3d-ac54-737be3f6fcd9",
   "metadata": {},
   "source": [
    "Ans. Class is a program whose memory space is not created unless we create its Object , we can create infinite copies of a class by having their respective object . Inside classes we can write infinte number of function and we can access any number of function of the class with the help of object. The below example illustrates , how we can provide,access the variables to a class and how we can access the fucntion of a class"
   ]
  },
  {
   "cell_type": "code",
   "execution_count": 5,
   "id": "02118240-0430-4d64-adfe-4162e95b5099",
   "metadata": {},
   "outputs": [
    {
     "name": "stdout",
     "output_type": "stream",
     "text": [
      "jaideep jaiswal\n",
      "202211032\n",
      "('jaideep jaiswal', 202211032)\n"
     ]
    }
   ],
   "source": [
    "class details ():\n",
    "    def __init__(jaideep,name,roll_no):\n",
    "        jaideep.name= name\n",
    "        jaideep.roll_no=roll_no\n",
    "    def return_value(jaideep):\n",
    "        return jaideep.name,jaideep.roll_no\n",
    "hello=details(\"jaideep jaiswal\",202211032)\n",
    "print(hello.name)\n",
    "print(hello.roll_no)\n",
    "print(hello.return_value())"
   ]
  },
  {
   "cell_type": "markdown",
   "id": "bbde8dff-48df-4bdb-952e-ef40bf89bd04",
   "metadata": {},
   "source": [
    "Q2. Name the four pillars of OOPs?"
   ]
  },
  {
   "cell_type": "markdown",
   "id": "10e36023-5239-47cb-b467-ccdb2bf72d6b",
   "metadata": {},
   "source": [
    "Ans. The four pillars of OOPs are \n",
    "1. polymorphism\n",
    "2. Encapsulation\n",
    "3. Inheritance\n",
    "4. data abstraction"
   ]
  },
  {
   "cell_type": "markdown",
   "id": "16c8d8b4-1f11-4d8c-8f1f-a2abdb4cb47e",
   "metadata": {},
   "source": [
    "Q3. Explain why the __init__() function is used. Give a suitable example?"
   ]
  },
  {
   "cell_type": "markdown",
   "id": "b720899b-18dc-43e9-925e-668c5fd0f047",
   "metadata": {},
   "source": [
    "Ans . __init__ function is used to take take variable as an input from the object of the class and feed that variable to the class"
   ]
  },
  {
   "cell_type": "code",
   "execution_count": 7,
   "id": "646b8ef7-8588-47d5-9add-f04a38082821",
   "metadata": {},
   "outputs": [
    {
     "name": "stdout",
     "output_type": "stream",
     "text": [
      "jaideep jaiswal\n",
      "202211032\n",
      "('jaideep jaiswal', 202211032)\n"
     ]
    }
   ],
   "source": [
    "class details ():\n",
    "    def __init__(jaideep,name,roll_no):\n",
    "        jaideep.name= name\n",
    "        jaideep.roll_no=roll_no\n",
    "    def return_value(jaideep):\n",
    "        return jaideep.name,jaideep.roll_no\n",
    "hello=details(\"jaideep jaiswal\",202211032)\n",
    "print(hello.name)\n",
    "print(hello.roll_no)\n",
    "print(hello.return_value())"
   ]
  },
  {
   "cell_type": "markdown",
   "id": "b5ff68b8-9c8a-472f-a332-caddf432f054",
   "metadata": {},
   "source": [
    "Q4. Why self is used in OOPs?"
   ]
  },
  {
   "cell_type": "markdown",
   "id": "2c98fc7b-43bd-43cb-a44c-b99cd6090f30",
   "metadata": {},
   "source": [
    "Ans. Self is a keyword which tells the class that the particular variable or the function where self is written belongs to the class"
   ]
  },
  {
   "cell_type": "code",
   "execution_count": null,
   "id": "950f1332-2011-4cc4-a2cb-a9b5910fcaf6",
   "metadata": {},
   "outputs": [],
   "source": []
  }
 ],
 "metadata": {
  "kernelspec": {
   "display_name": "Python 3 (ipykernel)",
   "language": "python",
   "name": "python3"
  },
  "language_info": {
   "codemirror_mode": {
    "name": "ipython",
    "version": 3
   },
   "file_extension": ".py",
   "mimetype": "text/x-python",
   "name": "python",
   "nbconvert_exporter": "python",
   "pygments_lexer": "ipython3",
   "version": "3.10.8"
  }
 },
 "nbformat": 4,
 "nbformat_minor": 5
}
