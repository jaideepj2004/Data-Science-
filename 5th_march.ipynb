{
 "cells": [
  {
   "cell_type": "code",
   "execution_count": 3,
   "metadata": {},
   "outputs": [],
   "source": [
    "import bokeh.plotting as bp\n",
    "\n",
    "# Q1. How can you create a Bokeh plot using Python code?\n",
    "\n",
    "# Create a figure and axis\n",
    "fig = bp.figure(title=\"My Plot\", x_axis_label=\"X-axis\", y_axis_label=\"Y-axis\")\n",
    "\n",
    "# Plot data\n",
    "x = [1, 2, 3, 4, 5]\n",
    "y = [2, 4, 5, 3, 1]\n",
    "fig.line(x, y, line_width=2)\n",
    "\n",
    "# Show the plot (corrected)\n",
    "bp.show(fig)  # Pass the figure object to show()\n",
    "\n",
    "# Q2. What are glyphs in Bokeh, and how can you add them to a Bokeh plot? Explain with an example.\n",
    "\n",
    "# Glyphs are the basic visual elements used in Bokeh plots. They can be lines, circles, squares, rectangles, text, and more. To add glyphs to a plot, you use the appropriate glyph function and specify the data to be plotted.\n",
    "\n",
    "# Example: Adding circles and lines\n",
    "fig2 = bp.figure(title=\"Glyphs Example\")\n",
    "x1 = [1, 2, 3, 4, 5]\n",
    "y1 = [2, 4, 5, 3, 1]\n",
    "fig2.circle(x1, y1, size=15, fill_color=\"blue\", line_color=\"black\")\n",
    "\n",
    "x2 = [1, 2, 3, 4, 5]\n",
    "y2 = [3, 1, 4, 2, 5]\n",
    "fig2.line(x2, y2, line_width=2, color=\"red\")\n",
    "\n",
    "bp.show(fig2)\n",
    "\n",
    "# Q3. How can you customize the appearance of a Bokeh plot, including the axes, title, and legend?\n",
    "\n",
    "# You can customize various aspects of a Bokeh plot using the `tools`, `title`, `x_axis_label`, `y_axis_label`, `axis_label`, `legend`, and other properties of the figure and glyphs.\n",
    "\n",
    "# Example: Customizing a plot\n",
    "fig3 = bp.figure(title=\"My Plot\", x_axis_label=\"X-axis\", y_axis_label=\"Y-axis\", tools=\"pan,box_zoom,wheel_zoom,reset\")\n",
    "\n",
    "x = [1, 2, 3, 4, 5]\n",
    "y = [2, 4, 5, 3, 1]\n",
    "line = fig3.line(x, y, line_width=2, color=\"red\", legend_label=\"Line 1\")\n",
    "\n",
    "fig3.legend.location = \"bottom_right\"\n",
    "\n",
    "bp.show(fig3)\n",
    "\n",
    "# Q4. What is a Bokeh server, and how can you use it to create interactive plots that can be updated in\n",
    "# real time?\n",
    "\n",
    "# A Bokeh server is a web application that can serve Bokeh plots. It allows you to create interactive plots that can be updated in real time based on user input or changing data.\n",
    "\n",
    "# To use a Bokeh server, you create a Bokeh document containing your plot and then run it using the `bokeh serve` command. This starts a web server that serves the plot.  (This functionality requires additional setup beyond this code)\n",
    "\n",
    "# Q5. How can you embed a Bokeh plot into a web page or dashboard using Flask or Django?\n",
    "\n",
    "# (This functionality requires additional setup with web frameworks like Flask or Django and is beyond the scope of this basic example)"
   ]
  },
  {
   "cell_type": "code",
   "execution_count": null,
   "metadata": {},
   "outputs": [],
   "source": []
  }
 ],
 "metadata": {
  "kernelspec": {
   "display_name": "Python 3",
   "language": "python",
   "name": "python3"
  },
  "language_info": {
   "codemirror_mode": {
    "name": "ipython",
    "version": 3
   },
   "file_extension": ".py",
   "mimetype": "text/x-python",
   "name": "python",
   "nbconvert_exporter": "python",
   "pygments_lexer": "ipython3",
   "version": "3.11.9"
  }
 },
 "nbformat": 4,
 "nbformat_minor": 2
}
