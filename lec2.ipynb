{
 "cells": [
  {
   "cell_type": "code",
   "execution_count": 4,
   "id": "bb55e43b-0815-4456-b063-22b864205abb",
   "metadata": {},
   "outputs": [
    {
     "name": "stdout",
     "output_type": "stream",
     "text": [
      "my name is Jaideep Jaiswal  and i would like to work in Data Scientist keeping in mind : No Hawai Fire\n",
      "My name is Jaideep Jaiswal  and i would like to work as a Data Scientist keeping in mind that : No Hawai Fire\n"
     ]
    }
   ],
   "source": [
    "name = \"Jaideep Jaiswal \"\n",
    "stream = \"Data Scientist\"\n",
    "motto = \"No Hawai Fire\"\n",
    "\n",
    "print(\"my name is {} and i would like to work in {} keeping in mind : {}\".format(name,stream,motto))\n",
    "print(f\"My name is {name} and i would like to work as a {stream} keeping in mind that : {motto}\")"
   ]
  },
  {
   "cell_type": "code",
   "execution_count": 10,
   "id": "3b7d82f8-bd79-406e-bd34-944402948281",
   "metadata": {},
   "outputs": [
    {
     "name": "stdin",
     "output_type": "stream",
     "text": [
      "Enter your age 66\n"
     ]
    },
    {
     "name": "stdout",
     "output_type": "stream",
     "text": [
      "you are either too young or an old blood\n"
     ]
    }
   ],
   "source": [
    "age = int( input(\"Enter your age\"))\n",
    "if age >=18  and age <=45 : \n",
    "    print(\"You are a young blood\")\n",
    "else : \n",
    "    print(\"you are either too young or an old blood\")"
   ]
  },
  {
   "cell_type": "code",
   "execution_count": 15,
   "id": "f6861305-59b9-4b8a-917e-0c08f6515149",
   "metadata": {},
   "outputs": [
    {
     "name": "stdin",
     "output_type": "stream",
     "text": [
      "Enter the cost of the product 10000\n"
     ]
    },
    {
     "name": "stdout",
     "output_type": "stream",
     "text": [
      "seliing price of the product is 8000.0\n"
     ]
    }
   ],
   "source": [
    "cost = int (input(\"Enter the cost of the product\"))\n",
    "if cost <=1000:\n",
    "    print(f\"selling price of the product is {cost*0.7}\")\n",
    "else : \n",
    "    print(f\"seliing price of the product is {cost*0.8}\")"
   ]
  },
  {
   "cell_type": "code",
   "execution_count": 20,
   "id": "4673f13b-a116-4855-9559-d88323eb6486",
   "metadata": {},
   "outputs": [
    {
     "name": "stdin",
     "output_type": "stream",
     "text": [
      "Enter the cost price of the product  3500\n"
     ]
    },
    {
     "name": "stdout",
     "output_type": "stream",
     "text": [
      "cost of the product after discount is 2800.0\n"
     ]
    }
   ],
   "source": [
    "cp = int (input(\"Enter the cost price of the product \"))\n",
    "if cp <=2000 :\n",
    "    print(f\"cost of product after discount is {cp*0.6}\")\n",
    "if cp >2000 and cp <=3000 : \n",
    "    print(f\"cost of the product after discount is {cp*0.7}\")\n",
    "if cp > 3000 : \n",
    "    print(f\"cost of the product after discount is {cp*0.8}\")"
   ]
  },
  {
   "cell_type": "code",
   "execution_count": null,
   "id": "483d2b92-1b52-4942-b77b-cf688d0612ee",
   "metadata": {},
   "outputs": [],
   "source": []
  }
 ],
 "metadata": {
  "kernelspec": {
   "display_name": "Python 3 (ipykernel)",
   "language": "python",
   "name": "python3"
  },
  "language_info": {
   "codemirror_mode": {
    "name": "ipython",
    "version": 3
   },
   "file_extension": ".py",
   "mimetype": "text/x-python",
   "name": "python",
   "nbconvert_exporter": "python",
   "pygments_lexer": "ipython3",
   "version": "3.10.8"
  }
 },
 "nbformat": 4,
 "nbformat_minor": 5
}
