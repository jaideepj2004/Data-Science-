{
 "cells": [
  {
   "cell_type": "markdown",
   "metadata": {},
   "source": [
    "Q1: Define overfitting and underfitting in machine learning. What are the consequences of each, and how\n",
    "can they be mitigated?\n",
    "\n",
    "-> overfiting :- when the model gives high accuracy in learning stage but bad accuracy in testing phase , there is a loss of data for training as the model is overtrained . we must use more data for testing than training the model\n",
    "underfitting :- when the model gives low accuracy in learning as well as testing phase , we dont get a model which is good enough , we must train the model well\n",
    "\n",
    "Q2: How can we reduce overfitting? Explain in brief.\n",
    "\n",
    "->we must properly train the model  and we must not focus on training with more data but we should rather focus more on problem solving ability of the model \n",
    "\n",
    "Q3: Explain underfitting. List scenarios where underfitting can occur in ML.\n",
    "\n",
    "->underfiting is a scenario where the model is not trained well and as a result it not giving good performance . It can occur when we either select a model which is not so precise for the given scenario or we dont train model using enough data set\n",
    "\n",
    "Q4: Explain the bias-variance tradeoff in machine learning. What is the relationship between bias and\n",
    "variance, and how do they affect model performance?\n",
    "\n",
    "-> high bias : model is not trained well , will cause underfitting \n",
    "low bias : model is trained well but it may cause overfitting \n",
    "high variance : model is not giving satisfactory output during testing , may be a case of overfitting \n",
    "low vairance : model is giving satisfactory output and is a generalised case \n",
    "\n",
    "Q5: Discuss some common methods for detecting overfitting and underfitting in machine learning models.\n",
    "How can you determine whether your model is overfitting or underfitting?\n",
    "\n",
    "->when the model is giving high accuracy during training but low accuracy during testing than it is a case of overfitting and when the model is giving low accuracy both during training and testing than it is a case of underfitting \n",
    "\n",
    "Q6: Compare and contrast bias and variance in machine learning. What are some examples of high bias\n",
    "and high variance models, and how do they differ in terms of their performance?\n",
    "\n",
    "-> A stock prediction model which is not trained will surely give wrong predictiion and this is an example of high bias . In high variance we have overfitting for example if the stock prediction model is trained with too many data than that will create noise and it will give wrong output. both of the model will give poor performance.\n",
    "\n",
    "Q7: What is regularization in machine learning, and how can it be used to prevent overfitting? Describe\n",
    "some common regularization techniques and how they work.\n",
    "\n",
    "-> Regularization in machine learning prevents overfitting by adding a complexity penalty to the model. Common techniques include L1 (Lasso), L2 (Ridge) regularization, Elastic Net, dropout (neural networks), early stopping, and cross-validation, each encouraging a balance between fitting the data and model simplicity."
   ]
  },
  {
   "cell_type": "markdown",
   "metadata": {},
   "source": []
  }
 ],
 "metadata": {
  "language_info": {
   "name": "python"
  }
 },
 "nbformat": 4,
 "nbformat_minor": 2
}
