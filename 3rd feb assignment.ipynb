{
 "cells": [
  {
   "cell_type": "markdown",
   "id": "5ecd7951-c8a4-42dc-bcc1-1558774955df",
   "metadata": {},
   "source": [
    "Q1. Which keyword is used to create a function? Create a function to return a list of odd numbers in the\n",
    "range of 1 to 25."
   ]
  },
  {
   "cell_type": "code",
   "execution_count": 2,
   "id": "6b5f626d-5d30-44b3-a7a6-b165d130bc60",
   "metadata": {},
   "outputs": [
    {
     "name": "stdout",
     "output_type": "stream",
     "text": [
      "[1, 3, 5, 7, 9, 11, 13, 15, 17, 19, 21, 23, 25]\n"
     ]
    }
   ],
   "source": [
    "\"\"\" def keyword is used to create a function.\"\"\"\n",
    "def odd(a):\n",
    "    lst=[]\n",
    "    for i in range(1,a+1):\n",
    "        if (i%2!=0):\n",
    "            lst.append(i)\n",
    "    return lst\n",
    "print(odd(25))"
   ]
  },
  {
   "cell_type": "markdown",
   "id": "0e8c0535-1bad-4778-bfea-2a57d467b0f2",
   "metadata": {},
   "source": [
    "Q2. Why *args and **kwargs is used in some functions? Create a function each for *args and **kwargs to\n",
    "demonstrate their use."
   ]
  },
  {
   "cell_type": "markdown",
   "id": "e0fe7f01-7e7b-46da-a6e9-afda8834ea27",
   "metadata": {},
   "source": [
    "*args as used to take n number of argument to a function whereas ** kwargs is used to take a list/dictionary or set as an input in a particular format and converts the given argument of any sizeinto a dictionary . ** kwargs is used when we want output for the given input where finction can take any number of input and will output a dictionary whereas *args is used when we want to input n number of argument to the function"
   ]
  },
  {
   "cell_type": "code",
   "execution_count": 10,
   "id": "24f44b0e-7e70-41fc-b0e6-9662eb5085aa",
   "metadata": {},
   "outputs": [
    {
     "name": "stdout",
     "output_type": "stream",
     "text": [
      "(1, 2, True, ['jaideep Jaiswal', {1, 2, 3}, 3], (4, 3, False))\n",
      "{'a': 'Jaideep Jaiswal', 'b': 20, 'health': 'doesnt look healthy'}\n"
     ]
    }
   ],
   "source": [
    "def fun1(*args):\n",
    "    print(args)\n",
    "    \n",
    "def fun2(**kwargs):\n",
    "    print(kwargs)\n",
    "\n",
    "fun1(1,2,True,[\"jaideep Jaiswal\",{1,2,3},3],(4,3,False))\n",
    "fun2(a=('Jaideep Jaiswal'),b=20,health=('doesnt look healthy'))"
   ]
  },
  {
   "cell_type": "markdown",
   "id": "c5afbf70-df1f-4bc8-bbfb-a08a4e4037c6",
   "metadata": {},
   "source": [
    "Q3. What is an iterator in python? Name the method used to initialise the iterator object and the method\n",
    "used for iteration. Use these methods to print the first five elements of the given list [2, 4, 6, 8, 10, 12, 14, 16,\n",
    "18, 20]."
   ]
  },
  {
   "cell_type": "markdown",
   "id": "f76ca388-b700-4850-a875-2488a410c72f",
   "metadata": {},
   "source": [
    "Ans 3.An interator is a variable than iterates to each and every part of the entire iteration , we initialize the ingterator as for i in range(a), here i is the iterator and it will iterate in the range 0 to a-1 , this is how we can initialize an iterator objec . The below method can be used to iterate through the given list"
   ]
  },
  {
   "cell_type": "code",
   "execution_count": 11,
   "id": "c2090a75-09d0-4f83-98ab-1513c7df6a31",
   "metadata": {},
   "outputs": [
    {
     "name": "stdout",
     "output_type": "stream",
     "text": [
      "0\n",
      "1\n",
      "2\n",
      "3\n",
      "4\n"
     ]
    }
   ],
   "source": [
    "lst=[2, 4, 6, 8, 10, 12, 14, 16,18, 20]\n",
    "for i in range (5):\n",
    "    print(i)"
   ]
  },
  {
   "cell_type": "markdown",
   "id": "1dd8c635-0ab7-43c0-aa1e-8e4fdd473a8a",
   "metadata": {},
   "source": [
    "Q4. What is a generator function in python? Why yield keyword is used? Give an example of a generator\n",
    "function."
   ]
  },
  {
   "cell_type": "markdown",
   "id": "4acedcdb-4856-4551-ad93-fe8f28fdddf5",
   "metadata": {},
   "source": [
    "Ans 4. A generator function is a function that doesnt stop until it is returns all the value and it doesn't stores the value rather it keep returning the value which are available . We use yield keyword so that the function returns that specific value but doesn't stop it execution . Below is an example of generator function "
   ]
  },
  {
   "cell_type": "code",
   "execution_count": 15,
   "id": "493f549e-7dcd-43a8-b327-51ed365feca3",
   "metadata": {},
   "outputs": [
    {
     "name": "stdout",
     "output_type": "stream",
     "text": [
      "<generator object fun at 0x7fe94a31a180>\n"
     ]
    }
   ],
   "source": [
    "def fun(a):\n",
    "    for i in range(a):\n",
    "     yield a\n",
    "    \n",
    "lst = [1,2,3,4,4,5,5,5,5,4,3,3,3,3]\n",
    "print(fun(lst))"
   ]
  },
  {
   "cell_type": "markdown",
   "id": "e272d2a5-f65d-4ea2-8261-fdc53a0a1eb3",
   "metadata": {},
   "source": [
    "Q5. Create a generator function for prime numbers less than 1000. Use the next() method to print the\n",
    "first 20 prime numbers."
   ]
  },
  {
   "cell_type": "code",
   "execution_count": null,
   "id": "0c2f2617-9f5b-49b7-9b9b-a76f58c58382",
   "metadata": {},
   "outputs": [],
   "source": [
    "def prime(a):\n",
    "    while (a<=1000):\n",
    "        \n",
    "        \n",
    "        for j in range (2,a):\n",
    "            if (a==2):\n",
    "            yield (a)\n",
    "            else : \n",
    "            pass\n",
    "            c=0\n",
    "        for k in range(2,j):\n",
    "            if (j%k==0):\n",
    "                break\n",
    "            else:\n",
    "                c=c+1\n",
    "        if (c==(j-1)):\n",
    "            yield (j)\n",
    "            print(j)\n",
    "        else:\n",
    "            pass \n",
    " \n",
    "\n",
    "s = len(str(prime (1000)))\n",
    "a = prime(1000)\n",
    "\n",
    "for i in range (8):\n",
    "    print(next(a))"
   ]
  },
  {
   "cell_type": "code",
   "execution_count": null,
   "id": "5bc92639-2020-4a8c-9dfb-e927f06154f4",
   "metadata": {},
   "outputs": [],
   "source": []
  },
  {
   "cell_type": "code",
   "execution_count": null,
   "id": "cc5f3212-2e1a-4cd4-abbe-88b78bdcc45c",
   "metadata": {},
   "outputs": [],
   "source": []
  },
  {
   "cell_type": "code",
   "execution_count": null,
   "id": "2a0ce054-3b1a-4a52-b0f3-07e8fe2300ec",
   "metadata": {},
   "outputs": [],
   "source": []
  }
 ],
 "metadata": {
  "kernelspec": {
   "display_name": "Python 3 (ipykernel)",
   "language": "python",
   "name": "python3"
  },
  "language_info": {
   "codemirror_mode": {
    "name": "ipython",
    "version": 3
   },
   "file_extension": ".py",
   "mimetype": "text/x-python",
   "name": "python",
   "nbconvert_exporter": "python",
   "pygments_lexer": "ipython3",
   "version": "3.10.8"
  }
 },
 "nbformat": 4,
 "nbformat_minor": 5
}
