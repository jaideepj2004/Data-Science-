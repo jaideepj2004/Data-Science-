{
 "cells": [
  {
   "cell_type": "markdown",
   "id": "86ca0156-2d30-4cc7-bf65-89aab9126fbb",
   "metadata": {},
   "source": [
    "Q1. Create a function which will take a list as an argument and return the product of all the numbers\n",
    "after creating a flat list.\n",
    "Use the below-given list as an argument for your function?\n",
    "list1 = [1,2,3,4, [44,55,66, True], False, (34,56,78,89,34), {1,2,3,3,2,1}, {1:34, \"key2\": [55, 67, 78, 89], 4: (45,\n",
    "22, 61, 34)}, [56, 'data science'], 'Machine Learning']"
   ]
  },
  {
   "cell_type": "code",
   "execution_count": 1,
   "id": "82bfbb07-0515-42d1-acfe-c4e7b37a7b4e",
   "metadata": {},
   "outputs": [],
   "source": [
    "def product_of_numbers(lst):\n",
    "    flat_list = []\n",
    "    for item in lst:\n",
    "        if type(item) == list:\n",
    "            flat_list.extend(item)\n",
    "        elif type(item) == tuple or type(item) == set:\n",
    "            flat_list.extend(list(item))\n",
    "        elif type(item) == dict:\n",
    "            for val in item.values():\n",
    "                if type(val) == list:\n",
    "                    flat_list.extend(val)\n",
    "                elif type(val) == tuple or type(val) == set:\n",
    "                    flat_list.extend(list(val))\n",
    "                else:\n",
    "                    continue\n",
    "        else:\n",
    "            flat_list.append(item)\n",
    "\n",
    "    product = 1\n",
    "    for num in flat_list:\n",
    "        if type(num) == int or type(num) == float:\n",
    "            product *= num\n",
    "\n",
    "    return product\n"
   ]
  },
  {
   "cell_type": "code",
   "execution_count": null,
   "id": "b716b1e7-83cd-42b8-87f1-1de62531b1c7",
   "metadata": {},
   "outputs": [],
   "source": [
    "ascii(list1 = [1,2,3,4, [44,55,66, True], False, (34,56,78,89,34), {1,2,3,3,2,1}, {1:34, \"key2\": [55, 67, 78, 89], 4: (45, 22, 61, 34)}, [56, 'data science'], 'Machine Learning'])"
   ]
  },
  {
   "cell_type": "markdown",
   "id": "8439db70-6be1-4bae-be1a-b0a07d3b89b8",
   "metadata": {},
   "source": [
    "Q2. Q2. Write a python program for encrypting a message sent to you by your friend. The logic of encryption\n",
    "should be such that, for a the output should be z. For b, the output should be y. For c, the output should\n",
    "be x respectively. Also, the whitespace should be replaced with a dollar sign. Keep the punctuation\n",
    "marks unchanged.\n",
    "Input Sentence: I want to become a Data Scientist.\n",
    "Encrypt the above input sentence using the program you just created.\n",
    "Note: Convert the given input sentence into lowercase before encrypting. The final output should be lowercase?"
   ]
  },
  {
   "cell_type": "code",
   "execution_count": null,
   "id": "3ba9a9f3-54a2-46c1-9dcc-316d6cad5fd1",
   "metadata": {},
   "outputs": [],
   "source": [
    "a = str(input())\n",
    "\n",
    "a.lower()\n",
    "c =[]\n",
    "\n",
    "     \n",
    "for i in a: \n",
    "    k = ord(i)\n",
    "   \n",
    "    if ord(i)<=122 and ord(i)>=97:\n",
    "         c.append(65+97-ord(i))\n",
    "    if i ==\" \":\n",
    "        \n",
    "        c.append('$')\n",
    "for i in c :\n",
    "    print(i,end='')"
   ]
  },
  {
   "cell_type": "code",
   "execution_count": null,
   "id": "c2d8e895-ff32-482f-8d32-54dee6d15715",
   "metadata": {},
   "outputs": [],
   "source": [
    "\n",
    "ascii(list1 = [1,2,3,4, [44,55,66, True], False, (34,56,78,89,34), {1,2,3,3,2,1}, {1:34, \"key2\": [55, 67, 78, 89], 4: (45, 22, 61, 34)}, [56, 'data science'], 'Machine Learning'])"
   ]
  },
  {
   "cell_type": "code",
   "execution_count": null,
   "id": "0199689b-8673-42dd-b7cf-e1f39e123e69",
   "metadata": {},
   "outputs": [],
   "source": []
  }
 ],
 "metadata": {
  "kernelspec": {
   "display_name": "Python 3 (ipykernel)",
   "language": "python",
   "name": "python3"
  },
  "language_info": {
   "codemirror_mode": {
    "name": "ipython",
    "version": 3
   },
   "file_extension": ".py",
   "mimetype": "text/x-python",
   "name": "python",
   "nbconvert_exporter": "python",
   "pygments_lexer": "ipython3",
   "version": "3.10.8"
  }
 },
 "nbformat": 4,
 "nbformat_minor": 5
}
