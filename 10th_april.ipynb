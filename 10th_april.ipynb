{
 "cells": [
  {
   "cell_type": "markdown",
   "metadata": {},
   "source": [
    "Q1. A company conducted a survey of its employees and found that 70% of the employees use the\n",
    "company's health insurance plan, while 40% of the employees who use the plan are smokers. What is the\n",
    "probability that an employee is a smoker given that he/she uses the health insurance plan?\n",
    "\n",
    "-> p(a) : 0.7 \n",
    "\n",
    "p(a ^ b) : 0.4*0.7 "
   ]
  },
  {
   "cell_type": "code",
   "execution_count": 6,
   "metadata": {},
   "outputs": [
    {
     "data": {
      "text/plain": [
       "0.27999999999999997"
      ]
     },
     "execution_count": 6,
     "metadata": {},
     "output_type": "execute_result"
    }
   ],
   "source": [
    "0.4*0.7\n",
    "# is the probability that given the employee has health insurance and he is a smoker "
   ]
  },
  {
   "cell_type": "markdown",
   "metadata": {},
   "source": [
    "Q2. What is the difference between Bernoulli Naive Bayes and Multinomial Naive Bayes?\n",
    "\n",
    "-> Bernouli Naive Bayes is made to handle dataset following binary distribution , here all the columns have only two types of variable .Multinomial Naive bayes is used to handle dataset having two or more discrete value in a particular column \n",
    "\n",
    "Q3. How does Bernoulli Naive Bayes handle missing values?\n",
    "\n",
    "-> Naive Bayes has an internal mechanism called Naive Bayes imputation which segregates dataset into two part , one part having no missing values and other part having missng value , it then predict the missing value using the dataset that does not having missing value thus filling the missing value \n",
    "\n",
    "Q4. Can Gaussian Naive Bayes be used for multi-class classification?\n",
    "\n",
    "-> Yes , we can use however the accuracy may decrease "
   ]
  },
  {
   "cell_type": "code",
   "execution_count": 7,
   "metadata": {},
   "outputs": [
    {
     "name": "stdout",
     "output_type": "stream",
     "text": [
      "Gaussian Naive Bayes:\n",
      "Accuracy: 0.9600000000000002\n",
      "Precision: 0.9649206349206351\n",
      "Recall: 0.9663492063492063\n",
      "F1 Score: 0.9616807266807268\n",
      "\n",
      "Multinomial Naive Bayes:\n",
      "Accuracy: 0.9199999999999999\n",
      "Precision: 0.9287301587301589\n",
      "Recall: 0.9322222222222221\n",
      "F1 Score: 0.914968734968735\n",
      "\n",
      "Bernoulli Naive Bayes:\n",
      "Accuracy: 0.22000000000000003\n",
      "Precision: 0.07333333333333333\n",
      "Recall: 0.33333333333333337\n",
      "F1 Score: 0.11890264877880978\n"
     ]
    },
    {
     "name": "stderr",
     "output_type": "stream",
     "text": [
      "C:\\Users\\jaide\\AppData\\Local\\Packages\\PythonSoftwareFoundation.Python.3.11_qbz5n2kfra8p0\\LocalCache\\local-packages\\Python311\\site-packages\\sklearn\\metrics\\_classification.py:1471: UndefinedMetricWarning: Precision is ill-defined and being set to 0.0 in labels with no predicted samples. Use `zero_division` parameter to control this behavior.\n",
      "  _warn_prf(average, modifier, msg_start, len(result))\n",
      "C:\\Users\\jaide\\AppData\\Local\\Packages\\PythonSoftwareFoundation.Python.3.11_qbz5n2kfra8p0\\LocalCache\\local-packages\\Python311\\site-packages\\sklearn\\metrics\\_classification.py:1471: UndefinedMetricWarning: Precision is ill-defined and being set to 0.0 in labels with no predicted samples. Use `zero_division` parameter to control this behavior.\n",
      "  _warn_prf(average, modifier, msg_start, len(result))\n",
      "C:\\Users\\jaide\\AppData\\Local\\Packages\\PythonSoftwareFoundation.Python.3.11_qbz5n2kfra8p0\\LocalCache\\local-packages\\Python311\\site-packages\\sklearn\\metrics\\_classification.py:1471: UndefinedMetricWarning: Precision is ill-defined and being set to 0.0 in labels with no predicted samples. Use `zero_division` parameter to control this behavior.\n",
      "  _warn_prf(average, modifier, msg_start, len(result))\n",
      "C:\\Users\\jaide\\AppData\\Local\\Packages\\PythonSoftwareFoundation.Python.3.11_qbz5n2kfra8p0\\LocalCache\\local-packages\\Python311\\site-packages\\sklearn\\metrics\\_classification.py:1471: UndefinedMetricWarning: Precision is ill-defined and being set to 0.0 in labels with no predicted samples. Use `zero_division` parameter to control this behavior.\n",
      "  _warn_prf(average, modifier, msg_start, len(result))\n",
      "C:\\Users\\jaide\\AppData\\Local\\Packages\\PythonSoftwareFoundation.Python.3.11_qbz5n2kfra8p0\\LocalCache\\local-packages\\Python311\\site-packages\\sklearn\\metrics\\_classification.py:1471: UndefinedMetricWarning: Precision is ill-defined and being set to 0.0 in labels with no predicted samples. Use `zero_division` parameter to control this behavior.\n",
      "  _warn_prf(average, modifier, msg_start, len(result))\n",
      "C:\\Users\\jaide\\AppData\\Local\\Packages\\PythonSoftwareFoundation.Python.3.11_qbz5n2kfra8p0\\LocalCache\\local-packages\\Python311\\site-packages\\sklearn\\metrics\\_classification.py:1471: UndefinedMetricWarning: Precision is ill-defined and being set to 0.0 in labels with no predicted samples. Use `zero_division` parameter to control this behavior.\n",
      "  _warn_prf(average, modifier, msg_start, len(result))\n",
      "C:\\Users\\jaide\\AppData\\Local\\Packages\\PythonSoftwareFoundation.Python.3.11_qbz5n2kfra8p0\\LocalCache\\local-packages\\Python311\\site-packages\\sklearn\\metrics\\_classification.py:1471: UndefinedMetricWarning: Precision is ill-defined and being set to 0.0 in labels with no predicted samples. Use `zero_division` parameter to control this behavior.\n",
      "  _warn_prf(average, modifier, msg_start, len(result))\n",
      "C:\\Users\\jaide\\AppData\\Local\\Packages\\PythonSoftwareFoundation.Python.3.11_qbz5n2kfra8p0\\LocalCache\\local-packages\\Python311\\site-packages\\sklearn\\metrics\\_classification.py:1471: UndefinedMetricWarning: Precision is ill-defined and being set to 0.0 in labels with no predicted samples. Use `zero_division` parameter to control this behavior.\n",
      "  _warn_prf(average, modifier, msg_start, len(result))\n",
      "C:\\Users\\jaide\\AppData\\Local\\Packages\\PythonSoftwareFoundation.Python.3.11_qbz5n2kfra8p0\\LocalCache\\local-packages\\Python311\\site-packages\\sklearn\\metrics\\_classification.py:1471: UndefinedMetricWarning: Precision is ill-defined and being set to 0.0 in labels with no predicted samples. Use `zero_division` parameter to control this behavior.\n",
      "  _warn_prf(average, modifier, msg_start, len(result))\n",
      "C:\\Users\\jaide\\AppData\\Local\\Packages\\PythonSoftwareFoundation.Python.3.11_qbz5n2kfra8p0\\LocalCache\\local-packages\\Python311\\site-packages\\sklearn\\metrics\\_classification.py:1471: UndefinedMetricWarning: Precision is ill-defined and being set to 0.0 in labels with no predicted samples. Use `zero_division` parameter to control this behavior.\n",
      "  _warn_prf(average, modifier, msg_start, len(result))\n"
     ]
    }
   ],
   "source": [
    "from sklearn.model_selection import cross_val_score, cross_val_predict\n",
    "from sklearn.naive_bayes import GaussianNB, MultinomialNB, BernoulliNB\n",
    "from sklearn import datasets\n",
    "from sklearn.metrics import accuracy_score, precision_score, recall_score, f1_score\n",
    "from sklearn.model_selection import KFold\n",
    "\n",
    "# Load the Iris dataset\n",
    "iris = datasets.load_iris()\n",
    "X, y = iris.data, iris.target\n",
    "\n",
    "# Initialize KFold with 10 folds for cross-validation\n",
    "kf = KFold(n_splits=10, shuffle=True, random_state=42)\n",
    "\n",
    "# Gaussian Naive Bayes\n",
    "gnb = GaussianNB()\n",
    "gnb_accuracy_scores = cross_val_score(gnb, X, y, cv=kf, scoring='accuracy')\n",
    "gnb_precision_scores = cross_val_score(gnb, X, y, cv=kf, scoring='precision_macro')\n",
    "gnb_recall_scores = cross_val_score(gnb, X, y, cv=kf, scoring='recall_macro')\n",
    "gnb_f1_scores = cross_val_score(gnb, X, y, cv=kf, scoring='f1_macro')\n",
    "\n",
    "# Multinomial Naive Bayes\n",
    "mnb = MultinomialNB()\n",
    "mnb_accuracy_scores = cross_val_score(mnb, X, y, cv=kf, scoring='accuracy')\n",
    "mnb_precision_scores = cross_val_score(mnb, X, y, cv=kf, scoring='precision_macro')\n",
    "mnb_recall_scores = cross_val_score(mnb, X, y, cv=kf, scoring='recall_macro')\n",
    "mnb_f1_scores = cross_val_score(mnb, X, y, cv=kf, scoring='f1_macro')\n",
    "\n",
    "# Binomial Naive Bayes (Bernoulli Naive Bayes)\n",
    "bnb = BernoulliNB()\n",
    "bnb_accuracy_scores = cross_val_score(bnb, X, y, cv=kf, scoring='accuracy')\n",
    "bnb_precision_scores = cross_val_score(bnb, X, y, cv=kf, scoring='precision_macro')\n",
    "bnb_recall_scores = cross_val_score(bnb, X, y, cv=kf, scoring='recall_macro')\n",
    "bnb_f1_scores = cross_val_score(bnb, X, y, cv=kf, scoring='f1_macro')\n",
    "\n",
    "# Print average scores for each classifier\n",
    "print(\"Gaussian Naive Bayes:\")\n",
    "print(\"Accuracy:\", gnb_accuracy_scores.mean())\n",
    "print(\"Precision:\", gnb_precision_scores.mean())\n",
    "print(\"Recall:\", gnb_recall_scores.mean())\n",
    "print(\"F1 Score:\", gnb_f1_scores.mean())\n",
    "\n",
    "print(\"\\nMultinomial Naive Bayes:\")\n",
    "print(\"Accuracy:\", mnb_accuracy_scores.mean())\n",
    "print(\"Precision:\", mnb_precision_scores.mean())\n",
    "print(\"Recall:\", mnb_recall_scores.mean())\n",
    "print(\"F1 Score:\", mnb_f1_scores.mean())\n",
    "\n",
    "print(\"\\nBernoulli Naive Bayes:\")\n",
    "print(\"Accuracy:\", bnb_accuracy_scores.mean())\n",
    "print(\"Precision:\", bnb_precision_scores.mean())\n",
    "print(\"Recall:\", bnb_recall_scores.mean())\n",
    "print(\"F1 Score:\", bnb_f1_scores.mean())\n"
   ]
  },
  {
   "cell_type": "markdown",
   "metadata": {},
   "source": [
    "Gaussian Naive bayes performs the best on this dataset "
   ]
  }
 ],
 "metadata": {
  "kernelspec": {
   "display_name": "Python 3",
   "language": "python",
   "name": "python3"
  },
  "language_info": {
   "codemirror_mode": {
    "name": "ipython",
    "version": 3
   },
   "file_extension": ".py",
   "mimetype": "text/x-python",
   "name": "python",
   "nbconvert_exporter": "python",
   "pygments_lexer": "ipython3",
   "version": "3.11.6"
  }
 },
 "nbformat": 4,
 "nbformat_minor": 2
}
