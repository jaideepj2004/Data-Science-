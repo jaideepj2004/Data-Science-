{
 "cells": [
  {
   "cell_type": "markdown",
   "metadata": {},
   "source": [
    "Q1. What is Bayes' theorem?\n",
    "\n",
    "-> Bayes theorem is a theorem is probability that is used to find the probability in a particular scenario.for example if there are 3 red ball and 2 white balls in bag 1 , and 4 red balls and 1 white balls in bag 2 , given that red ball is drawn what is the probability that is drawn from first bag , in such scenario we use Bayes theorem. here we find the condition probability/ total probability \n",
    "\n",
    "Q2. What is the formula for Bayes' theorem?\n",
    "\n",
    "->condition probability/ total probability \n",
    "\n",
    "Q3. How is Bayes' theorem used in practice?\n",
    "\n",
    "->  if there are 3 red ball and 2 white balls in bag 1 , and 4 red balls and 1 white balls in bag 2 , given that red ball is drawn what is the probability that is drawn from first bag , in such scenario we use Bayes theorem. \n",
    "\n",
    "Q4. What is the relationship between Bayes' theorem and conditional probability?\n",
    "\n",
    "-> bayes theorem = conditional probability / total probability \n",
    "\n",
    "Q5. How do you choose which type of Naive Bayes classifier to use for any given problem?\n",
    "\n",
    "-> If we have text data than we should use multinomial Naive bayes , if we have data following binomial distribution than we should use binomial naive bayes , in dataset following binomial distribution we have only 2 types of variable in each column , if our dataset follows Gaussian distribution or is is continuous in nature than we should use Gaussian Naive bayes \n",
    "\n",
    "Q6. Assignment:\n",
    "You have a dataset with two features, X1 and X2, and two possible classes, A and B. You want to use Naive\n",
    "Bayes to classify a new instance with features X1 = 3 and X2 = 4. The following table shows the frequency of\n",
    "each feature value for each class:\n",
    "Class X1=1 X1=2 X1=3 X2=1 X2=2 X2=3 X2=4\n",
    "A 3 3 4 4 3 3 3\n",
    "B 2 2 1 2 2 2 3\n",
    "Assuming equal prior probabilities for each class, which class would Naive Bayes predict the new instance\n",
    "to belong to?\n",
    "\n",
    "-> The predicted class is B "
   ]
  },
  {
   "cell_type": "code",
   "execution_count": 3,
   "metadata": {},
   "outputs": [
    {
     "name": "stdout",
     "output_type": "stream",
     "text": [
      "Predicted class: B\n"
     ]
    }
   ],
   "source": [
    "from sklearn.naive_bayes import GaussianNB\n",
    "import numpy as np\n",
    "\n",
    "# Given dataset\n",
    "data_A = np.array([[3, 3, 4, 4, 3, 3, 3]])\n",
    "data_B = np.array([[2, 2, 1, 2, 2, 2, 3]])\n",
    "\n",
    "# Labels\n",
    "labels_A = np.array(['A'])\n",
    "labels_B = np.array(['B'])\n",
    "\n",
    "# Combine data and labels\n",
    "X_train = np.concatenate((data_A, data_B))\n",
    "y_train = np.concatenate((labels_A, labels_B))\n",
    "\n",
    "# Create a Gaussian Naive Bayes classifier\n",
    "classifier = GaussianNB()\n",
    "\n",
    "# Train the classifier\n",
    "classifier.fit(X_train, y_train)\n",
    "\n",
    "# Predict the class for X1=3 and X2=4\n",
    "# Provide an array with 7 features as required by the model\n",
    "X_new = np.array([[0, 0, 3, 0, 0, 0, 4]])  # Filling with 0 for the missing features\n",
    "predicted_class = classifier.predict(X_new)\n",
    "\n",
    "print(\"Predicted class:\", predicted_class[0])\n"
   ]
  },
  {
   "cell_type": "code",
   "execution_count": null,
   "metadata": {},
   "outputs": [],
   "source": []
  }
 ],
 "metadata": {
  "kernelspec": {
   "display_name": "Python 3",
   "language": "python",
   "name": "python3"
  },
  "language_info": {
   "codemirror_mode": {
    "name": "ipython",
    "version": 3
   },
   "file_extension": ".py",
   "mimetype": "text/x-python",
   "name": "python",
   "nbconvert_exporter": "python",
   "pygments_lexer": "ipython3",
   "version": "3.11.6"
  }
 },
 "nbformat": 4,
 "nbformat_minor": 2
}
