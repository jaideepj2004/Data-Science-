{
 "cells": [
  {
   "cell_type": "markdown",
   "id": "3e3cf17c-a08d-4e5b-9563-9af8ef9d9c63",
   "metadata": {},
   "source": [
    "Q1. What is Web Scraping? Why is it Used? Give three areas where Web Scraping is used to get data.\n",
    "\n",
    "-> Web scrapping is an application by which we can access the data that is present inside a web , by giving a particular input . Web scrapping is used in electronics,advertisment and customer reviews for a product\n",
    "\n",
    "Q2. What are the different methods used for Web Scraping?\n",
    "\n",
    "-> Web scrapping can be done by creating api using flask , deploying code on data bases like sql and mongodb , and by deploying project on aws\n",
    "\n",
    "Q3. What is Beautiful Soup? Why is it used?\n",
    "\n",
    "-> beautiful soup is an header file and it is used to make the data more readable \n",
    "\n",
    "Q4. Why is flask used in this Web Scraping project?\n",
    "\n",
    "-> flask is used for creating api for the code in web scrapping \n",
    "\n",
    "Q5. Write the names of AWS services used in this project. Also, explain the use of each service.\n",
    "\n",
    "-> AWS services comprises of bean stalk and "
   ]
  }
 ],
 "metadata": {
  "kernelspec": {
   "display_name": "Python 3 (ipykernel)",
   "language": "python",
   "name": "python3"
  },
  "language_info": {
   "codemirror_mode": {
    "name": "ipython",
    "version": 3
   },
   "file_extension": ".py",
   "mimetype": "text/x-python",
   "name": "python",
   "nbconvert_exporter": "python",
   "pygments_lexer": "ipython3",
   "version": "3.10.8"
  }
 },
 "nbformat": 4,
 "nbformat_minor": 5
}
