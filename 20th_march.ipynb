{
 "cells": [
  {
   "cell_type": "markdown",
   "metadata": {},
   "source": [
    "Q1. What is data encoding? How is it useful in data science?\n",
    "\n",
    "-> Assigning a numerical value to a categorical data that can be understood by the machine is called as data encoding. Machine dont understand the categorical data such as male , female, etc. so we cant feed categorical data to the machine directly we have to convert the categorical data into numerical so that machine can understand it . \n",
    "\n",
    "\n",
    "Q2. What is nominal encoding? Provide an example of how you would use it in a real-world scenario.\n",
    "\n",
    "-> Nominal encoding is a data encoding method in which we provide rank to the categories present inside a categorical data . In real world i can assign it to the data such as phd 1, mtech 2 , btech 3, here the number written are the rank of these categories present inside the cateogory of qualification. \n",
    "\n",
    "\n",
    "Q3. In what situations is nominal encoding preferred over one-hot encoding? Provide a practical example.\n",
    "\n",
    "-> One-hot-encoding provides a sparse data set which can cause overfitting , so under such situation we can use nominal encoding . for example if we have a wide vairety of categories , eg number of cars in a city than we can prefer nominal encoding over one-hot-encoding.\n",
    "\n",
    "Q4. Suppose you have a dataset containing categorical data with 5 unique values. Which encoding\n",
    "technique would you use to transform this data into a format suitable for machine learning algorithms?\n",
    "Explain why you made this choice.\n",
    "\n",
    "->I will prefer one-hot-encoding as if i use nominal encoding than it will give unique number to each of the category and the machine learning model will recognize it as the priority that is given to the category and i wont use ordinal encoding because it is used to give rank but here we are not giving any rank and i wont use target guided ordinal encoding because here we dont have any group and neither we want to assign any rank \n",
    "\n",
    "Q5. In a machine learning project, you have a dataset with 1000 rows and 5 columns. Two of the columns\n",
    "are categorical, and the remaining three columns are numerical. If you were to use nominal encoding to\n",
    "transform the categorical data, how many new columns would be created? Show your calculations.\n",
    "\n",
    "-> Two new columns will be created as we only have two categorical data and nominal encoding is only used to assign the value to the categorical data. \n",
    "\n"
   ]
  },
  {
   "cell_type": "code",
   "execution_count": 9,
   "metadata": {},
   "outputs": [
    {
     "name": "stdout",
     "output_type": "stream",
     "text": [
      "   B  D  B_1  B_2  B_3  D_X  D_Y  D_Z\n",
      "0  3  X  0.0  0.0  1.0  1.0  0.0  0.0\n",
      "1  2  X  0.0  1.0  0.0  1.0  0.0  0.0\n",
      "2  3  Y  0.0  0.0  1.0  0.0  1.0  0.0\n",
      "3  3  X  0.0  0.0  1.0  1.0  0.0  0.0\n",
      "4  1  Z  1.0  0.0  0.0  0.0  0.0  1.0\n"
     ]
    },
    {
     "name": "stderr",
     "output_type": "stream",
     "text": [
      "C:\\Users\\jaide\\AppData\\Local\\Packages\\PythonSoftwareFoundation.Python.3.11_qbz5n2kfra8p0\\LocalCache\\local-packages\\Python311\\site-packages\\sklearn\\preprocessing\\_encoders.py:975: FutureWarning: `sparse` was renamed to `sparse_output` in version 1.2 and will be removed in 1.4. `sparse_output` is ignored unless you leave `sparse` to its default value.\n",
      "  warnings.warn(\n"
     ]
    }
   ],
   "source": [
    "import pandas as pd\n",
    "import numpy as np\n",
    "from sklearn.preprocessing import OneHotEncoder\n",
    "\n",
    "# Set a seed for reproducibility\n",
    "np.random.seed(42)\n",
    "\n",
    "# Generate random data for the dataset\n",
    "data = {\n",
    "    'A': np.random.rand(1000),\n",
    "    'B': np.random.randint(1, 4, size=1000),  # Categorical variable with values 1, 2, 3\n",
    "    'C': np.random.rand(1000),\n",
    "    'D': np.random.choice(['X', 'Y', 'Z'], size=1000),  # Categorical variable with values 'X', 'Y', 'Z'\n",
    "    'E': np.random.randn(1000)\n",
    "}\n",
    "\n",
    "# Create a DataFrame\n",
    "df = pd.DataFrame(data)\n",
    "\n",
    "# Extract the categorical columns\n",
    "categorical_columns = ['B', 'D']\n",
    "\n",
    "# Initialize the OneHotEncoder\n",
    "encoder = OneHotEncoder(sparse=False, drop=None)  # Keep all encoded columns\n",
    "\n",
    "# Fit and transform the categorical columns\n",
    "encoded_data = encoder.fit_transform(df[categorical_columns])\n",
    "columns_encoded = encoder.get_feature_names_out(categorical_columns)\n",
    "\n",
    "# Create a DataFrame with the original 'B' and 'D' columns and encoded columns\n",
    "df_encoded = pd.concat([df[['B', 'D']], pd.DataFrame(encoded_data, columns=columns_encoded)], axis=1)\n",
    "\n",
    "# Print the resulting DataFrame\n",
    "print(df_encoded.head())\n"
   ]
  },
  {
   "cell_type": "markdown",
   "metadata": {},
   "source": [
    "Q6. You are working with a dataset containing information about different types of animals, including their\n",
    "species, habitat, and diet. Which encoding technique would you use to transform the categorical data into\n",
    "a format suitable for machine learning algorithms? Justify your answer.\n",
    "\n",
    "-> one-hot-encoding , because we dont want to give any rank to the data \n",
    "\n",
    "Q7.You are working on a project that involves predicting customer churn for a telecommunications\n",
    "company. You have a dataset with 5 features, including the customer's gender, age, contract type,\n",
    "monthly charges, and tenure. Which encoding technique(s) would you use to transform the categorical\n",
    "data into numerical data? Provide a step-by-step explanation of how you would implement the encoding.\n",
    "\n",
    "-> I will do the one-hot-encoding for gender, age and contract and for the monthly charges and tenure i will do the target guided ordinal encoding . \n",
    "\n",
    "steps : \n",
    "\n",
    "1. do the one-hot-encoding for the gender , age and contract and than use the mean to calculate the target guided ordinal encodign for the monthly charges and tenure "
   ]
  }
 ],
 "metadata": {
  "kernelspec": {
   "display_name": "Python 3",
   "language": "python",
   "name": "python3"
  },
  "language_info": {
   "codemirror_mode": {
    "name": "ipython",
    "version": 3
   },
   "file_extension": ".py",
   "mimetype": "text/x-python",
   "name": "python",
   "nbconvert_exporter": "python",
   "pygments_lexer": "ipython3",
   "version": "3.11.6"
  }
 },
 "nbformat": 4,
 "nbformat_minor": 2
}
