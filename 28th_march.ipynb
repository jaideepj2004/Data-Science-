{
 "cells": [
  {
   "cell_type": "markdown",
   "metadata": {},
   "source": [
    "Q1. What is Ridge Regression, and how does it differ from ordinary least squares regression?\n",
    "\n",
    "-> Ridge regression is used to train model which deals with overfitting. It has an additional lambda* summation(slope square). This additional terms is added to the least square equation of the cost function.\n",
    "\n",
    "Q2. What are the assumptions of Ridge Regression?\n",
    "\n",
    "-> There is a linear relationship between the independent and dependent feature . All the variable are independent \n",
    "\n",
    "Q3. How do you select the value of the tuning parameter (lambda) in Ridge Regression?\n",
    "\n",
    "-> One method to select a hyper tuning parameter is by cheking the accuracy of the model for each value of lambda and another method is by cross-validation.\n",
    "\n",
    "Q4. Can Ridge Regression be used for feature selection? If yes, how?\n",
    "\n",
    "-> Yes , we can check the accuracy of the model by dropping a particular variable , and if the accuracy of the model increases than we can permanently drop that feature else we wont , thus we can use Ridge Regression for feature selection .\n",
    "\n",
    "Q5. How does the Ridge Regression model perform in the presence of multicollinearity?\n",
    "\n",
    "-> Accuracy of the Ridge Regression model increases when we have multicollinearity with respect to the Linear Regression model as the least sqaured cost function of the linear model does not perform well when we have multicollineaerity , wheareas adding an extra term to the least squared cost function (term used for the Ridge Regression) decreases this issue and thus the accuracy of the model increases.\n",
    "\n",
    "Q6. Can Ridge Regression handle both categorical and continuous independent variables?\n",
    "\n",
    "-> Yes , by using the data encoding we can convert the categorical variable into numerical variable and for continuous independent variable . we can use floor function or assign discrete value for the continuous variable . By doing the above two things we can convert the categorical variable and contnuous independent variable into discrete numerical value and thus we can use Ridge Regression model for both these types of variable .\n",
    "\n",
    "Q7. How do you interpret the coefficients of Ridge Regression?\n",
    "\n",
    "-> The coeffiecient of the Ridge Regression is inversely proportional to the value of lambda .\n",
    "\n",
    "Q8. Can Ridge Regression be used for time-series data analysis? If yes, how?\n",
    "\n",
    "-> Yes Ridge Regression can be used for the time-series data analysis , by continuously feeding the new data to the model and everything else remains the same . However it is not possible as per my present knowledge to do feature engineering for every new batch of data."
   ]
  }
 ],
 "metadata": {
  "language_info": {
   "name": "python"
  }
 },
 "nbformat": 4,
 "nbformat_minor": 2
}
