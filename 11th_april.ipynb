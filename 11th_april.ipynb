{
 "cells": [
  {
   "cell_type": "markdown",
   "metadata": {},
   "source": [
    "Q1. What is an ensemble technique in machine learning?\n",
    "\n",
    "-> Ensemble tecnhique is a technique in a machine learning where we combine different/ same machine learning model which are trained parallelly and the outut is taken by maximum votes for classification problem and average for the regression problem \n",
    "\n",
    "Q2. Why are ensemble techniques used in machine learning?\n",
    "\n",
    "-> Ensemble technique are used to increase the accuracy of the model , as all the individual models used in ensemble have their own speciality and drawback because of which when we use their combined result the accuracy of the model increases \n",
    "\n",
    "Q3. What is bagging?\n",
    "\n",
    "-> Bagging is one of the technique that is used in machine learning , here we have one sub category which is Random forest classifier and regressor . In bagging the dataset is shared between various model , bagging technique is also called as Bootstap aggregation because first we perform bootstrap from dataset to all the model and then we perform aggregation to get the result from the ensembled model \n",
    "\n",
    "Q4. What is boosting?\n",
    "\n",
    "-> Boosting in another category present in ensemble technique , here we have three different sub classes namely , adaboost , gradient boost , xg boost , they all can perform both regression and classification \n",
    "\n",
    "Q5. What are the benefits of using ensemble techniques?\n",
    "\n",
    "-> The accuracy of the model increases and all the good qualities of the model can be used and their bad quality can be averaged \n",
    "\n",
    "Q6. Are ensemble techniques always better than individual models?\n",
    "\n",
    "-> No it is not neccessary that ensemble techniques are better than individual models , it totally depends on the dataset , although ensemble technique sometime perform well but it is not necessary that will always perform well\n",
    "\n",
    "Q7. How is the confidence interval calculated using bootstrap?\n",
    "\n",
    "Bootstrap confidence interval is calculated by repeatedly resampling data with replacement, calculating the statistic of interest (e.g., mean) for each sample, and then determining the range of values that contains a specified percentage of the resulting distribution (commonly 95%).\n",
    "\n",
    "Q8. How does bootstrap work and What are the steps involved in bootstrap?\n",
    "\n",
    "-> Bootstrap in bagging involves randomly sampling with replacement to create diverse subsets for training base models, aiming to reduce overfitting. The steps are random sampling, training, predictions, and aggregation.\n",
    "\n",
    "Q9. A researcher wants to estimate the mean height of a population of trees. They measure the height of a\n",
    "sample of 50 trees and obtain a mean height of 15 meters and a standard deviation of 2 meters. Use\n",
    "bootstrap to estimate the 95% confidence interval for the population mean height.\n",
    "\n",
    "-> "
   ]
  },
  {
   "cell_type": "code",
   "execution_count": 1,
   "metadata": {},
   "outputs": [
    {
     "name": "stdout",
     "output_type": "stream",
     "text": [
      "Bootstrap 95% Confidence Interval for Mean Height: [15.15713345 16.10857471]\n"
     ]
    }
   ],
   "source": [
    "import numpy as np\n",
    "\n",
    "# Given sample data\n",
    "sample_heights = np.random.normal(loc=15, scale=2, size=50)  # Assuming a normal distribution for demonstration\n",
    "\n",
    "# Number of bootstrap samples\n",
    "num_bootstrap_samples = 10000\n",
    "\n",
    "# Bootstrap resampling and mean calculation\n",
    "bootstrap_sample_means = np.zeros(num_bootstrap_samples)\n",
    "\n",
    "for i in range(num_bootstrap_samples):\n",
    "    bootstrap_sample = np.random.choice(sample_heights, size=len(sample_heights), replace=True)\n",
    "    bootstrap_sample_means[i] = np.mean(bootstrap_sample)\n",
    "\n",
    "# Confidence interval calculation\n",
    "confidence_interval = np.percentile(bootstrap_sample_means, [2.5, 97.5])\n",
    "\n",
    "# Display the results\n",
    "print(\"Bootstrap 95% Confidence Interval for Mean Height:\", confidence_interval)\n"
   ]
  },
  {
   "cell_type": "code",
   "execution_count": null,
   "metadata": {},
   "outputs": [],
   "source": []
  }
 ],
 "metadata": {
  "kernelspec": {
   "display_name": "Python 3",
   "language": "python",
   "name": "python3"
  },
  "language_info": {
   "codemirror_mode": {
    "name": "ipython",
    "version": 3
   },
   "file_extension": ".py",
   "mimetype": "text/x-python",
   "name": "python",
   "nbconvert_exporter": "python",
   "pygments_lexer": "ipython3",
   "version": "3.11.6"
  }
 },
 "nbformat": 4,
 "nbformat_minor": 2
}
